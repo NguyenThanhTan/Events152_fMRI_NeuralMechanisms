{
 "cells": [
  {
   "cell_type": "code",
   "execution_count": 1,
   "metadata": {},
   "outputs": [],
   "source": [
    "import pandas as pd\n",
    "import matplotlib.pyplot as plt\n",
    "import math\n",
    "import numpy as np\n",
    "from scipy import stats\n",
    "from scipy.stats import zscore\n",
    "from scipy.interpolate import interp1d\n",
    "from glob import glob\n",
    "import csv\n",
    "import seaborn as sns\n",
    "import string\n",
    "from string import digits\n",
    "import colorcet as cc\n",
    "import ast\n",
    "import os\n",
    "import plotly.express as px\n",
    "import plotly.graph_objects as go\n",
    "from plotly.subplots import make_subplots\n",
    "import plotly.io as pio\n",
    "\n",
    "sns.set(font_scale=1)\n"
   ]
  },
  {
   "cell_type": "markdown",
   "metadata": {},
   "source": [
    "This notebook load raw PsychoPy data in C:\\Users\\nguye\\Box\\DCL_ARCHIVE\\Documents\\Events\\exp152_fMRIneuralmechanisms\\exp152_Session_2\\data and extract recognition, recall, and segmentation data in the second session. Recognition and Recall output is in memory_df.csv, segmentation output is in segmentation_df_08_15_2023.csv (last run to include all subjects)."
   ]
  },
  {
   "attachments": {},
   "cell_type": "markdown",
   "metadata": {},
   "source": [
    "General notes (05/03/2023): whether a subject is cf or fc depends on the output of PsychoPy (recognition and segmentation, recall is the same). Moreover, a subject can be cf for recognition but fc for segmentation. This is because some subjects did not finish session 2 in a single round, but needs multiple rounds due to computer crashes, participants have to leave and come back, etc. Moreover, even with segmentation data, if participants complete fine and coarse segmentation in different rounds, they can have different cf/fc status. To determine exactly cf/fc status, we need to look at the recorded data files. \n",
    "In the Memory session, cf/fc status was finalized by Tan on 05/03/2023. \n",
    "In the Segmentation session, cf/fc status was finalized by Tan on 05/03/2023. "
   ]
  },
  {
   "attachments": {},
   "cell_type": "markdown",
   "metadata": {},
   "source": [
    "# Memory"
   ]
  },
  {
   "cell_type": "code",
   "execution_count": 50,
   "metadata": {},
   "outputs": [
    {
     "data": {
      "text/plain": [
       "(24, 23)"
      ]
     },
     "execution_count": 50,
     "metadata": {},
     "output_type": "execute_result"
    }
   ],
   "source": [
    "# There are differences in the column names psychopy output, so it's important to load participants separately by condition\n",
    "# note that cf doesn't necessarily mean segmentation data for the participant is coarse-fine, for example: subject 26's recognition/recall data is in cf format, but they did the fine then coarse segmentation. This is because psychopy crashed while doing segmentation, so they had to restart the experiment in a different order.\n",
    "cf_subjects = ['e152004', 'e152007', 'e152009', 'e152010', 'e152014', 'e152016',\n",
    "               'e152018', 'e152020v2', 'e152022', 'e152024', 'e152026', 'e152027', 'e152028', 'e152029', 'e152030', 'e152032', 'e152034', 'e152036', 'e152038', 'e152042', 'e152045', 'e152047', 'e152050', 'e152052']\n",
    "fc_subjects = ['e152003', 'e152008', 'e152011', 'e152013', 'e152015', 'e152017', 'e152019',\n",
    "               'e152021', 'e152023', 'e152025', 'e152031', 'e152033', 'e152035', 'e152037', 'e152039', 'e152040', 'e152041', 'e152043', 'e152044', 'e152046', 'e152049', 'e152051', 'e152053']\n",
    "\n",
    "# sum to 47 corresponding to 47 fMRI participants, good!\n",
    "len(cf_subjects), len(fc_subjects)\n"
   ]
  },
  {
   "cell_type": "code",
   "execution_count": 51,
   "metadata": {},
   "outputs": [],
   "source": [
    "def check_in_cf_fc(s2file):\n",
    "    sub = os.path.basename(s2file).split('_')[0]\n",
    "    if sub in cf_subjects + fc_subjects:\n",
    "        return True\n",
    "    else:\n",
    "        return False\n",
    "\n",
    "\n",
    "# Load recall/recognition output files from PsychoPy:\n",
    "s2files = glob(\n",
    "    r'C:\\Users\\nguye\\Box\\DCL_ARCHIVE\\Documents\\Events\\exp152_fMRIneuralmechanisms\\exp152_Session_2\\data\\e*.csv')\n",
    "\n",
    "# there are duplicates of the same participant, and we want to use the most updated version only, which is in the cf/fc lists.\n",
    "s2files = [s2file for s2file in s2files if check_in_cf_fc(s2file)]\n"
   ]
  },
  {
   "attachments": {},
   "cell_type": "markdown",
   "metadata": {},
   "source": [
    "## Recall"
   ]
  },
  {
   "cell_type": "code",
   "execution_count": 52,
   "metadata": {},
   "outputs": [
    {
     "name": "stdout",
     "output_type": "stream",
     "text": [
      "Attribute Error:  nan C:\\Users\\nguye\\Box\\DCL_ARCHIVE\\Documents\\Events\\exp152_fMRIneuralmechanisms\\exp152_Session_2\\data\\e152004_exp152_session_2_2021_May_18_1411.csv\n",
      "Attribute Error:  nan C:\\Users\\nguye\\Box\\DCL_ARCHIVE\\Documents\\Events\\exp152_fMRIneuralmechanisms\\exp152_Session_2\\data\\e152028_exp152_session_2_2021_Dec_17_0751.csv\n"
     ]
    }
   ],
   "source": [
    "# TODO: overall, make sure to select the right columns, and make sure the difference between FC and CF (that has different column names) is accounted for.\n",
    "# TODO: pay attention to idyo subjects raw data files and how they're processed.\n",
    "# TODO: there're lots of exceptions raised here, come back later\n",
    "'''\n",
    "FREE RECALL\n",
    "'''\n",
    "# subject 28 miss one recall data for video 2.4.1\n",
    "# Recall rows can be indexed by actor face shown:\n",
    "faces = ['images/1.2.3.face.png', 'images/6.3.9.face.png',\n",
    "         'images/3.1.3.face.png', 'images/2.4.1.face.png']\n",
    "recalldf = pd.DataFrame()\n",
    "\n",
    "for s2file in s2files:\n",
    "    try:\n",
    "        # s2file = r'C:\\Users\\nguye\\Box\\DCL_ARCHIVE\\Documents\\Events\\exp152_fMRIneuralmechanisms\\exp152_Session_2\\data\\e152028_exp152_session_2_2021_Dec_17_0751.csv'\n",
    "        sub = os.path.basename(s2file).split('_')[0]\n",
    "\n",
    "        df = pd.read_csv(s2file)\n",
    "        for i, face in enumerate(faces):\n",
    "            # recall is in textbox.text column\n",
    "            # print(df[df.face==face]['textbox.text'].values[0])\n",
    "            recall = df[df.face == face]['textbox.text'].values[0]\n",
    "            filtered_sentence = []\n",
    "            # Remove digits\n",
    "            remove_digits = str.maketrans('', '', digits)\n",
    "            try:\n",
    "                res = recall.translate(remove_digits)\n",
    "            except AttributeError:\n",
    "                print(\"Attribute Error: \", recall, s2file)\n",
    "            # Make lower case\n",
    "            sl = res.lower()\n",
    "            # Remove punctuation\n",
    "            table = str.maketrans(\n",
    "                {key: None for key in string.punctuation})\n",
    "            slnp = sl.translate(table)\n",
    "            split_str = slnp.split()\n",
    "            filtered_sentence = split_str\n",
    "            # Remove stopwords\n",
    "            #filtered_sentence = [w for w in split_str if not w in s_words]\n",
    "\n",
    "            # print(filtered_sentence)\n",
    "            tdf = pd.DataFrame({'sub': [sub], 'movie': [face.split('/')[1][:-9]], 'recall_raw': [\n",
    "                                recall], 'recall_filtered': [filtered_sentence], 'filtered_length': len(filtered_sentence)})\n",
    "            recalldf = pd.concat([recalldf, tdf], ignore_index=True)\n",
    "    except Exception as e:\n",
    "        print(e)\n",
    "        print(s2file)\n"
   ]
  },
  {
   "cell_type": "code",
   "execution_count": null,
   "metadata": {},
   "outputs": [],
   "source": [
    "recalldf[recalldf['sub'] == 'e152004']"
   ]
  },
  {
   "cell_type": "code",
   "execution_count": 55,
   "metadata": {},
   "outputs": [
    {
     "data": {
      "text/html": [
       "<div>\n",
       "<style scoped>\n",
       "    .dataframe tbody tr th:only-of-type {\n",
       "        vertical-align: middle;\n",
       "    }\n",
       "\n",
       "    .dataframe tbody tr th {\n",
       "        vertical-align: top;\n",
       "    }\n",
       "\n",
       "    .dataframe thead th {\n",
       "        text-align: right;\n",
       "    }\n",
       "</style>\n",
       "<table border=\"1\" class=\"dataframe\">\n",
       "  <thead>\n",
       "    <tr style=\"text-align: right;\">\n",
       "      <th></th>\n",
       "      <th>sub</th>\n",
       "      <th>movie</th>\n",
       "      <th>recall_raw</th>\n",
       "      <th>recall_filtered</th>\n",
       "      <th>filtered_length</th>\n",
       "      <th>filtered_length_scaled</th>\n",
       "    </tr>\n",
       "  </thead>\n",
       "  <tbody>\n",
       "    <tr>\n",
       "      <th>88</th>\n",
       "      <td>e152028</td>\n",
       "      <td>1.2.3</td>\n",
       "      <td>\\n</td>\n",
       "      <td>[]</td>\n",
       "      <td>0</td>\n",
       "      <td>-1.260477</td>\n",
       "    </tr>\n",
       "    <tr>\n",
       "      <th>89</th>\n",
       "      <td>e152028</td>\n",
       "      <td>6.3.9</td>\n",
       "      <td>NaN</td>\n",
       "      <td>[]</td>\n",
       "      <td>0</td>\n",
       "      <td>-1.260477</td>\n",
       "    </tr>\n",
       "    <tr>\n",
       "      <th>90</th>\n",
       "      <td>e152028</td>\n",
       "      <td>3.1.3</td>\n",
       "      <td>\\n</td>\n",
       "      <td>[]</td>\n",
       "      <td>0</td>\n",
       "      <td>-1.260477</td>\n",
       "    </tr>\n",
       "    <tr>\n",
       "      <th>91</th>\n",
       "      <td>e152028</td>\n",
       "      <td>2.4.1</td>\n",
       "      <td>\\nThis man walks into a bedroom carrying a ham...</td>\n",
       "      <td>[this, man, walks, into, a, bedroom, carrying,...</td>\n",
       "      <td>97</td>\n",
       "      <td>-0.273061</td>\n",
       "    </tr>\n",
       "  </tbody>\n",
       "</table>\n",
       "</div>"
      ],
      "text/plain": [
       "        sub  movie                                         recall_raw  \\\n",
       "88  e152028  1.2.3                                                 \\n   \n",
       "89  e152028  6.3.9                                                NaN   \n",
       "90  e152028  3.1.3                                                 \\n   \n",
       "91  e152028  2.4.1  \\nThis man walks into a bedroom carrying a ham...   \n",
       "\n",
       "                                      recall_filtered  filtered_length  \\\n",
       "88                                                 []                0   \n",
       "89                                                 []                0   \n",
       "90                                                 []                0   \n",
       "91  [this, man, walks, into, a, bedroom, carrying,...               97   \n",
       "\n",
       "    filtered_length_scaled  \n",
       "88               -1.260477  \n",
       "89               -1.260477  \n",
       "90               -1.260477  \n",
       "91               -0.273061  "
      ]
     },
     "execution_count": 55,
     "metadata": {},
     "output_type": "execute_result"
    }
   ],
   "source": [
    "recalldf[recalldf['sub'] == 'e152028']"
   ]
  },
  {
   "cell_type": "code",
   "execution_count": 56,
   "metadata": {},
   "outputs": [],
   "source": [
    "recalldf['filtered_length_scaled'] = stats.zscore(recalldf['filtered_length'])"
   ]
  },
  {
   "cell_type": "code",
   "execution_count": 57,
   "metadata": {},
   "outputs": [
    {
     "data": {
      "text/plain": [
       "array(['e152003', 'e152004', 'e152007', 'e152008', 'e152009', 'e152010',\n",
       "       'e152011', 'e152013', 'e152014', 'e152015', 'e152016', 'e152017',\n",
       "       'e152018', 'e152019', 'e152020v2', 'e152021', 'e152022', 'e152023',\n",
       "       'e152024', 'e152025', 'e152026', 'e152027', 'e152028', 'e152029',\n",
       "       'e152030', 'e152031', 'e152032', 'e152033', 'e152034', 'e152035',\n",
       "       'e152036', 'e152037', 'e152038', 'e152039', 'e152040', 'e152041',\n",
       "       'e152042', 'e152043', 'e152044', 'e152045', 'e152046', 'e152047',\n",
       "       'e152049', 'e152050', 'e152051', 'e152052', 'e152053'],\n",
       "      dtype=object)"
      ]
     },
     "execution_count": 57,
     "metadata": {},
     "output_type": "execute_result"
    }
   ],
   "source": [
    "recalldf['sub'].unique()"
   ]
  },
  {
   "attachments": {},
   "cell_type": "markdown",
   "metadata": {},
   "source": [
    "## Recognition"
   ]
  },
  {
   "cell_type": "code",
   "execution_count": 58,
   "metadata": {},
   "outputs": [],
   "source": [
    "'''\n",
    "RECOGNITION\n",
    "'''\n",
    "# NOTE: There's a bug in the experiment script for auto-calculating accuracy on run 3 (3.1.3) for subjects e152003 and e152004,\n",
    "# so accuracy should be re-calculated based on the correct response and subject response columns\n",
    "# Also, for these two participants, the successive runs are in different columns, requiring work-arounds.\n",
    "\n",
    "recogdf = pd.DataFrame()\n",
    "for s2file in s2files:\n",
    "    sub = os.path.basename(s2file).split('_')[0]\n",
    "    try:\n",
    "        # s2file='/Users/bezdek/Box/DCL_ARCHIVE/Documents/Events/exp152_fMRIneuralmechanisms/exp152_Session_2/data/e152011_exp152_session_2_2021_Aug_30_1305.csv'\n",
    "        if sub in ['e152003', 'e152004']:\n",
    "            df = pd.read_csv(s2file)\n",
    "            df['key_resp.keys'] = df['key_resp.keys'].combine_first(\n",
    "                df['key_resp_7.keys'])\n",
    "            df['key_resp.rt'] = df['key_resp.rt'].combine_first(\n",
    "                df['key_resp_7.rt'])\n",
    "            df['key_resp.keys'] = df['key_resp.keys'].combine_first(\n",
    "                df['key_resp_8.keys'])\n",
    "            df['key_resp.rt'] = df['key_resp.rt'].combine_first(\n",
    "                df['key_resp_8.rt'])\n",
    "            df['key_resp.keys'] = df['key_resp.keys'].combine_first(\n",
    "                df['key_resp_9.keys'])\n",
    "            df['key_resp.rt'] = df['key_resp.rt'].combine_first(\n",
    "                df['key_resp_9.rt'])\n",
    "            df['recog_resp.corr'] = np.where(((df['key_resp.keys'] == 'right') & (df['corrAns'] == 'right')) | (\n",
    "                (df['key_resp.keys'] == 'left') & (df['corrAns'] == 'left')), 1, 0)\n",
    "            df = df.rename(\n",
    "                columns={'key_resp.keys': 'recog_resp.keys', 'key_resp.rt': 'recog_resp.rt'})\n",
    "            df = df[['movie', 'task', 'image', 'corrAns', 'trial_type',\n",
    "                     'recog_resp.keys', 'recog_resp.corr', 'recog_resp.rt']]\n",
    "        elif sub in fc_subjects:\n",
    "            df = pd.read_csv(s2file)\n",
    "            # select columns and rows:\n",
    "            df = df[['movie', 'task', 'image', 'corrAns', 'trial_type',\n",
    "                     'recog_resp.keys', 'recog_resp.corr', 'recog_resp.rt']]\n",
    "        elif sub in cf_subjects:\n",
    "            df = pd.read_csv(s2file)\n",
    "            # select columns and rows:\n",
    "            df = df[['movie', 'task', 'image', 'corrAns', 'trial_type',\n",
    "                     'key_resp.keys', 'key_resp.corr', 'key_resp.rt']]\n",
    "            df = df.rename(columns={'key_resp.keys': 'recog_resp.keys',\n",
    "                           'key_resp.corr': 'recog_resp.corr', 'key_resp.rt': 'recog_resp.rt'})\n",
    "\n",
    "        df = df[(df.task == 'recog') & (df.movie != 'legos2')]\n",
    "        df = df.groupby(['movie', 'trial_type']).mean(numeric_only=True)\n",
    "        df['sub'] = sub\n",
    "        df['movie'] = [x[0] for x in df.index]\n",
    "        df['trial_type'] = [x[1] for x in df.index]\n",
    "        recogdf = pd.concat([recogdf, df], ignore_index=True)\n",
    "    except Exception as e:\n",
    "        print(e, sub)\n",
    "        print(s2file)\n"
   ]
  },
  {
   "cell_type": "code",
   "execution_count": 59,
   "metadata": {},
   "outputs": [
    {
     "data": {
      "text/plain": [
       "array(['e152003', 'e152004', 'e152007', 'e152008', 'e152009', 'e152010',\n",
       "       'e152011', 'e152013', 'e152014', 'e152015', 'e152016', 'e152017',\n",
       "       'e152018', 'e152019', 'e152020v2', 'e152021', 'e152022', 'e152023',\n",
       "       'e152024', 'e152025', 'e152026', 'e152027', 'e152028', 'e152029',\n",
       "       'e152030', 'e152031', 'e152032', 'e152033', 'e152034', 'e152035',\n",
       "       'e152036', 'e152037', 'e152038', 'e152039', 'e152040', 'e152041',\n",
       "       'e152042', 'e152043', 'e152044', 'e152045', 'e152046', 'e152047',\n",
       "       'e152049', 'e152050', 'e152051', 'e152052', 'e152053'],\n",
       "      dtype=object)"
      ]
     },
     "execution_count": 59,
     "metadata": {},
     "output_type": "execute_result"
    }
   ],
   "source": [
    "recogdf['sub'].unique()"
   ]
  },
  {
   "cell_type": "code",
   "execution_count": 60,
   "metadata": {},
   "outputs": [
    {
     "data": {
      "text/html": [
       "<div>\n",
       "<style scoped>\n",
       "    .dataframe tbody tr th:only-of-type {\n",
       "        vertical-align: middle;\n",
       "    }\n",
       "\n",
       "    .dataframe tbody tr th {\n",
       "        vertical-align: top;\n",
       "    }\n",
       "\n",
       "    .dataframe thead th {\n",
       "        text-align: right;\n",
       "    }\n",
       "</style>\n",
       "<table border=\"1\" class=\"dataframe\">\n",
       "  <thead>\n",
       "    <tr style=\"text-align: right;\">\n",
       "      <th></th>\n",
       "      <th>recog_resp.corr</th>\n",
       "      <th>recog_resp.rt</th>\n",
       "      <th>sub</th>\n",
       "      <th>movie</th>\n",
       "      <th>trial_type</th>\n",
       "    </tr>\n",
       "  </thead>\n",
       "  <tbody>\n",
       "    <tr>\n",
       "      <th>0</th>\n",
       "      <td>0.750000</td>\n",
       "      <td>1.228249</td>\n",
       "      <td>e152003</td>\n",
       "      <td>1.2.3</td>\n",
       "      <td>lure</td>\n",
       "    </tr>\n",
       "    <tr>\n",
       "      <th>1</th>\n",
       "      <td>0.842105</td>\n",
       "      <td>1.542761</td>\n",
       "      <td>e152003</td>\n",
       "      <td>1.2.3</td>\n",
       "      <td>old</td>\n",
       "    </tr>\n",
       "    <tr>\n",
       "      <th>2</th>\n",
       "      <td>0.850000</td>\n",
       "      <td>1.623031</td>\n",
       "      <td>e152003</td>\n",
       "      <td>2.4.1</td>\n",
       "      <td>lure</td>\n",
       "    </tr>\n",
       "    <tr>\n",
       "      <th>3</th>\n",
       "      <td>0.666667</td>\n",
       "      <td>1.607780</td>\n",
       "      <td>e152003</td>\n",
       "      <td>2.4.1</td>\n",
       "      <td>old</td>\n",
       "    </tr>\n",
       "    <tr>\n",
       "      <th>4</th>\n",
       "      <td>0.650000</td>\n",
       "      <td>1.670984</td>\n",
       "      <td>e152003</td>\n",
       "      <td>3.1.3</td>\n",
       "      <td>lure</td>\n",
       "    </tr>\n",
       "    <tr>\n",
       "      <th>...</th>\n",
       "      <td>...</td>\n",
       "      <td>...</td>\n",
       "      <td>...</td>\n",
       "      <td>...</td>\n",
       "      <td>...</td>\n",
       "    </tr>\n",
       "    <tr>\n",
       "      <th>371</th>\n",
       "      <td>0.952381</td>\n",
       "      <td>1.657716</td>\n",
       "      <td>e152053</td>\n",
       "      <td>2.4.1</td>\n",
       "      <td>old</td>\n",
       "    </tr>\n",
       "    <tr>\n",
       "      <th>372</th>\n",
       "      <td>0.750000</td>\n",
       "      <td>4.222865</td>\n",
       "      <td>e152053</td>\n",
       "      <td>3.1.3</td>\n",
       "      <td>lure</td>\n",
       "    </tr>\n",
       "    <tr>\n",
       "      <th>373</th>\n",
       "      <td>0.947368</td>\n",
       "      <td>2.427225</td>\n",
       "      <td>e152053</td>\n",
       "      <td>3.1.3</td>\n",
       "      <td>old</td>\n",
       "    </tr>\n",
       "    <tr>\n",
       "      <th>374</th>\n",
       "      <td>0.450000</td>\n",
       "      <td>2.537419</td>\n",
       "      <td>e152053</td>\n",
       "      <td>6.3.9</td>\n",
       "      <td>lure</td>\n",
       "    </tr>\n",
       "    <tr>\n",
       "      <th>375</th>\n",
       "      <td>0.523810</td>\n",
       "      <td>2.444307</td>\n",
       "      <td>e152053</td>\n",
       "      <td>6.3.9</td>\n",
       "      <td>old</td>\n",
       "    </tr>\n",
       "  </tbody>\n",
       "</table>\n",
       "<p>376 rows × 5 columns</p>\n",
       "</div>"
      ],
      "text/plain": [
       "     recog_resp.corr  recog_resp.rt      sub  movie trial_type\n",
       "0           0.750000       1.228249  e152003  1.2.3       lure\n",
       "1           0.842105       1.542761  e152003  1.2.3        old\n",
       "2           0.850000       1.623031  e152003  2.4.1       lure\n",
       "3           0.666667       1.607780  e152003  2.4.1        old\n",
       "4           0.650000       1.670984  e152003  3.1.3       lure\n",
       "..               ...            ...      ...    ...        ...\n",
       "371         0.952381       1.657716  e152053  2.4.1        old\n",
       "372         0.750000       4.222865  e152053  3.1.3       lure\n",
       "373         0.947368       2.427225  e152053  3.1.3        old\n",
       "374         0.450000       2.537419  e152053  6.3.9       lure\n",
       "375         0.523810       2.444307  e152053  6.3.9        old\n",
       "\n",
       "[376 rows x 5 columns]"
      ]
     },
     "execution_count": 60,
     "metadata": {},
     "output_type": "execute_result"
    }
   ],
   "source": [
    "recogdf"
   ]
  },
  {
   "cell_type": "code",
   "execution_count": 47,
   "metadata": {},
   "outputs": [
    {
     "data": {
      "text/html": [
       "<div>\n",
       "<style scoped>\n",
       "    .dataframe tbody tr th:only-of-type {\n",
       "        vertical-align: middle;\n",
       "    }\n",
       "\n",
       "    .dataframe tbody tr th {\n",
       "        vertical-align: top;\n",
       "    }\n",
       "\n",
       "    .dataframe thead th {\n",
       "        text-align: right;\n",
       "    }\n",
       "</style>\n",
       "<table border=\"1\" class=\"dataframe\">\n",
       "  <thead>\n",
       "    <tr style=\"text-align: right;\">\n",
       "      <th>trial_type</th>\n",
       "      <th>sub</th>\n",
       "      <th>movie</th>\n",
       "      <th>lure</th>\n",
       "      <th>old</th>\n",
       "    </tr>\n",
       "  </thead>\n",
       "  <tbody>\n",
       "    <tr>\n",
       "      <th>0</th>\n",
       "      <td>e152005</td>\n",
       "      <td>1.2.3</td>\n",
       "      <td>0.55</td>\n",
       "      <td>0.894737</td>\n",
       "    </tr>\n",
       "    <tr>\n",
       "      <th>1</th>\n",
       "      <td>e152005</td>\n",
       "      <td>2.4.1</td>\n",
       "      <td>0.65</td>\n",
       "      <td>0.857143</td>\n",
       "    </tr>\n",
       "    <tr>\n",
       "      <th>2</th>\n",
       "      <td>e152005</td>\n",
       "      <td>3.1.3</td>\n",
       "      <td>0.70</td>\n",
       "      <td>1.000000</td>\n",
       "    </tr>\n",
       "    <tr>\n",
       "      <th>3</th>\n",
       "      <td>e152005</td>\n",
       "      <td>6.3.9</td>\n",
       "      <td>0.50</td>\n",
       "      <td>0.904762</td>\n",
       "    </tr>\n",
       "    <tr>\n",
       "      <th>4</th>\n",
       "      <td>e152006</td>\n",
       "      <td>1.2.3</td>\n",
       "      <td>0.90</td>\n",
       "      <td>0.947368</td>\n",
       "    </tr>\n",
       "    <tr>\n",
       "      <th>...</th>\n",
       "      <td>...</td>\n",
       "      <td>...</td>\n",
       "      <td>...</td>\n",
       "      <td>...</td>\n",
       "    </tr>\n",
       "    <tr>\n",
       "      <th>183</th>\n",
       "      <td>e152052</td>\n",
       "      <td>6.3.9</td>\n",
       "      <td>0.80</td>\n",
       "      <td>0.666667</td>\n",
       "    </tr>\n",
       "    <tr>\n",
       "      <th>184</th>\n",
       "      <td>e152053</td>\n",
       "      <td>1.2.3</td>\n",
       "      <td>0.95</td>\n",
       "      <td>1.000000</td>\n",
       "    </tr>\n",
       "    <tr>\n",
       "      <th>185</th>\n",
       "      <td>e152053</td>\n",
       "      <td>2.4.1</td>\n",
       "      <td>0.40</td>\n",
       "      <td>0.952381</td>\n",
       "    </tr>\n",
       "    <tr>\n",
       "      <th>186</th>\n",
       "      <td>e152053</td>\n",
       "      <td>3.1.3</td>\n",
       "      <td>0.75</td>\n",
       "      <td>0.947368</td>\n",
       "    </tr>\n",
       "    <tr>\n",
       "      <th>187</th>\n",
       "      <td>e152053</td>\n",
       "      <td>6.3.9</td>\n",
       "      <td>0.45</td>\n",
       "      <td>0.523810</td>\n",
       "    </tr>\n",
       "  </tbody>\n",
       "</table>\n",
       "<p>188 rows × 4 columns</p>\n",
       "</div>"
      ],
      "text/plain": [
       "trial_type      sub  movie  lure       old\n",
       "0           e152005  1.2.3  0.55  0.894737\n",
       "1           e152005  2.4.1  0.65  0.857143\n",
       "2           e152005  3.1.3  0.70  1.000000\n",
       "3           e152005  6.3.9  0.50  0.904762\n",
       "4           e152006  1.2.3  0.90  0.947368\n",
       "..              ...    ...   ...       ...\n",
       "183         e152052  6.3.9  0.80  0.666667\n",
       "184         e152053  1.2.3  0.95  1.000000\n",
       "185         e152053  2.4.1  0.40  0.952381\n",
       "186         e152053  3.1.3  0.75  0.947368\n",
       "187         e152053  6.3.9  0.45  0.523810\n",
       "\n",
       "[188 rows x 4 columns]"
      ]
     },
     "execution_count": 47,
     "metadata": {},
     "output_type": "execute_result"
    }
   ],
   "source": [
    "# pivot to wide format\n",
    "recogdf_wide = recogdf.pivot_table(\n",
    "    index=['sub', 'movie'], columns='trial_type', values='recog_resp.corr').reset_index()\n",
    "recogdf_wide"
   ]
  },
  {
   "cell_type": "code",
   "execution_count": 13,
   "metadata": {},
   "outputs": [],
   "source": [
    "# compute sensitivity (d') and bias/criterion\n",
    "recogdf_wide['dprime'] = 0\n",
    "recogdf_wide['bias'] = 0\n",
    "for sub in recogdf_wide['sub'].unique():\n",
    "    for movie in recogdf_wide.movie.unique():\n",
    "        tempdf = recogdf_wide[(recogdf_wide['sub'] == sub)\n",
    "                              & (recogdf_wide['movie'] == movie)]\n",
    "        # add correction for 100 percent hits / correct rejections\n",
    "        hit = tempdf.old.item()\n",
    "        # Correct for perfect\n",
    "        if hit == 1:\n",
    "            hit = .975\n",
    "        if hit == 0:\n",
    "            hit = .025\n",
    "        miss = 1 - hit\n",
    "        cr = tempdf.lure.item()\n",
    "        if cr == 1:\n",
    "            cr = .975\n",
    "        if cr == 0:\n",
    "            cr = .025\n",
    "        fa = 1 - cr\n",
    "\n",
    "        dprime = stats.norm.ppf(hit) - stats.norm.ppf(fa)\n",
    "        c = -(stats.norm.ppf(hit) + stats.norm.ppf(fa))/2.0\n",
    "        recogdf_wide.loc[(recogdf_wide['sub'] == sub) & (\n",
    "            recogdf_wide['movie'] == movie), 'dprime'] = dprime.item()\n",
    "        recogdf_wide.loc[(recogdf_wide['sub'] == sub) & (\n",
    "            recogdf_wide['movie'] == movie), 'bias'] = c.item()\n"
   ]
  },
  {
   "cell_type": "code",
   "execution_count": 14,
   "metadata": {},
   "outputs": [
    {
     "data": {
      "text/html": [
       "<div>\n",
       "<style scoped>\n",
       "    .dataframe tbody tr th:only-of-type {\n",
       "        vertical-align: middle;\n",
       "    }\n",
       "\n",
       "    .dataframe tbody tr th {\n",
       "        vertical-align: top;\n",
       "    }\n",
       "\n",
       "    .dataframe thead th {\n",
       "        text-align: right;\n",
       "    }\n",
       "</style>\n",
       "<table border=\"1\" class=\"dataframe\">\n",
       "  <thead>\n",
       "    <tr style=\"text-align: right;\">\n",
       "      <th>trial_type</th>\n",
       "      <th>sub</th>\n",
       "      <th>movie</th>\n",
       "      <th>lure</th>\n",
       "      <th>old</th>\n",
       "      <th>dprime</th>\n",
       "      <th>bias</th>\n",
       "    </tr>\n",
       "  </thead>\n",
       "  <tbody>\n",
       "    <tr>\n",
       "      <th>0</th>\n",
       "      <td>e152005</td>\n",
       "      <td>1.2.3</td>\n",
       "      <td>0.55</td>\n",
       "      <td>0.894737</td>\n",
       "      <td>1.377781</td>\n",
       "      <td>-0.563229</td>\n",
       "    </tr>\n",
       "    <tr>\n",
       "      <th>1</th>\n",
       "      <td>e152005</td>\n",
       "      <td>2.4.1</td>\n",
       "      <td>0.65</td>\n",
       "      <td>0.857143</td>\n",
       "      <td>1.452891</td>\n",
       "      <td>-0.341125</td>\n",
       "    </tr>\n",
       "    <tr>\n",
       "      <th>2</th>\n",
       "      <td>e152005</td>\n",
       "      <td>3.1.3</td>\n",
       "      <td>0.70</td>\n",
       "      <td>1.000000</td>\n",
       "      <td>2.484364</td>\n",
       "      <td>-0.717782</td>\n",
       "    </tr>\n",
       "    <tr>\n",
       "      <th>3</th>\n",
       "      <td>e152005</td>\n",
       "      <td>6.3.9</td>\n",
       "      <td>0.50</td>\n",
       "      <td>0.904762</td>\n",
       "      <td>1.309172</td>\n",
       "      <td>-0.654586</td>\n",
       "    </tr>\n",
       "    <tr>\n",
       "      <th>4</th>\n",
       "      <td>e152006</td>\n",
       "      <td>1.2.3</td>\n",
       "      <td>0.90</td>\n",
       "      <td>0.947368</td>\n",
       "      <td>2.901408</td>\n",
       "      <td>-0.169152</td>\n",
       "    </tr>\n",
       "    <tr>\n",
       "      <th>...</th>\n",
       "      <td>...</td>\n",
       "      <td>...</td>\n",
       "      <td>...</td>\n",
       "      <td>...</td>\n",
       "      <td>...</td>\n",
       "      <td>...</td>\n",
       "    </tr>\n",
       "    <tr>\n",
       "      <th>183</th>\n",
       "      <td>e152052</td>\n",
       "      <td>6.3.9</td>\n",
       "      <td>0.80</td>\n",
       "      <td>0.666667</td>\n",
       "      <td>1.272349</td>\n",
       "      <td>0.205447</td>\n",
       "    </tr>\n",
       "    <tr>\n",
       "      <th>184</th>\n",
       "      <td>e152053</td>\n",
       "      <td>1.2.3</td>\n",
       "      <td>0.95</td>\n",
       "      <td>1.000000</td>\n",
       "      <td>3.604818</td>\n",
       "      <td>-0.157555</td>\n",
       "    </tr>\n",
       "    <tr>\n",
       "      <th>185</th>\n",
       "      <td>e152053</td>\n",
       "      <td>2.4.1</td>\n",
       "      <td>0.40</td>\n",
       "      <td>0.952381</td>\n",
       "      <td>1.415044</td>\n",
       "      <td>-0.960869</td>\n",
       "    </tr>\n",
       "    <tr>\n",
       "      <th>186</th>\n",
       "      <td>e152053</td>\n",
       "      <td>3.1.3</td>\n",
       "      <td>0.75</td>\n",
       "      <td>0.947368</td>\n",
       "      <td>2.294346</td>\n",
       "      <td>-0.472683</td>\n",
       "    </tr>\n",
       "    <tr>\n",
       "      <th>187</th>\n",
       "      <td>e152053</td>\n",
       "      <td>6.3.9</td>\n",
       "      <td>0.45</td>\n",
       "      <td>0.523810</td>\n",
       "      <td>-0.065944</td>\n",
       "      <td>-0.092689</td>\n",
       "    </tr>\n",
       "  </tbody>\n",
       "</table>\n",
       "<p>188 rows × 6 columns</p>\n",
       "</div>"
      ],
      "text/plain": [
       "trial_type      sub  movie  lure       old    dprime      bias\n",
       "0           e152005  1.2.3  0.55  0.894737  1.377781 -0.563229\n",
       "1           e152005  2.4.1  0.65  0.857143  1.452891 -0.341125\n",
       "2           e152005  3.1.3  0.70  1.000000  2.484364 -0.717782\n",
       "3           e152005  6.3.9  0.50  0.904762  1.309172 -0.654586\n",
       "4           e152006  1.2.3  0.90  0.947368  2.901408 -0.169152\n",
       "..              ...    ...   ...       ...       ...       ...\n",
       "183         e152052  6.3.9  0.80  0.666667  1.272349  0.205447\n",
       "184         e152053  1.2.3  0.95  1.000000  3.604818 -0.157555\n",
       "185         e152053  2.4.1  0.40  0.952381  1.415044 -0.960869\n",
       "186         e152053  3.1.3  0.75  0.947368  2.294346 -0.472683\n",
       "187         e152053  6.3.9  0.45  0.523810 -0.065944 -0.092689\n",
       "\n",
       "[188 rows x 6 columns]"
      ]
     },
     "execution_count": 14,
     "metadata": {},
     "output_type": "execute_result"
    }
   ],
   "source": [
    "recogdf_wide\n"
   ]
  },
  {
   "attachments": {},
   "cell_type": "markdown",
   "metadata": {},
   "source": [
    "## Merge Recall and Recognition"
   ]
  },
  {
   "cell_type": "code",
   "execution_count": 15,
   "metadata": {},
   "outputs": [
    {
     "data": {
      "text/html": [
       "<div>\n",
       "<style scoped>\n",
       "    .dataframe tbody tr th:only-of-type {\n",
       "        vertical-align: middle;\n",
       "    }\n",
       "\n",
       "    .dataframe tbody tr th {\n",
       "        vertical-align: top;\n",
       "    }\n",
       "\n",
       "    .dataframe thead th {\n",
       "        text-align: right;\n",
       "    }\n",
       "</style>\n",
       "<table border=\"1\" class=\"dataframe\">\n",
       "  <thead>\n",
       "    <tr style=\"text-align: right;\">\n",
       "      <th></th>\n",
       "      <th>sub</th>\n",
       "      <th>movie</th>\n",
       "      <th>recall_raw</th>\n",
       "      <th>recall_filtered</th>\n",
       "      <th>filtered_length</th>\n",
       "      <th>filtered_length_scaled</th>\n",
       "      <th>lure</th>\n",
       "      <th>old</th>\n",
       "      <th>dprime</th>\n",
       "      <th>bias</th>\n",
       "    </tr>\n",
       "  </thead>\n",
       "  <tbody>\n",
       "    <tr>\n",
       "      <th>0</th>\n",
       "      <td>e152005</td>\n",
       "      <td>1.2.3</td>\n",
       "      <td>This woman walked into a room with a table on...</td>\n",
       "      <td>[this, woman, walked, into, a, room, with, a, ...</td>\n",
       "      <td>193</td>\n",
       "      <td>0.606046</td>\n",
       "      <td>0.55</td>\n",
       "      <td>0.894737</td>\n",
       "      <td>1.377781</td>\n",
       "      <td>-0.563229</td>\n",
       "    </tr>\n",
       "    <tr>\n",
       "      <th>1</th>\n",
       "      <td>e152005</td>\n",
       "      <td>6.3.9</td>\n",
       "      <td>This actor was folding laundry in the video. H...</td>\n",
       "      <td>[this, actor, was, folding, laundry, in, the, ...</td>\n",
       "      <td>98</td>\n",
       "      <td>-0.330204</td>\n",
       "      <td>0.50</td>\n",
       "      <td>0.904762</td>\n",
       "      <td>1.309172</td>\n",
       "      <td>-0.654586</td>\n",
       "    </tr>\n",
       "    <tr>\n",
       "      <th>2</th>\n",
       "      <td>e152005</td>\n",
       "      <td>3.1.3</td>\n",
       "      <td>This actor was preparing breakfast in the vide...</td>\n",
       "      <td>[this, actor, was, preparing, breakfast, in, t...</td>\n",
       "      <td>140</td>\n",
       "      <td>0.083717</td>\n",
       "      <td>0.70</td>\n",
       "      <td>1.000000</td>\n",
       "      <td>2.484364</td>\n",
       "      <td>-0.717782</td>\n",
       "    </tr>\n",
       "    <tr>\n",
       "      <th>3</th>\n",
       "      <td>e152005</td>\n",
       "      <td>2.4.1</td>\n",
       "      <td>This actor was in the bathroom in the video. H...</td>\n",
       "      <td>[this, actor, was, in, the, bathroom, in, the,...</td>\n",
       "      <td>63</td>\n",
       "      <td>-0.675138</td>\n",
       "      <td>0.65</td>\n",
       "      <td>0.857143</td>\n",
       "      <td>1.452891</td>\n",
       "      <td>-0.341125</td>\n",
       "    </tr>\n",
       "    <tr>\n",
       "      <th>4</th>\n",
       "      <td>e152006</td>\n",
       "      <td>1.2.3</td>\n",
       "      <td>This lady came in from the left side of the r...</td>\n",
       "      <td>[this, lady, came, in, from, the, left, side, ...</td>\n",
       "      <td>287</td>\n",
       "      <td>1.532441</td>\n",
       "      <td>0.90</td>\n",
       "      <td>0.947368</td>\n",
       "      <td>2.901408</td>\n",
       "      <td>-0.169152</td>\n",
       "    </tr>\n",
       "    <tr>\n",
       "      <th>...</th>\n",
       "      <td>...</td>\n",
       "      <td>...</td>\n",
       "      <td>...</td>\n",
       "      <td>...</td>\n",
       "      <td>...</td>\n",
       "      <td>...</td>\n",
       "      <td>...</td>\n",
       "      <td>...</td>\n",
       "      <td>...</td>\n",
       "      <td>...</td>\n",
       "    </tr>\n",
       "    <tr>\n",
       "      <th>183</th>\n",
       "      <td>e152052</td>\n",
       "      <td>2.4.1</td>\n",
       "      <td>\\nThis guy walked into his bathroom and I beli...</td>\n",
       "      <td>[this, guy, walked, into, his, bathroom, and, ...</td>\n",
       "      <td>217</td>\n",
       "      <td>0.842573</td>\n",
       "      <td>0.65</td>\n",
       "      <td>0.857143</td>\n",
       "      <td>1.452891</td>\n",
       "      <td>-0.341125</td>\n",
       "    </tr>\n",
       "    <tr>\n",
       "      <th>184</th>\n",
       "      <td>e152053</td>\n",
       "      <td>1.2.3</td>\n",
       "      <td>A woman enters a room from the left side of t...</td>\n",
       "      <td>[a, woman, enters, a, room, from, the, left, s...</td>\n",
       "      <td>159</td>\n",
       "      <td>0.270967</td>\n",
       "      <td>0.95</td>\n",
       "      <td>1.000000</td>\n",
       "      <td>3.604818</td>\n",
       "      <td>-0.157555</td>\n",
       "    </tr>\n",
       "    <tr>\n",
       "      <th>185</th>\n",
       "      <td>e152053</td>\n",
       "      <td>6.3.9</td>\n",
       "      <td>A man entered the room with a basket of laundr...</td>\n",
       "      <td>[a, man, entered, the, room, with, a, basket, ...</td>\n",
       "      <td>78</td>\n",
       "      <td>-0.527309</td>\n",
       "      <td>0.45</td>\n",
       "      <td>0.523810</td>\n",
       "      <td>-0.065944</td>\n",
       "      <td>-0.092689</td>\n",
       "    </tr>\n",
       "    <tr>\n",
       "      <th>186</th>\n",
       "      <td>e152053</td>\n",
       "      <td>3.1.3</td>\n",
       "      <td>A man walks into what appears to be an apartme...</td>\n",
       "      <td>[a, man, walks, into, what, appears, to, be, a...</td>\n",
       "      <td>182</td>\n",
       "      <td>0.497638</td>\n",
       "      <td>0.75</td>\n",
       "      <td>0.947368</td>\n",
       "      <td>2.294346</td>\n",
       "      <td>-0.472683</td>\n",
       "    </tr>\n",
       "    <tr>\n",
       "      <th>187</th>\n",
       "      <td>e152053</td>\n",
       "      <td>2.4.1</td>\n",
       "      <td>A man enters a  bathroom and begins to prepare...</td>\n",
       "      <td>[a, man, enters, a, bathroom, and, begins, to,...</td>\n",
       "      <td>64</td>\n",
       "      <td>-0.665283</td>\n",
       "      <td>0.40</td>\n",
       "      <td>0.952381</td>\n",
       "      <td>1.415044</td>\n",
       "      <td>-0.960869</td>\n",
       "    </tr>\n",
       "  </tbody>\n",
       "</table>\n",
       "<p>188 rows × 10 columns</p>\n",
       "</div>"
      ],
      "text/plain": [
       "         sub  movie                                         recall_raw  \\\n",
       "0    e152005  1.2.3   This woman walked into a room with a table on...   \n",
       "1    e152005  6.3.9  This actor was folding laundry in the video. H...   \n",
       "2    e152005  3.1.3  This actor was preparing breakfast in the vide...   \n",
       "3    e152005  2.4.1  This actor was in the bathroom in the video. H...   \n",
       "4    e152006  1.2.3   This lady came in from the left side of the r...   \n",
       "..       ...    ...                                                ...   \n",
       "183  e152052  2.4.1  \\nThis guy walked into his bathroom and I beli...   \n",
       "184  e152053  1.2.3   A woman enters a room from the left side of t...   \n",
       "185  e152053  6.3.9  A man entered the room with a basket of laundr...   \n",
       "186  e152053  3.1.3  A man walks into what appears to be an apartme...   \n",
       "187  e152053  2.4.1  A man enters a  bathroom and begins to prepare...   \n",
       "\n",
       "                                       recall_filtered  filtered_length  \\\n",
       "0    [this, woman, walked, into, a, room, with, a, ...              193   \n",
       "1    [this, actor, was, folding, laundry, in, the, ...               98   \n",
       "2    [this, actor, was, preparing, breakfast, in, t...              140   \n",
       "3    [this, actor, was, in, the, bathroom, in, the,...               63   \n",
       "4    [this, lady, came, in, from, the, left, side, ...              287   \n",
       "..                                                 ...              ...   \n",
       "183  [this, guy, walked, into, his, bathroom, and, ...              217   \n",
       "184  [a, woman, enters, a, room, from, the, left, s...              159   \n",
       "185  [a, man, entered, the, room, with, a, basket, ...               78   \n",
       "186  [a, man, walks, into, what, appears, to, be, a...              182   \n",
       "187  [a, man, enters, a, bathroom, and, begins, to,...               64   \n",
       "\n",
       "     filtered_length_scaled  lure       old    dprime      bias  \n",
       "0                  0.606046  0.55  0.894737  1.377781 -0.563229  \n",
       "1                 -0.330204  0.50  0.904762  1.309172 -0.654586  \n",
       "2                  0.083717  0.70  1.000000  2.484364 -0.717782  \n",
       "3                 -0.675138  0.65  0.857143  1.452891 -0.341125  \n",
       "4                  1.532441  0.90  0.947368  2.901408 -0.169152  \n",
       "..                      ...   ...       ...       ...       ...  \n",
       "183                0.842573  0.65  0.857143  1.452891 -0.341125  \n",
       "184                0.270967  0.95  1.000000  3.604818 -0.157555  \n",
       "185               -0.527309  0.45  0.523810 -0.065944 -0.092689  \n",
       "186                0.497638  0.75  0.947368  2.294346 -0.472683  \n",
       "187               -0.665283  0.40  0.952381  1.415044 -0.960869  \n",
       "\n",
       "[188 rows x 10 columns]"
      ]
     },
     "execution_count": 15,
     "metadata": {},
     "output_type": "execute_result"
    }
   ],
   "source": [
    "memory_df = pd.merge(recalldf, recogdf_wide, on=['sub', 'movie'])\n",
    "memory_df"
   ]
  },
  {
   "cell_type": "code",
   "execution_count": 30,
   "metadata": {},
   "outputs": [
    {
     "data": {
      "application/vnd.plotly.v1+json": {
       "config": {
        "plotlyServerURL": "https://plot.ly"
       },
       "data": [
        {
         "customdata": [
          [
           "e152005",
           -0.5632290867050727,
           "1.2.3"
          ],
          [
           "e152005",
           -0.6545858583928885,
           "6.3.9"
          ],
          [
           "e152005",
           -0.7177817359160067,
           "3.1.3"
          ],
          [
           "e152005",
           -0.3411250287352867,
           "2.4.1"
          ],
          [
           "e152006",
           -0.16915234654683464,
           "1.2.3"
          ],
          [
           "e152006",
           0.4461967303309564,
           "6.3.9"
          ],
          [
           "e152006",
           -0.33920620949772684,
           "3.1.3"
          ],
          [
           "e152006",
           -0.41338498018708236,
           "2.4.1"
          ],
          [
           "e152007",
           -0.9171513188424899,
           "1.2.3"
          ],
          [
           "e152007",
           0.06458910059171269,
           "6.3.9"
          ],
          [
           "e152007",
           -0.7637742401852872,
           "3.1.3"
          ],
          [
           "e152007",
           -0.8970262704010766,
           "2.4.1"
          ],
          [
           "e152008",
           0.4784080084387602,
           "1.2.3"
          ],
          [
           "e152008",
           0.16199517855215045,
           "6.3.9"
          ],
          [
           "e152008",
           0.10399061639660667,
           "3.1.3"
          ],
          [
           "e152008",
           0.0801452701234745,
           "2.4.1"
          ],
          [
           "e152009",
           0,
           "1.2.3"
          ],
          [
           "e152009",
           0.20270435814887977,
           "6.3.9"
          ],
          [
           "e152009",
           0.01851242660630703,
           "3.1.3"
          ],
          [
           "e152009",
           0.2845542665775557,
           "2.4.1"
          ],
          [
           "e152010",
           -0.7527333117005096,
           "1.2.3"
          ],
          [
           "e152010",
           -0.7037850277528888,
           "6.3.9"
          ],
          [
           "e152010",
           -0.43874331040372977,
           "3.1.3"
          ],
          [
           "e152010",
           -0.47095458851153355,
           "2.4.1"
          ],
          [
           "e152011",
           0.19636705334312632,
           "1.2.3"
          ],
          [
           "e152011",
           -0.013810075620588336,
           "6.3.9"
          ],
          [
           "e152011",
           -0.06505331508210926,
           "3.1.3"
          ],
          [
           "e152011",
           -0.3411250287352867,
           "2.4.1"
          ],
          [
           "e152013",
           -1.1471730044171757,
           "1.2.3"
          ],
          [
           "e152013",
           -0.8472460915966724,
           "6.3.9"
          ],
          [
           "e152013",
           -1.1471730044171757,
           "3.1.3"
          ],
          [
           "e152013",
           -0.8472460915966724,
           "2.4.1"
          ],
          [
           "e152014",
           -0.5477278729651145,
           "1.2.3"
          ],
          [
           "e152014",
           -0.8970262704010766,
           "6.3.9"
          ],
          [
           "e152014",
           -0.49938620856470994,
           "3.1.3"
          ],
          [
           "e152014",
           -0.9608691485414393,
           "2.4.1"
          ],
          [
           "e152015",
           -1.959963984540054,
           "1.2.3"
          ],
          [
           "e152015",
           -1.6566224104492755,
           "6.3.9"
          ],
          [
           "e152015",
           -1.959963984540054,
           "3.1.3"
          ],
          [
           "e152015",
           -1.1745610447113708,
           "2.4.1"
          ],
          [
           "e152016",
           -0.374900432263367,
           "1.2.3"
          ],
          [
           "e152016",
           -0.49695072187549866,
           "6.3.9"
          ],
          [
           "e152016",
           0.18105779012098205,
           "3.1.3"
          ],
          [
           "e152016",
           -0.4380714246234204,
           "2.4.1"
          ],
          [
           "e152017",
           -0.11307927509757523,
           "1.2.3"
          ],
          [
           "e152017",
           -0.020774154612411222,
           "6.3.9"
          ],
          [
           "e152017",
           -0.6260597601326098,
           "3.1.3"
          ],
          [
           "e152017",
           -0.7075220454056397,
           "2.4.1"
          ],
          [
           "e152018",
           -0.3891175125326777,
           "1.2.3"
          ],
          [
           "e152018",
           -0.4619256251891046,
           "6.3.9"
          ],
          [
           "e152018",
           -0.2888148850345689,
           "3.1.3"
          ],
          [
           "e152018",
           -1.2550062137599967,
           "2.4.1"
          ],
          [
           "e152019",
           -0.8099281293191348,
           "1.2.3"
          ],
          [
           "e152019",
           -0.7812594099607884,
           "6.3.9"
          ],
          [
           "e152019",
           -1.0197906785781616,
           "3.1.3"
          ],
          [
           "e152019",
           -0.7002716809774407,
           "2.4.1"
          ],
          [
           "e152020v2",
           -0.920514884927045,
           "1.2.3"
          ],
          [
           "e152020v2",
           -1.1745610447113708,
           "6.3.9"
          ],
          [
           "e152020v2",
           0.020424874708190377,
           "3.1.3"
          ],
          [
           "e152020v2",
           -0.5451746673204518,
           "2.4.1"
          ],
          [
           "e152021",
           -0.3168200003898505,
           "1.2.3"
          ],
          [
           "e152021",
           -0.029858549892661446,
           "6.3.9"
          ],
          [
           "e152021",
           -0.03676998896709642,
           "3.1.3"
          ],
          [
           "e152021",
           0.21667973646425243,
           "2.4.1"
          ],
          [
           "e152022",
           1.2968019926598775,
           "1.2.3"
          ],
          [
           "e152022",
           -0.3411250287352867,
           "6.3.9"
          ],
          [
           "e152022",
           0.8388188589293077,
           "3.1.3"
          ],
          [
           "e152022",
           -0.09402125984072413,
           "2.4.1"
          ],
          [
           "e152023",
           -0.2888148850345689,
           "1.2.3"
          ],
          [
           "e152023",
           -0.19341981420123933,
           "6.3.9"
          ],
          [
           "e152023",
           -1.0721283856731552,
           "3.1.3"
          ],
          [
           "e152023",
           -0.5917551849653514,
           "2.4.1"
          ],
          [
           "e152024",
           0.35392223213741725,
           "1.2.3"
          ],
          [
           "e152024",
           0.7925682635830746,
           "6.3.9"
          ],
          [
           "e152024",
           -0.20524914334615263,
           "3.1.3"
          ],
          [
           "e152024",
           -0.5966159353666077,
           "2.4.1"
          ],
          [
           "e152025",
           -0.19014644882195061,
           "1.2.3"
          ],
          [
           "e152025",
           0.12188122545031213,
           "6.3.9"
          ],
          [
           "e152025",
           -0.04134551861801167,
           "3.1.3"
          ],
          [
           "e152025",
           -0.2201437375388945,
           "2.4.1"
          ],
          [
           "e152026",
           -0.23084974361344862,
           "1.2.3"
          ],
          [
           "e152026",
           -0.7959855182930909,
           "6.3.9"
          ],
          [
           "e152026",
           -1.3281448240660296,
           "3.1.3"
          ],
          [
           "e152026",
           -1.1066555438379269,
           "2.4.1"
          ],
          [
           "e152027",
           -0.30891375062748294,
           "1.2.3"
          ],
          [
           "e152027",
           0.7324206285793836,
           "6.3.9"
          ],
          [
           "e152027",
           -0.08076336704480969,
           "3.1.3"
          ],
          [
           "e152027",
           -0.23377524160643137,
           "2.4.1"
          ],
          [
           "e152028",
           -0.594958423383934,
           "1.2.3"
          ],
          [
           "e152028",
           -1.0197906785781616,
           "3.1.3"
          ],
          [
           "e152028",
           -0.3420372012156286,
           "2.4.1"
          ],
          [
           "e152029",
           -0.3891175125326777,
           "1.2.3"
          ],
          [
           "e152029",
           0.24723869020168837,
           "6.3.9"
          ],
          [
           "e152029",
           0.014716022639690407,
           "3.1.3"
          ],
          [
           "e152029",
           0.06458910059171269,
           "2.4.1"
          ],
          [
           "e152030",
           -1.3172268673680678,
           "1.2.3"
          ],
          [
           "e152030",
           -0.8710301370371114,
           "6.3.9"
          ],
          [
           "e152030",
           -0.3606793033896954,
           "3.1.3"
          ],
          [
           "e152030",
           -0.21432089745564037,
           "2.4.1"
          ],
          [
           "e152031",
           -0.49938620856470994,
           "1.2.3"
          ],
          [
           "e152031",
           -0.6604588135069704,
           "6.3.9"
          ],
          [
           "e152031",
           -0.4617652975231321,
           "3.1.3"
          ],
          [
           "e152031",
           -0.7873217590662431,
           "2.4.1"
          ],
          [
           "e152032",
           -0.9171513188424899,
           "1.2.3"
          ],
          [
           "e152032",
           -0.3458050843939686,
           "6.3.9"
          ],
          [
           "e152032",
           -0.7177817359160067,
           "3.1.3"
          ],
          [
           "e152032",
           -0.31734098329484767,
           "2.4.1"
          ],
          [
           "e152033",
           0.01249868415660127,
           "1.2.3"
          ],
          [
           "e152033",
           -0.41369048038212364,
           "6.3.9"
          ],
          [
           "e152033",
           -0.6260597601326098,
           "3.1.3"
          ],
          [
           "e152033",
           -0.10082654952537956,
           "2.4.1"
          ],
          [
           "e152034",
           0.15965432701586357,
           "1.2.3"
          ],
          [
           "e152034",
           0.11071003232591706,
           "6.3.9"
          ],
          [
           "e152034",
           -0.0996006623946335,
           "3.1.3"
          ],
          [
           "e152034",
           -0.3113978730555206,
           "2.4.1"
          ],
          [
           "e152035",
           0.01664271091562808,
           "1.2.3"
          ],
          [
           "e152035",
           -0.2715850055850503,
           "6.3.9"
          ],
          [
           "e152035",
           0.0941811861681088,
           "3.1.3"
          ],
          [
           "e152035",
           -0.15253297622019163,
           "2.4.1"
          ],
          [
           "e152036",
           0.4784080084387602,
           "1.2.3"
          ],
          [
           "e152036",
           -0.020774154612411222,
           "6.3.9"
          ],
          [
           "e152036",
           -0.20963795697636625,
           "3.1.3"
          ],
          [
           "e152036",
           0.0801452701234745,
           "2.4.1"
          ],
          [
           "e152037",
           -0.15755517879429093,
           "1.2.3"
          ],
          [
           "e152037",
           -0.6307316578272043,
           "6.3.9"
          ],
          [
           "e152037",
           -0.6260597601326098,
           "3.1.3"
          ],
          [
           "e152037",
           -0.6184217725487648,
           "2.4.1"
          ],
          [
           "e152038",
           -0.10784306538571486,
           "1.2.3"
          ],
          [
           "e152038",
           -0.1563008593985317,
           "6.3.9"
          ],
          [
           "e152038",
           -0.8533084407021272,
           "3.1.3"
          ],
          [
           "e152038",
           -0.6545858583928885,
           "2.4.1"
          ],
          [
           "e152039",
           -0.7873217590662431,
           "1.2.3"
          ],
          [
           "e152039",
           -0.3458050843939686,
           "6.3.9"
          ],
          [
           "e152039",
           -0.08076336704480969,
           "3.1.3"
          ],
          [
           "e152039",
           -0.5337852619390706,
           "2.4.1"
          ],
          [
           "e152040",
           -0.20963795697636625,
           "1.2.3"
          ],
          [
           "e152040",
           -0.4080238828515126,
           "6.3.9"
          ],
          [
           "e152040",
           0.09305957080915037,
           "3.1.3"
          ],
          [
           "e152040",
           -0.1635612829909606,
           "2.4.1"
          ],
          [
           "e152041",
           -0.10784306538571486,
           "1.2.3"
          ],
          [
           "e152041",
           -0.17587116826940008,
           "6.3.9"
          ],
          [
           "e152041",
           -0.4434935519577503,
           "3.1.3"
          ],
          [
           "e152041",
           -0.2201437375388945,
           "2.4.1"
          ],
          [
           "e152042",
           -0.30891375062748294,
           "1.2.3"
          ],
          [
           "e152042",
           -0.47756390600174903,
           "6.3.9"
          ],
          [
           "e152042",
           -0.1596543270158635,
           "3.1.3"
          ],
          [
           "e152042",
           -0.7873217590662431,
           "2.4.1"
          ],
          [
           "e152043",
           0.18105779012098205,
           "1.2.3"
          ],
          [
           "e152043",
           0.35220644125037287,
           "6.3.9"
          ],
          [
           "e152043",
           -0.10518839675837445,
           "3.1.3"
          ],
          [
           "e152043",
           -0.2201437375388945,
           "2.4.1"
          ],
          [
           "e152044",
           -0.2539893269623134,
           "1.2.3"
          ],
          [
           "e152044",
           -0.24541119141963655,
           "6.3.9"
          ],
          [
           "e152044",
           -0.4022981901801501,
           "3.1.3"
          ],
          [
           "e152044",
           -0.6604588135069704,
           "2.4.1"
          ],
          [
           "e152045",
           -1.4507039120914351,
           "1.2.3"
          ],
          [
           "e152045",
           0.23524228378046336,
           "6.3.9"
          ],
          [
           "e152045",
           -0.7527333117005096,
           "3.1.3"
          ],
          [
           "e152045",
           -0.2201437375388945,
           "2.4.1"
          ],
          [
           "e152046",
           -0.14009793382612978,
           "1.2.3"
          ],
          [
           "e152046",
           0.3667264707187916,
           "6.3.9"
          ],
          [
           "e152046",
           -0.7395430652781909,
           "3.1.3"
          ],
          [
           "e152046",
           -0.8341955969735395,
           "2.4.1"
          ],
          [
           "e152047",
           -0.6644984465341705,
           "1.2.3"
          ],
          [
           "e152047",
           -0.9562881193703153,
           "6.3.9"
          ],
          [
           "e152047",
           -0.7637742401852872,
           "3.1.3"
          ],
          [
           "e152047",
           -1.2550062137599967,
           "2.4.1"
          ],
          [
           "e152049",
           0.014716022639690407,
           "1.2.3"
          ],
          [
           "e152049",
           -0.7264454951428545,
           "6.3.9"
          ],
          [
           "e152049",
           -0.6260597601326098,
           "3.1.3"
          ],
          [
           "e152049",
           -0.6604588135069704,
           "2.4.1"
          ],
          [
           "e152050",
           -0.2888148850345689,
           "1.2.3"
          ],
          [
           "e152050",
           -0.5279123068249887,
           "6.3.9"
          ],
          [
           "e152050",
           -0.979981992270027,
           "3.1.3"
          ],
          [
           "e152050",
           -0.8533084407021272,
           "2.4.1"
          ],
          [
           "e152051",
           -0.36385950377858944,
           "1.2.3"
          ],
          [
           "e152051",
           -0.3458050843939686,
           "6.3.9"
          ],
          [
           "e152051",
           -0.2539893269623134,
           "3.1.3"
          ],
          [
           "e152051",
           -0.020774154612411222,
           "2.4.1"
          ],
          [
           "e152052",
           -0.2888148850345689,
           "1.2.3"
          ],
          [
           "e152052",
           0.20544696713872843,
           "6.3.9"
          ],
          [
           "e152052",
           -0.2888148850345689,
           "3.1.3"
          ],
          [
           "e152052",
           -0.3411250287352867,
           "2.4.1"
          ],
          [
           "e152053",
           -0.15755517879429093,
           "1.2.3"
          ],
          [
           "e152053",
           -0.09268922332019852,
           "6.3.9"
          ],
          [
           "e152053",
           -0.472683254221094,
           "3.1.3"
          ],
          [
           "e152053",
           -0.9608691485414393,
           "2.4.1"
          ]
         ],
         "hovertemplate": "filtered_length_scaled=%{x}<br>dprime=%{y}<br>sub=%{customdata[0]}<br>bias=%{customdata[1]}<br>movie=%{customdata[2]}<extra></extra>",
         "legendgroup": "",
         "marker": {
          "color": "#636efa",
          "symbol": "circle"
         },
         "mode": "markers",
         "name": "",
         "orientation": "v",
         "showlegend": false,
         "type": "scatter",
         "x": [
          0.6060463860407932,
          -0.33020380465971416,
          0.08371733228156275,
          -0.6751380854441116,
          1.532441311576032,
          2.1631782821532157,
          2.123757221492142,
          2.074480895665799,
          0.004875210959414771,
          0.4483621433964972,
          1.1283754398000236,
          0.4385068782312287,
          -0.2020853575112237,
          -0.22179588784176069,
          0.20198051426478472,
          -1.0102171010632406,
          3.5626259356213428,
          2.182888812483753,
          1.749257145211939,
          1.1875070307916344,
          -0.46817751697347315,
          -0.9510855100716296,
          -0.45832225180820463,
          -0.28092747883337166,
          -0.45832225180820463,
          -0.39919066081659366,
          0.4680726737270342,
          -0.5667301686261581,
          -0.31049327432917717,
          -0.4090459259818621,
          -0.03454584970165922,
          -0.6948486157746486,
          -1.020072366228509,
          -1.07920395722012,
          -1.0496381617243145,
          -0.9905065707327035,
          -1.177756608872805,
          -1.138335548211731,
          -1.0989144875506571,
          -1.0693486920548516,
          -0.2513616833375662,
          -0.48788804730401014,
          -0.28092747883337166,
          -0.1429537665196127,
          -0.6455722899483061,
          -0.33020380465971416,
          -0.46817751697347315,
          -0.5568749034608896,
          1.5225860464107634,
          0.3103884310827382,
          0.3498094917438122,
          0.09357259744683126,
          -1.0299276313937775,
          -1.2073224043686106,
          -1.2270329346991475,
          -1.0693486920548516,
          -0.7441249416009911,
          -0.9116644494105556,
          -0.6652828202788431,
          -1.217177669533879,
          -0.8919539190800185,
          -0.862388123584213,
          0.08371733228156275,
          0.02458574128995177,
          1.7788229407077445,
          1.8478097968646239,
          1.1579412352958292,
          1.7196913497161335,
          0.27096737042166424,
          0.18226998393424773,
          -0.26121694850283467,
          -1.256598730194953,
          0.4483621433964972,
          0.04429627162048876,
          0.6454674467018672,
          0.03444100645522027,
          -0.5667301686261581,
          0.07386206711629426,
          -0.6455722899483061,
          -0.3203485394944457,
          -0.7145591461051856,
          -0.5962959641219636,
          -0.4780327821387416,
          -0.5075985776345472,
          -0.3400590698249827,
          0.004875210959414771,
          -0.10353270585853871,
          -0.33020380465971416,
          -1.296019790856027,
          -1.296019790856027,
          -0.3400590698249827,
          -0.1330985013543442,
          -0.43861172147766764,
          0.10342786261209976,
          -0.6652828202788431,
          -0.2907827439986402,
          -0.8328223280884076,
          -1.0496381617243145,
          -1.197467139203342,
          -0.1922300923459552,
          -0.0936774406932702,
          0.3005331659174697,
          -0.46817751697347315,
          1.1283754398000236,
          -0.4977433124692786,
          3.1684153290106027,
          3.0402968818621123,
          0.27096737042166424,
          -0.0936774406932702,
          0.9706911971557276,
          -0.5371643731303526,
          -0.960940775236898,
          -0.46817751697347315,
          -0.9707960404021665,
          -0.68499335060938,
          1.374757068931736,
          0.20198051426478472,
          0.8130069545114316,
          -0.08382217552800171,
          -0.6258617596177691,
          -0.5568749034608896,
          -0.5470196382956212,
          -0.7145591461051856,
          -0.1823748271806867,
          -0.6160064944525007,
          -0.10353270585853871,
          -0.45832225180820463,
          2.301151994466975,
          1.3057702127748565,
          3.0402968818621123,
          2.340573055128049,
          0.5961911208755246,
          1.749257145211939,
          1.5422965767413004,
          1.0199675229820702,
          -0.11338797102380721,
          0.3498094917438122,
          0.3990858175701547,
          1.1579412352958292,
          0.3300989614132752,
          -1.1876118740380734,
          0.4385068782312287,
          -0.44846698664293616,
          -0.6948486157746486,
          -0.8525328584189446,
          -0.8328223280884076,
          -0.862388123584213,
          -0.9707960404021665,
          -1.118625017881194,
          -0.6554275551135746,
          -0.5273091079650841,
          1.000256992651533,
          1.433888659923347,
          0.49763846922283966,
          0.5764805905449877,
          0.16255945360371074,
          -0.6554275551135746,
          1.5028755160802265,
          -0.014835319371122225,
          -0.24150641817229768,
          -0.862388123584213,
          -0.6652828202788431,
          -0.6258617596177691,
          -0.7638354719315281,
          -1.020072366228509,
          -0.9412302449063611,
          -0.960940775236898,
          1.630993963228717,
          1.7788229407077445,
          2.20259934281429,
          -1.1679013437075365,
          -0.36962486532078814,
          -0.5075985776345472,
          -0.45832225180820463,
          -0.862388123584213,
          0.23154630976059024,
          -0.04440111486692772,
          0.20198051426478472,
          -0.45832225180820463,
          0.49763846922283966,
          0.4385068782312287,
          0.7144543028587467,
          0.8425727500072371,
          0.27096737042166424,
          -0.5273091079650841,
          0.49763846922283966,
          -0.6652828202788431
         ],
         "xaxis": "x",
         "y": [
          1.3777808671202938,
          1.309171716785777,
          2.4843644972480945,
          1.452890990285709,
          2.9014078241828702,
          3.0275345084181953,
          3.2415155500846544,
          2.5100124275199933,
          2.085625331395128,
          1.554064265962403,
          0.478747454954493,
          1.5427298470920048,
          2.9631119522025875,
          1.7488764218832786,
          1.4752612343526152,
          1.9125762387406307,
          3.919927969080108,
          2.1576944147914414,
          1.6462176139332145,
          1.9939945979340892,
          0.9987724171294199,
          -0.2756724116400512,
          1.128809314517608,
          1.1932318707332155,
          2.8969731472166917,
          2.5907232823303774,
          1.4790861305563818,
          1.452890990285709,
          0.945366508442188,
          0.9238512503782093,
          0.945366508442188,
          0.9238512503782093,
          2.1442567713463103,
          1.5427298470920048,
          1.5054666234010192,
          1.4150440908112794,
          0,
          0.02353756699560683,
          0,
          -0.21398104166645915,
          1.2564950707983333,
          2.3428809441431606,
          1.3211268869038646,
          0.8761428492468408,
          0.73285275646675,
          1.0903493346409037,
          1.2521195202652196,
          1.9217382970828787,
          2.461477492211184,
          1.6944921831933448,
          1.9266092704613014,
          0.8267699603741647,
          1.6198562586382697,
          1.0558246136499774,
          -0.03328542183125616,
          0.35174233653880016,
          -0.2318370091334896,
          -0.21398104166645915,
          1.3081297509757825,
          0.041548309224822444,
          0.633640000779701,
          0.05971709978532289,
          0.3248626716443411,
          0.07333473334309462,
          1.326323983760353,
          1.452890990285709,
          -0.32865821746645196,
          1.2368435450975297,
          1.9266092704613014,
          2.9499427594916794,
          1.095455745930229,
          1.4348330636408513,
          3.212083504805274,
          1.704570726736795,
          2.0937407538381336,
          0.9419091770230671,
          0.8869871039155006,
          1.1052170494915392,
          0.5893852435076228,
          0.6916101687879372,
          0.2103767935167489,
          0.5431700111701006,
          0.5834228691444798,
          1.7066168814042544,
          1.3884684340701015,
          1.8248659967441772,
          1.844769201235448,
          2.1507929503586913,
          0.4192759139527325,
          -0.03328542183125616,
          0.17738019615965772,
          2.461477492211184,
          0.8545021199887867,
          2.5336710858098197,
          1.554064265962403,
          1.2854742343439725,
          0.3930807736820595,
          -0.04928232603574467,
          0.1773191012011324,
          1.5054666234010192,
          0.8142234207423416,
          2.996397374033844,
          2.345284450947622,
          2.085625331395128,
          0.440287475077789,
          2.4843644972480945,
          1.9836614669818586,
          3.264709885589742,
          -0.22142006465183411,
          1.2521195202652196,
          1.5506325994429226,
          0.4513322787834083,
          0.8273809607642473,
          0.199201324789267,
          1.1294899523826405,
          2.0395813571563233,
          1.5919710365861819,
          0.8604386530798638,
          0.5563886461505316,
          2.9631119522025875,
          1.0903493346409037,
          1.189916846767868,
          1.9125762387406307,
          3.6048176114915265,
          0.4908223828392731,
          1.2521195202652196,
          0.18804251968144825,
          2.2885529097590096,
          0.8192959250686629,
          2.2133110876758537,
          1.309171716785777,
          2.345284450947622,
          0.440287475077789,
          1.844769201235448,
          1.0675705238781412,
          1.189916846767868,
          0.045406832887889714,
          0.5845217911968348,
          1.0977634987970566,
          2.2885529097590096,
          1.4005433619548815,
          0.38029289764390123,
          0.6916101687879372,
          1.3884684340701015,
          -0.09367321341258322,
          -0.4513322787834085,
          2.345284450947622,
          1.3211268869038646,
          0.3443881429153356,
          0.46169948722689724,
          0.6916101687879372,
          0.7593013476347751,
          1.2614633156544086,
          0.8045963803603002,
          0.8142234207423416,
          0.3383046930936693,
          1.602382211426653,
          0.9987724171294199,
          0.6916101687879372,
          1.328996893068341,
          1.3394138375499964,
          0.13010663016421853,
          1.668391193947079,
          0.28019586765225957,
          -0.160290540246949,
          0.478747454954493,
          0.8267699603741647,
          2.5336710858098197,
          0.6822500574705734,
          1.2521195202652196,
          0.8142234207423416,
          1.9266092704613014,
          1.5625188199215767,
          1.959963984540054,
          2.2133110876758537,
          1.7765200329732602,
          0.440287475077789,
          0.7593013476347751,
          1.0903493346409037,
          1.9266092704613014,
          1.2723485328683717,
          1.9266092704613014,
          1.452890990285709,
          3.6048176114915265,
          -0.06594424706975127,
          2.2943460088343515,
          1.4150440908112794
         ],
         "yaxis": "y"
        },
        {
         "alignmentgroup": "True",
         "bingroup": "x",
         "hovertemplate": "filtered_length_scaled=%{x}<br>count=%{y}<extra></extra>",
         "legendgroup": "",
         "marker": {
          "color": "#636efa"
         },
         "name": "",
         "offsetgroup": "",
         "opacity": 0.5,
         "showlegend": false,
         "type": "histogram",
         "x": [
          0.6060463860407932,
          -0.33020380465971416,
          0.08371733228156275,
          -0.6751380854441116,
          1.532441311576032,
          2.1631782821532157,
          2.123757221492142,
          2.074480895665799,
          0.004875210959414771,
          0.4483621433964972,
          1.1283754398000236,
          0.4385068782312287,
          -0.2020853575112237,
          -0.22179588784176069,
          0.20198051426478472,
          -1.0102171010632406,
          3.5626259356213428,
          2.182888812483753,
          1.749257145211939,
          1.1875070307916344,
          -0.46817751697347315,
          -0.9510855100716296,
          -0.45832225180820463,
          -0.28092747883337166,
          -0.45832225180820463,
          -0.39919066081659366,
          0.4680726737270342,
          -0.5667301686261581,
          -0.31049327432917717,
          -0.4090459259818621,
          -0.03454584970165922,
          -0.6948486157746486,
          -1.020072366228509,
          -1.07920395722012,
          -1.0496381617243145,
          -0.9905065707327035,
          -1.177756608872805,
          -1.138335548211731,
          -1.0989144875506571,
          -1.0693486920548516,
          -0.2513616833375662,
          -0.48788804730401014,
          -0.28092747883337166,
          -0.1429537665196127,
          -0.6455722899483061,
          -0.33020380465971416,
          -0.46817751697347315,
          -0.5568749034608896,
          1.5225860464107634,
          0.3103884310827382,
          0.3498094917438122,
          0.09357259744683126,
          -1.0299276313937775,
          -1.2073224043686106,
          -1.2270329346991475,
          -1.0693486920548516,
          -0.7441249416009911,
          -0.9116644494105556,
          -0.6652828202788431,
          -1.217177669533879,
          -0.8919539190800185,
          -0.862388123584213,
          0.08371733228156275,
          0.02458574128995177,
          1.7788229407077445,
          1.8478097968646239,
          1.1579412352958292,
          1.7196913497161335,
          0.27096737042166424,
          0.18226998393424773,
          -0.26121694850283467,
          -1.256598730194953,
          0.4483621433964972,
          0.04429627162048876,
          0.6454674467018672,
          0.03444100645522027,
          -0.5667301686261581,
          0.07386206711629426,
          -0.6455722899483061,
          -0.3203485394944457,
          -0.7145591461051856,
          -0.5962959641219636,
          -0.4780327821387416,
          -0.5075985776345472,
          -0.3400590698249827,
          0.004875210959414771,
          -0.10353270585853871,
          -0.33020380465971416,
          -1.296019790856027,
          -1.296019790856027,
          -0.3400590698249827,
          -0.1330985013543442,
          -0.43861172147766764,
          0.10342786261209976,
          -0.6652828202788431,
          -0.2907827439986402,
          -0.8328223280884076,
          -1.0496381617243145,
          -1.197467139203342,
          -0.1922300923459552,
          -0.0936774406932702,
          0.3005331659174697,
          -0.46817751697347315,
          1.1283754398000236,
          -0.4977433124692786,
          3.1684153290106027,
          3.0402968818621123,
          0.27096737042166424,
          -0.0936774406932702,
          0.9706911971557276,
          -0.5371643731303526,
          -0.960940775236898,
          -0.46817751697347315,
          -0.9707960404021665,
          -0.68499335060938,
          1.374757068931736,
          0.20198051426478472,
          0.8130069545114316,
          -0.08382217552800171,
          -0.6258617596177691,
          -0.5568749034608896,
          -0.5470196382956212,
          -0.7145591461051856,
          -0.1823748271806867,
          -0.6160064944525007,
          -0.10353270585853871,
          -0.45832225180820463,
          2.301151994466975,
          1.3057702127748565,
          3.0402968818621123,
          2.340573055128049,
          0.5961911208755246,
          1.749257145211939,
          1.5422965767413004,
          1.0199675229820702,
          -0.11338797102380721,
          0.3498094917438122,
          0.3990858175701547,
          1.1579412352958292,
          0.3300989614132752,
          -1.1876118740380734,
          0.4385068782312287,
          -0.44846698664293616,
          -0.6948486157746486,
          -0.8525328584189446,
          -0.8328223280884076,
          -0.862388123584213,
          -0.9707960404021665,
          -1.118625017881194,
          -0.6554275551135746,
          -0.5273091079650841,
          1.000256992651533,
          1.433888659923347,
          0.49763846922283966,
          0.5764805905449877,
          0.16255945360371074,
          -0.6554275551135746,
          1.5028755160802265,
          -0.014835319371122225,
          -0.24150641817229768,
          -0.862388123584213,
          -0.6652828202788431,
          -0.6258617596177691,
          -0.7638354719315281,
          -1.020072366228509,
          -0.9412302449063611,
          -0.960940775236898,
          1.630993963228717,
          1.7788229407077445,
          2.20259934281429,
          -1.1679013437075365,
          -0.36962486532078814,
          -0.5075985776345472,
          -0.45832225180820463,
          -0.862388123584213,
          0.23154630976059024,
          -0.04440111486692772,
          0.20198051426478472,
          -0.45832225180820463,
          0.49763846922283966,
          0.4385068782312287,
          0.7144543028587467,
          0.8425727500072371,
          0.27096737042166424,
          -0.5273091079650841,
          0.49763846922283966,
          -0.6652828202788431
         ],
         "xaxis": "x3",
         "yaxis": "y3"
        },
        {
         "alignmentgroup": "True",
         "bingroup": "y",
         "hovertemplate": "dprime=%{y}<br>count=%{x}<extra></extra>",
         "legendgroup": "",
         "marker": {
          "color": "#636efa"
         },
         "name": "",
         "offsetgroup": "",
         "opacity": 0.5,
         "showlegend": false,
         "type": "histogram",
         "xaxis": "x2",
         "y": [
          1.3777808671202938,
          1.309171716785777,
          2.4843644972480945,
          1.452890990285709,
          2.9014078241828702,
          3.0275345084181953,
          3.2415155500846544,
          2.5100124275199933,
          2.085625331395128,
          1.554064265962403,
          0.478747454954493,
          1.5427298470920048,
          2.9631119522025875,
          1.7488764218832786,
          1.4752612343526152,
          1.9125762387406307,
          3.919927969080108,
          2.1576944147914414,
          1.6462176139332145,
          1.9939945979340892,
          0.9987724171294199,
          -0.2756724116400512,
          1.128809314517608,
          1.1932318707332155,
          2.8969731472166917,
          2.5907232823303774,
          1.4790861305563818,
          1.452890990285709,
          0.945366508442188,
          0.9238512503782093,
          0.945366508442188,
          0.9238512503782093,
          2.1442567713463103,
          1.5427298470920048,
          1.5054666234010192,
          1.4150440908112794,
          0,
          0.02353756699560683,
          0,
          -0.21398104166645915,
          1.2564950707983333,
          2.3428809441431606,
          1.3211268869038646,
          0.8761428492468408,
          0.73285275646675,
          1.0903493346409037,
          1.2521195202652196,
          1.9217382970828787,
          2.461477492211184,
          1.6944921831933448,
          1.9266092704613014,
          0.8267699603741647,
          1.6198562586382697,
          1.0558246136499774,
          -0.03328542183125616,
          0.35174233653880016,
          -0.2318370091334896,
          -0.21398104166645915,
          1.3081297509757825,
          0.041548309224822444,
          0.633640000779701,
          0.05971709978532289,
          0.3248626716443411,
          0.07333473334309462,
          1.326323983760353,
          1.452890990285709,
          -0.32865821746645196,
          1.2368435450975297,
          1.9266092704613014,
          2.9499427594916794,
          1.095455745930229,
          1.4348330636408513,
          3.212083504805274,
          1.704570726736795,
          2.0937407538381336,
          0.9419091770230671,
          0.8869871039155006,
          1.1052170494915392,
          0.5893852435076228,
          0.6916101687879372,
          0.2103767935167489,
          0.5431700111701006,
          0.5834228691444798,
          1.7066168814042544,
          1.3884684340701015,
          1.8248659967441772,
          1.844769201235448,
          2.1507929503586913,
          0.4192759139527325,
          -0.03328542183125616,
          0.17738019615965772,
          2.461477492211184,
          0.8545021199887867,
          2.5336710858098197,
          1.554064265962403,
          1.2854742343439725,
          0.3930807736820595,
          -0.04928232603574467,
          0.1773191012011324,
          1.5054666234010192,
          0.8142234207423416,
          2.996397374033844,
          2.345284450947622,
          2.085625331395128,
          0.440287475077789,
          2.4843644972480945,
          1.9836614669818586,
          3.264709885589742,
          -0.22142006465183411,
          1.2521195202652196,
          1.5506325994429226,
          0.4513322787834083,
          0.8273809607642473,
          0.199201324789267,
          1.1294899523826405,
          2.0395813571563233,
          1.5919710365861819,
          0.8604386530798638,
          0.5563886461505316,
          2.9631119522025875,
          1.0903493346409037,
          1.189916846767868,
          1.9125762387406307,
          3.6048176114915265,
          0.4908223828392731,
          1.2521195202652196,
          0.18804251968144825,
          2.2885529097590096,
          0.8192959250686629,
          2.2133110876758537,
          1.309171716785777,
          2.345284450947622,
          0.440287475077789,
          1.844769201235448,
          1.0675705238781412,
          1.189916846767868,
          0.045406832887889714,
          0.5845217911968348,
          1.0977634987970566,
          2.2885529097590096,
          1.4005433619548815,
          0.38029289764390123,
          0.6916101687879372,
          1.3884684340701015,
          -0.09367321341258322,
          -0.4513322787834085,
          2.345284450947622,
          1.3211268869038646,
          0.3443881429153356,
          0.46169948722689724,
          0.6916101687879372,
          0.7593013476347751,
          1.2614633156544086,
          0.8045963803603002,
          0.8142234207423416,
          0.3383046930936693,
          1.602382211426653,
          0.9987724171294199,
          0.6916101687879372,
          1.328996893068341,
          1.3394138375499964,
          0.13010663016421853,
          1.668391193947079,
          0.28019586765225957,
          -0.160290540246949,
          0.478747454954493,
          0.8267699603741647,
          2.5336710858098197,
          0.6822500574705734,
          1.2521195202652196,
          0.8142234207423416,
          1.9266092704613014,
          1.5625188199215767,
          1.959963984540054,
          2.2133110876758537,
          1.7765200329732602,
          0.440287475077789,
          0.7593013476347751,
          1.0903493346409037,
          1.9266092704613014,
          1.2723485328683717,
          1.9266092704613014,
          1.452890990285709,
          3.6048176114915265,
          -0.06594424706975127,
          2.2943460088343515,
          1.4150440908112794
         ],
         "yaxis": "y2"
        },
        {
         "hovertemplate": "<b>OLS trendline</b><br>dprime = 0.374185 * filtered_length_scaled + 1.27712<br>R<sup>2</sup>=0.173019<br><br>filtered_length_scaled=%{x}<br>dprime=%{y} <b>(trend)</b><extra></extra>",
         "legendgroup": "",
         "marker": {
          "color": "#636efa",
          "symbol": "circle"
         },
         "mode": "lines",
         "name": "",
         "showlegend": false,
         "type": "scatter",
         "x": [
          -1.296019790856027,
          -1.296019790856027,
          -1.256598730194953,
          -1.2270329346991475,
          -1.217177669533879,
          -1.2073224043686106,
          -1.197467139203342,
          -1.1876118740380734,
          -1.177756608872805,
          -1.1679013437075365,
          -1.138335548211731,
          -1.118625017881194,
          -1.0989144875506571,
          -1.07920395722012,
          -1.0693486920548516,
          -1.0693486920548516,
          -1.0496381617243145,
          -1.0496381617243145,
          -1.0299276313937775,
          -1.020072366228509,
          -1.020072366228509,
          -1.0102171010632406,
          -0.9905065707327035,
          -0.9707960404021665,
          -0.9707960404021665,
          -0.960940775236898,
          -0.960940775236898,
          -0.9510855100716296,
          -0.9412302449063611,
          -0.9116644494105556,
          -0.8919539190800185,
          -0.862388123584213,
          -0.862388123584213,
          -0.862388123584213,
          -0.862388123584213,
          -0.8525328584189446,
          -0.8328223280884076,
          -0.8328223280884076,
          -0.7638354719315281,
          -0.7441249416009911,
          -0.7145591461051856,
          -0.7145591461051856,
          -0.6948486157746486,
          -0.6948486157746486,
          -0.68499335060938,
          -0.6751380854441116,
          -0.6652828202788431,
          -0.6652828202788431,
          -0.6652828202788431,
          -0.6652828202788431,
          -0.6554275551135746,
          -0.6554275551135746,
          -0.6455722899483061,
          -0.6455722899483061,
          -0.6258617596177691,
          -0.6258617596177691,
          -0.6160064944525007,
          -0.5962959641219636,
          -0.5667301686261581,
          -0.5667301686261581,
          -0.5568749034608896,
          -0.5568749034608896,
          -0.5470196382956212,
          -0.5371643731303526,
          -0.5273091079650841,
          -0.5273091079650841,
          -0.5075985776345472,
          -0.5075985776345472,
          -0.4977433124692786,
          -0.48788804730401014,
          -0.4780327821387416,
          -0.46817751697347315,
          -0.46817751697347315,
          -0.46817751697347315,
          -0.46817751697347315,
          -0.45832225180820463,
          -0.45832225180820463,
          -0.45832225180820463,
          -0.45832225180820463,
          -0.45832225180820463,
          -0.44846698664293616,
          -0.43861172147766764,
          -0.4090459259818621,
          -0.39919066081659366,
          -0.36962486532078814,
          -0.3400590698249827,
          -0.3400590698249827,
          -0.33020380465971416,
          -0.33020380465971416,
          -0.33020380465971416,
          -0.3203485394944457,
          -0.31049327432917717,
          -0.2907827439986402,
          -0.28092747883337166,
          -0.28092747883337166,
          -0.26121694850283467,
          -0.2513616833375662,
          -0.24150641817229768,
          -0.22179588784176069,
          -0.2020853575112237,
          -0.1922300923459552,
          -0.1823748271806867,
          -0.1429537665196127,
          -0.1330985013543442,
          -0.11338797102380721,
          -0.10353270585853871,
          -0.10353270585853871,
          -0.0936774406932702,
          -0.0936774406932702,
          -0.08382217552800171,
          -0.04440111486692772,
          -0.03454584970165922,
          -0.014835319371122225,
          0.004875210959414771,
          0.004875210959414771,
          0.02458574128995177,
          0.03444100645522027,
          0.04429627162048876,
          0.07386206711629426,
          0.08371733228156275,
          0.08371733228156275,
          0.09357259744683126,
          0.10342786261209976,
          0.16255945360371074,
          0.18226998393424773,
          0.20198051426478472,
          0.20198051426478472,
          0.20198051426478472,
          0.23154630976059024,
          0.27096737042166424,
          0.27096737042166424,
          0.27096737042166424,
          0.3005331659174697,
          0.3103884310827382,
          0.3300989614132752,
          0.3498094917438122,
          0.3498094917438122,
          0.3990858175701547,
          0.4385068782312287,
          0.4385068782312287,
          0.4385068782312287,
          0.4483621433964972,
          0.4483621433964972,
          0.4680726737270342,
          0.49763846922283966,
          0.49763846922283966,
          0.49763846922283966,
          0.5764805905449877,
          0.5961911208755246,
          0.6060463860407932,
          0.6454674467018672,
          0.7144543028587467,
          0.8130069545114316,
          0.8425727500072371,
          0.9706911971557276,
          1.000256992651533,
          1.0199675229820702,
          1.1283754398000236,
          1.1283754398000236,
          1.1579412352958292,
          1.1579412352958292,
          1.1875070307916344,
          1.3057702127748565,
          1.374757068931736,
          1.433888659923347,
          1.5028755160802265,
          1.5225860464107634,
          1.532441311576032,
          1.5422965767413004,
          1.630993963228717,
          1.7196913497161335,
          1.749257145211939,
          1.749257145211939,
          1.7788229407077445,
          1.7788229407077445,
          1.8478097968646239,
          2.074480895665799,
          2.123757221492142,
          2.1631782821532157,
          2.182888812483753,
          2.20259934281429,
          2.301151994466975,
          2.340573055128049,
          3.0402968818621123,
          3.0402968818621123,
          3.1684153290106027,
          3.5626259356213428
         ],
         "xaxis": "x",
         "y": [
          0.7921687603019235,
          0.7921687603019235,
          0.8069195450878663,
          0.8179826336773235,
          0.8216703298738093,
          0.8253580260702948,
          0.8290457222667806,
          0.8327334184632664,
          0.836421114659752,
          0.8401088108562378,
          0.8511718994456949,
          0.8585472918386664,
          0.8659226842316379,
          0.8732980766246092,
          0.876985772821095,
          0.876985772821095,
          0.8843611652140664,
          0.8843611652140664,
          0.8917365576070378,
          0.8954242538035235,
          0.8954242538035235,
          0.8991119500000093,
          0.9064873423929807,
          0.9138627347859521,
          0.9138627347859521,
          0.9175504309824378,
          0.9175504309824378,
          0.9212381271789236,
          0.9249258233754093,
          0.9359889119648664,
          0.9433643043578379,
          0.9544273929472951,
          0.9544273929472951,
          0.9544273929472951,
          0.9544273929472951,
          0.9581150891437807,
          0.9654904815367522,
          0.9654904815367522,
          0.9913043549121522,
          0.9986797473051237,
          1.0097428358945808,
          1.0097428358945808,
          1.0171182282875522,
          1.0171182282875522,
          1.020805924484038,
          1.0244936206805235,
          1.0281813168770093,
          1.0281813168770093,
          1.0281813168770093,
          1.0281813168770093,
          1.031869013073495,
          1.031869013073495,
          1.035556709269981,
          1.035556709269981,
          1.0429321016629522,
          1.0429321016629522,
          1.0466197978594378,
          1.0539951902524094,
          1.0650582788418665,
          1.0650582788418665,
          1.0687459750383521,
          1.0687459750383521,
          1.072433671234838,
          1.0761213674313237,
          1.0798090636278093,
          1.0798090636278093,
          1.0871844560207808,
          1.0871844560207808,
          1.0908721522172664,
          1.0945598484137522,
          1.098247544610238,
          1.1019352408067236,
          1.1019352408067236,
          1.1019352408067236,
          1.1019352408067236,
          1.1056229370032093,
          1.1056229370032093,
          1.1056229370032093,
          1.1056229370032093,
          1.1056229370032093,
          1.1093106331996951,
          1.1129983293961807,
          1.124061417985638,
          1.1277491141821236,
          1.1388122027715808,
          1.149875291361038,
          1.149875291361038,
          1.1535629875575237,
          1.1535629875575237,
          1.1535629875575237,
          1.1572506837540093,
          1.160938379950495,
          1.1683137723434665,
          1.1720014685399522,
          1.1720014685399522,
          1.1793768609329238,
          1.1830645571294094,
          1.1867522533258952,
          1.1941276457188665,
          1.201503038111838,
          1.2051907343083237,
          1.2088784305048095,
          1.2236292152907524,
          1.227316911487238,
          1.2346923038802096,
          1.2383800000766951,
          1.2383800000766951,
          1.242067696273181,
          1.242067696273181,
          1.2457553924696667,
          1.2605061772556094,
          1.2641938734520952,
          1.2715692658450666,
          1.2789446582380382,
          1.2789446582380382,
          1.2863200506310095,
          1.2900077468274953,
          1.2936954430239809,
          1.304758531613438,
          1.3084462278099238,
          1.3084462278099238,
          1.3121339240064096,
          1.3158216202028952,
          1.3379477973818095,
          1.345323189774781,
          1.3526985821677524,
          1.3526985821677524,
          1.3526985821677524,
          1.3637616707572096,
          1.3785124555431525,
          1.3785124555431525,
          1.3785124555431525,
          1.3895755441326094,
          1.3932632403290952,
          1.4006386327220668,
          1.4080140251150381,
          1.4080140251150381,
          1.4264525060974667,
          1.4412032908834096,
          1.4412032908834096,
          1.4412032908834096,
          1.4448909870798954,
          1.4448909870798954,
          1.4522663794728667,
          1.463329468062324,
          1.463329468062324,
          1.463329468062324,
          1.4928310376342095,
          1.500206430027181,
          1.5038941262236667,
          1.5186449110096096,
          1.5444587843850095,
          1.5813357463498667,
          1.5923988349393239,
          1.6403388854936383,
          1.6514019740830954,
          1.658777366476067,
          1.6993420246374098,
          1.6993420246374098,
          1.710405113226867,
          1.710405113226867,
          1.7214682018163239,
          1.7657205561741525,
          1.7915344295495528,
          1.8136606067284669,
          1.839474480103867,
          1.8468498724968383,
          1.850537568693324,
          1.8542252648898097,
          1.887414530658181,
          1.9206037964265525,
          1.9316668850160097,
          1.9316668850160097,
          1.9427299736054668,
          1.9427299736054668,
          1.968543846980867,
          2.0533608595000383,
          2.071799340482467,
          2.0865501252684098,
          2.0939255176613814,
          2.101300910054353,
          2.13817787201921,
          2.1529286568051527,
          2.4147550867556387,
          2.4147550867556387,
          2.462695137309953,
          2.6102029851693818
         ],
         "yaxis": "y"
        }
       ],
       "layout": {
        "barmode": "overlay",
        "legend": {
         "tracegroupgap": 0
        },
        "margin": {
         "t": 60
        },
        "template": {
         "data": {
          "bar": [
           {
            "error_x": {
             "color": "#2a3f5f"
            },
            "error_y": {
             "color": "#2a3f5f"
            },
            "marker": {
             "line": {
              "color": "#E5ECF6",
              "width": 0.5
             },
             "pattern": {
              "fillmode": "overlay",
              "size": 10,
              "solidity": 0.2
             }
            },
            "type": "bar"
           }
          ],
          "barpolar": [
           {
            "marker": {
             "line": {
              "color": "#E5ECF6",
              "width": 0.5
             },
             "pattern": {
              "fillmode": "overlay",
              "size": 10,
              "solidity": 0.2
             }
            },
            "type": "barpolar"
           }
          ],
          "carpet": [
           {
            "aaxis": {
             "endlinecolor": "#2a3f5f",
             "gridcolor": "white",
             "linecolor": "white",
             "minorgridcolor": "white",
             "startlinecolor": "#2a3f5f"
            },
            "baxis": {
             "endlinecolor": "#2a3f5f",
             "gridcolor": "white",
             "linecolor": "white",
             "minorgridcolor": "white",
             "startlinecolor": "#2a3f5f"
            },
            "type": "carpet"
           }
          ],
          "choropleth": [
           {
            "colorbar": {
             "outlinewidth": 0,
             "ticks": ""
            },
            "type": "choropleth"
           }
          ],
          "contour": [
           {
            "colorbar": {
             "outlinewidth": 0,
             "ticks": ""
            },
            "colorscale": [
             [
              0,
              "#0d0887"
             ],
             [
              0.1111111111111111,
              "#46039f"
             ],
             [
              0.2222222222222222,
              "#7201a8"
             ],
             [
              0.3333333333333333,
              "#9c179e"
             ],
             [
              0.4444444444444444,
              "#bd3786"
             ],
             [
              0.5555555555555556,
              "#d8576b"
             ],
             [
              0.6666666666666666,
              "#ed7953"
             ],
             [
              0.7777777777777778,
              "#fb9f3a"
             ],
             [
              0.8888888888888888,
              "#fdca26"
             ],
             [
              1,
              "#f0f921"
             ]
            ],
            "type": "contour"
           }
          ],
          "contourcarpet": [
           {
            "colorbar": {
             "outlinewidth": 0,
             "ticks": ""
            },
            "type": "contourcarpet"
           }
          ],
          "heatmap": [
           {
            "colorbar": {
             "outlinewidth": 0,
             "ticks": ""
            },
            "colorscale": [
             [
              0,
              "#0d0887"
             ],
             [
              0.1111111111111111,
              "#46039f"
             ],
             [
              0.2222222222222222,
              "#7201a8"
             ],
             [
              0.3333333333333333,
              "#9c179e"
             ],
             [
              0.4444444444444444,
              "#bd3786"
             ],
             [
              0.5555555555555556,
              "#d8576b"
             ],
             [
              0.6666666666666666,
              "#ed7953"
             ],
             [
              0.7777777777777778,
              "#fb9f3a"
             ],
             [
              0.8888888888888888,
              "#fdca26"
             ],
             [
              1,
              "#f0f921"
             ]
            ],
            "type": "heatmap"
           }
          ],
          "heatmapgl": [
           {
            "colorbar": {
             "outlinewidth": 0,
             "ticks": ""
            },
            "colorscale": [
             [
              0,
              "#0d0887"
             ],
             [
              0.1111111111111111,
              "#46039f"
             ],
             [
              0.2222222222222222,
              "#7201a8"
             ],
             [
              0.3333333333333333,
              "#9c179e"
             ],
             [
              0.4444444444444444,
              "#bd3786"
             ],
             [
              0.5555555555555556,
              "#d8576b"
             ],
             [
              0.6666666666666666,
              "#ed7953"
             ],
             [
              0.7777777777777778,
              "#fb9f3a"
             ],
             [
              0.8888888888888888,
              "#fdca26"
             ],
             [
              1,
              "#f0f921"
             ]
            ],
            "type": "heatmapgl"
           }
          ],
          "histogram": [
           {
            "marker": {
             "pattern": {
              "fillmode": "overlay",
              "size": 10,
              "solidity": 0.2
             }
            },
            "type": "histogram"
           }
          ],
          "histogram2d": [
           {
            "colorbar": {
             "outlinewidth": 0,
             "ticks": ""
            },
            "colorscale": [
             [
              0,
              "#0d0887"
             ],
             [
              0.1111111111111111,
              "#46039f"
             ],
             [
              0.2222222222222222,
              "#7201a8"
             ],
             [
              0.3333333333333333,
              "#9c179e"
             ],
             [
              0.4444444444444444,
              "#bd3786"
             ],
             [
              0.5555555555555556,
              "#d8576b"
             ],
             [
              0.6666666666666666,
              "#ed7953"
             ],
             [
              0.7777777777777778,
              "#fb9f3a"
             ],
             [
              0.8888888888888888,
              "#fdca26"
             ],
             [
              1,
              "#f0f921"
             ]
            ],
            "type": "histogram2d"
           }
          ],
          "histogram2dcontour": [
           {
            "colorbar": {
             "outlinewidth": 0,
             "ticks": ""
            },
            "colorscale": [
             [
              0,
              "#0d0887"
             ],
             [
              0.1111111111111111,
              "#46039f"
             ],
             [
              0.2222222222222222,
              "#7201a8"
             ],
             [
              0.3333333333333333,
              "#9c179e"
             ],
             [
              0.4444444444444444,
              "#bd3786"
             ],
             [
              0.5555555555555556,
              "#d8576b"
             ],
             [
              0.6666666666666666,
              "#ed7953"
             ],
             [
              0.7777777777777778,
              "#fb9f3a"
             ],
             [
              0.8888888888888888,
              "#fdca26"
             ],
             [
              1,
              "#f0f921"
             ]
            ],
            "type": "histogram2dcontour"
           }
          ],
          "mesh3d": [
           {
            "colorbar": {
             "outlinewidth": 0,
             "ticks": ""
            },
            "type": "mesh3d"
           }
          ],
          "parcoords": [
           {
            "line": {
             "colorbar": {
              "outlinewidth": 0,
              "ticks": ""
             }
            },
            "type": "parcoords"
           }
          ],
          "pie": [
           {
            "automargin": true,
            "type": "pie"
           }
          ],
          "scatter": [
           {
            "fillpattern": {
             "fillmode": "overlay",
             "size": 10,
             "solidity": 0.2
            },
            "type": "scatter"
           }
          ],
          "scatter3d": [
           {
            "line": {
             "colorbar": {
              "outlinewidth": 0,
              "ticks": ""
             }
            },
            "marker": {
             "colorbar": {
              "outlinewidth": 0,
              "ticks": ""
             }
            },
            "type": "scatter3d"
           }
          ],
          "scattercarpet": [
           {
            "marker": {
             "colorbar": {
              "outlinewidth": 0,
              "ticks": ""
             }
            },
            "type": "scattercarpet"
           }
          ],
          "scattergeo": [
           {
            "marker": {
             "colorbar": {
              "outlinewidth": 0,
              "ticks": ""
             }
            },
            "type": "scattergeo"
           }
          ],
          "scattergl": [
           {
            "marker": {
             "colorbar": {
              "outlinewidth": 0,
              "ticks": ""
             }
            },
            "type": "scattergl"
           }
          ],
          "scattermapbox": [
           {
            "marker": {
             "colorbar": {
              "outlinewidth": 0,
              "ticks": ""
             }
            },
            "type": "scattermapbox"
           }
          ],
          "scatterpolar": [
           {
            "marker": {
             "colorbar": {
              "outlinewidth": 0,
              "ticks": ""
             }
            },
            "type": "scatterpolar"
           }
          ],
          "scatterpolargl": [
           {
            "marker": {
             "colorbar": {
              "outlinewidth": 0,
              "ticks": ""
             }
            },
            "type": "scatterpolargl"
           }
          ],
          "scatterternary": [
           {
            "marker": {
             "colorbar": {
              "outlinewidth": 0,
              "ticks": ""
             }
            },
            "type": "scatterternary"
           }
          ],
          "surface": [
           {
            "colorbar": {
             "outlinewidth": 0,
             "ticks": ""
            },
            "colorscale": [
             [
              0,
              "#0d0887"
             ],
             [
              0.1111111111111111,
              "#46039f"
             ],
             [
              0.2222222222222222,
              "#7201a8"
             ],
             [
              0.3333333333333333,
              "#9c179e"
             ],
             [
              0.4444444444444444,
              "#bd3786"
             ],
             [
              0.5555555555555556,
              "#d8576b"
             ],
             [
              0.6666666666666666,
              "#ed7953"
             ],
             [
              0.7777777777777778,
              "#fb9f3a"
             ],
             [
              0.8888888888888888,
              "#fdca26"
             ],
             [
              1,
              "#f0f921"
             ]
            ],
            "type": "surface"
           }
          ],
          "table": [
           {
            "cells": {
             "fill": {
              "color": "#EBF0F8"
             },
             "line": {
              "color": "white"
             }
            },
            "header": {
             "fill": {
              "color": "#C8D4E3"
             },
             "line": {
              "color": "white"
             }
            },
            "type": "table"
           }
          ]
         },
         "layout": {
          "annotationdefaults": {
           "arrowcolor": "#2a3f5f",
           "arrowhead": 0,
           "arrowwidth": 1
          },
          "autotypenumbers": "strict",
          "coloraxis": {
           "colorbar": {
            "outlinewidth": 0,
            "ticks": ""
           }
          },
          "colorscale": {
           "diverging": [
            [
             0,
             "#8e0152"
            ],
            [
             0.1,
             "#c51b7d"
            ],
            [
             0.2,
             "#de77ae"
            ],
            [
             0.3,
             "#f1b6da"
            ],
            [
             0.4,
             "#fde0ef"
            ],
            [
             0.5,
             "#f7f7f7"
            ],
            [
             0.6,
             "#e6f5d0"
            ],
            [
             0.7,
             "#b8e186"
            ],
            [
             0.8,
             "#7fbc41"
            ],
            [
             0.9,
             "#4d9221"
            ],
            [
             1,
             "#276419"
            ]
           ],
           "sequential": [
            [
             0,
             "#0d0887"
            ],
            [
             0.1111111111111111,
             "#46039f"
            ],
            [
             0.2222222222222222,
             "#7201a8"
            ],
            [
             0.3333333333333333,
             "#9c179e"
            ],
            [
             0.4444444444444444,
             "#bd3786"
            ],
            [
             0.5555555555555556,
             "#d8576b"
            ],
            [
             0.6666666666666666,
             "#ed7953"
            ],
            [
             0.7777777777777778,
             "#fb9f3a"
            ],
            [
             0.8888888888888888,
             "#fdca26"
            ],
            [
             1,
             "#f0f921"
            ]
           ],
           "sequentialminus": [
            [
             0,
             "#0d0887"
            ],
            [
             0.1111111111111111,
             "#46039f"
            ],
            [
             0.2222222222222222,
             "#7201a8"
            ],
            [
             0.3333333333333333,
             "#9c179e"
            ],
            [
             0.4444444444444444,
             "#bd3786"
            ],
            [
             0.5555555555555556,
             "#d8576b"
            ],
            [
             0.6666666666666666,
             "#ed7953"
            ],
            [
             0.7777777777777778,
             "#fb9f3a"
            ],
            [
             0.8888888888888888,
             "#fdca26"
            ],
            [
             1,
             "#f0f921"
            ]
           ]
          },
          "colorway": [
           "#636efa",
           "#EF553B",
           "#00cc96",
           "#ab63fa",
           "#FFA15A",
           "#19d3f3",
           "#FF6692",
           "#B6E880",
           "#FF97FF",
           "#FECB52"
          ],
          "font": {
           "color": "#2a3f5f"
          },
          "geo": {
           "bgcolor": "white",
           "lakecolor": "white",
           "landcolor": "#E5ECF6",
           "showlakes": true,
           "showland": true,
           "subunitcolor": "white"
          },
          "hoverlabel": {
           "align": "left"
          },
          "hovermode": "closest",
          "mapbox": {
           "style": "light"
          },
          "paper_bgcolor": "white",
          "plot_bgcolor": "#E5ECF6",
          "polar": {
           "angularaxis": {
            "gridcolor": "white",
            "linecolor": "white",
            "ticks": ""
           },
           "bgcolor": "#E5ECF6",
           "radialaxis": {
            "gridcolor": "white",
            "linecolor": "white",
            "ticks": ""
           }
          },
          "scene": {
           "xaxis": {
            "backgroundcolor": "#E5ECF6",
            "gridcolor": "white",
            "gridwidth": 2,
            "linecolor": "white",
            "showbackground": true,
            "ticks": "",
            "zerolinecolor": "white"
           },
           "yaxis": {
            "backgroundcolor": "#E5ECF6",
            "gridcolor": "white",
            "gridwidth": 2,
            "linecolor": "white",
            "showbackground": true,
            "ticks": "",
            "zerolinecolor": "white"
           },
           "zaxis": {
            "backgroundcolor": "#E5ECF6",
            "gridcolor": "white",
            "gridwidth": 2,
            "linecolor": "white",
            "showbackground": true,
            "ticks": "",
            "zerolinecolor": "white"
           }
          },
          "shapedefaults": {
           "line": {
            "color": "#2a3f5f"
           }
          },
          "ternary": {
           "aaxis": {
            "gridcolor": "white",
            "linecolor": "white",
            "ticks": ""
           },
           "baxis": {
            "gridcolor": "white",
            "linecolor": "white",
            "ticks": ""
           },
           "bgcolor": "#E5ECF6",
           "caxis": {
            "gridcolor": "white",
            "linecolor": "white",
            "ticks": ""
           }
          },
          "title": {
           "x": 0.05
          },
          "xaxis": {
           "automargin": true,
           "gridcolor": "white",
           "linecolor": "white",
           "ticks": "",
           "title": {
            "standoff": 15
           },
           "zerolinecolor": "white",
           "zerolinewidth": 2
          },
          "yaxis": {
           "automargin": true,
           "gridcolor": "white",
           "linecolor": "white",
           "ticks": "",
           "title": {
            "standoff": 15
           },
           "zerolinecolor": "white",
           "zerolinewidth": 2
          }
         }
        },
        "xaxis": {
         "anchor": "y",
         "domain": [
          0,
          0.7363
         ],
         "title": {
          "text": "filtered_length_scaled"
         }
        },
        "xaxis2": {
         "anchor": "y2",
         "domain": [
          0.7413,
          1
         ],
         "matches": "x2",
         "showgrid": true,
         "showline": false,
         "showticklabels": false,
         "ticks": ""
        },
        "xaxis3": {
         "anchor": "y3",
         "domain": [
          0,
          0.7363
         ],
         "matches": "x",
         "showgrid": true,
         "showticklabels": false
        },
        "xaxis4": {
         "anchor": "y4",
         "domain": [
          0.7413,
          1
         ],
         "matches": "x2",
         "showgrid": true,
         "showline": false,
         "showticklabels": false,
         "ticks": ""
        },
        "yaxis": {
         "anchor": "x",
         "domain": [
          0,
          0.7326
         ],
         "title": {
          "text": "dprime"
         }
        },
        "yaxis2": {
         "anchor": "x2",
         "domain": [
          0,
          0.7326
         ],
         "matches": "y",
         "showgrid": true,
         "showticklabels": false
        },
        "yaxis3": {
         "anchor": "x3",
         "domain": [
          0.7426,
          1
         ],
         "matches": "y3",
         "showgrid": true,
         "showline": false,
         "showticklabels": false,
         "ticks": ""
        },
        "yaxis4": {
         "anchor": "x4",
         "domain": [
          0.7426,
          1
         ],
         "matches": "y3",
         "showgrid": true,
         "showline": false,
         "showticklabels": false,
         "ticks": ""
        }
       }
      }
     },
     "metadata": {},
     "output_type": "display_data"
    }
   ],
   "source": [
    "px.scatter(memory_df.dropna(axis=0), x='filtered_length_scaled', \n",
    "           marginal_x='histogram', marginal_y='histogram',\n",
    "           y='dprime', \n",
    "        #    color='sub',\n",
    "           hover_data=['sub', 'bias', 'movie'], trendline='ols')"
   ]
  },
  {
   "cell_type": "code",
   "execution_count": 28,
   "metadata": {},
   "outputs": [
    {
     "data": {
      "application/vnd.plotly.v1+json": {
       "config": {
        "plotlyServerURL": "https://plot.ly"
       },
       "data": [
        {
         "customdata": [
          [
           "e152005"
          ],
          [
           "e152005"
          ],
          [
           "e152005"
          ],
          [
           "e152005"
          ],
          [
           "e152006"
          ],
          [
           "e152006"
          ],
          [
           "e152006"
          ],
          [
           "e152006"
          ],
          [
           "e152007"
          ],
          [
           "e152007"
          ],
          [
           "e152007"
          ],
          [
           "e152007"
          ],
          [
           "e152008"
          ],
          [
           "e152008"
          ],
          [
           "e152008"
          ],
          [
           "e152008"
          ],
          [
           "e152009"
          ],
          [
           "e152009"
          ],
          [
           "e152009"
          ],
          [
           "e152009"
          ],
          [
           "e152010"
          ],
          [
           "e152010"
          ],
          [
           "e152010"
          ],
          [
           "e152010"
          ],
          [
           "e152011"
          ],
          [
           "e152011"
          ],
          [
           "e152011"
          ],
          [
           "e152011"
          ],
          [
           "e152013"
          ],
          [
           "e152013"
          ],
          [
           "e152013"
          ],
          [
           "e152013"
          ],
          [
           "e152014"
          ],
          [
           "e152014"
          ],
          [
           "e152014"
          ],
          [
           "e152014"
          ],
          [
           "e152015"
          ],
          [
           "e152015"
          ],
          [
           "e152015"
          ],
          [
           "e152015"
          ],
          [
           "e152016"
          ],
          [
           "e152016"
          ],
          [
           "e152016"
          ],
          [
           "e152016"
          ],
          [
           "e152017"
          ],
          [
           "e152017"
          ],
          [
           "e152017"
          ],
          [
           "e152017"
          ],
          [
           "e152018"
          ],
          [
           "e152018"
          ],
          [
           "e152018"
          ],
          [
           "e152018"
          ],
          [
           "e152019"
          ],
          [
           "e152019"
          ],
          [
           "e152019"
          ],
          [
           "e152019"
          ],
          [
           "e152020v2"
          ],
          [
           "e152020v2"
          ],
          [
           "e152020v2"
          ],
          [
           "e152020v2"
          ],
          [
           "e152021"
          ],
          [
           "e152021"
          ],
          [
           "e152021"
          ],
          [
           "e152021"
          ],
          [
           "e152022"
          ],
          [
           "e152022"
          ],
          [
           "e152022"
          ],
          [
           "e152022"
          ],
          [
           "e152023"
          ],
          [
           "e152023"
          ],
          [
           "e152023"
          ],
          [
           "e152023"
          ],
          [
           "e152024"
          ],
          [
           "e152024"
          ],
          [
           "e152024"
          ],
          [
           "e152024"
          ],
          [
           "e152025"
          ],
          [
           "e152025"
          ],
          [
           "e152025"
          ],
          [
           "e152025"
          ],
          [
           "e152026"
          ],
          [
           "e152026"
          ],
          [
           "e152026"
          ],
          [
           "e152026"
          ],
          [
           "e152027"
          ],
          [
           "e152027"
          ],
          [
           "e152027"
          ],
          [
           "e152027"
          ],
          [
           "e152028"
          ],
          [
           "e152028"
          ],
          [
           "e152028"
          ],
          [
           "e152029"
          ],
          [
           "e152029"
          ],
          [
           "e152029"
          ],
          [
           "e152029"
          ],
          [
           "e152030"
          ],
          [
           "e152030"
          ],
          [
           "e152030"
          ],
          [
           "e152030"
          ],
          [
           "e152031"
          ],
          [
           "e152031"
          ],
          [
           "e152031"
          ],
          [
           "e152031"
          ],
          [
           "e152032"
          ],
          [
           "e152032"
          ],
          [
           "e152032"
          ],
          [
           "e152032"
          ],
          [
           "e152033"
          ],
          [
           "e152033"
          ],
          [
           "e152033"
          ],
          [
           "e152033"
          ],
          [
           "e152034"
          ],
          [
           "e152034"
          ],
          [
           "e152034"
          ],
          [
           "e152034"
          ],
          [
           "e152035"
          ],
          [
           "e152035"
          ],
          [
           "e152035"
          ],
          [
           "e152035"
          ],
          [
           "e152036"
          ],
          [
           "e152036"
          ],
          [
           "e152036"
          ],
          [
           "e152036"
          ],
          [
           "e152037"
          ],
          [
           "e152037"
          ],
          [
           "e152037"
          ],
          [
           "e152037"
          ],
          [
           "e152038"
          ],
          [
           "e152038"
          ],
          [
           "e152038"
          ],
          [
           "e152038"
          ],
          [
           "e152039"
          ],
          [
           "e152039"
          ],
          [
           "e152039"
          ],
          [
           "e152039"
          ],
          [
           "e152040"
          ],
          [
           "e152040"
          ],
          [
           "e152040"
          ],
          [
           "e152040"
          ],
          [
           "e152041"
          ],
          [
           "e152041"
          ],
          [
           "e152041"
          ],
          [
           "e152041"
          ],
          [
           "e152042"
          ],
          [
           "e152042"
          ],
          [
           "e152042"
          ],
          [
           "e152042"
          ],
          [
           "e152043"
          ],
          [
           "e152043"
          ],
          [
           "e152043"
          ],
          [
           "e152043"
          ],
          [
           "e152044"
          ],
          [
           "e152044"
          ],
          [
           "e152044"
          ],
          [
           "e152044"
          ],
          [
           "e152045"
          ],
          [
           "e152045"
          ],
          [
           "e152045"
          ],
          [
           "e152045"
          ],
          [
           "e152046"
          ],
          [
           "e152046"
          ],
          [
           "e152046"
          ],
          [
           "e152046"
          ],
          [
           "e152047"
          ],
          [
           "e152047"
          ],
          [
           "e152047"
          ],
          [
           "e152047"
          ],
          [
           "e152049"
          ],
          [
           "e152049"
          ],
          [
           "e152049"
          ],
          [
           "e152049"
          ],
          [
           "e152050"
          ],
          [
           "e152050"
          ],
          [
           "e152050"
          ],
          [
           "e152050"
          ],
          [
           "e152051"
          ],
          [
           "e152051"
          ],
          [
           "e152051"
          ],
          [
           "e152051"
          ],
          [
           "e152052"
          ],
          [
           "e152052"
          ],
          [
           "e152052"
          ],
          [
           "e152052"
          ],
          [
           "e152053"
          ],
          [
           "e152053"
          ],
          [
           "e152053"
          ],
          [
           "e152053"
          ]
         ],
         "hovertemplate": "bias=%{x}<br>dprime=%{y}<br>sub=%{customdata[0]}<extra></extra>",
         "legendgroup": "",
         "marker": {
          "color": "#636efa",
          "symbol": "circle"
         },
         "mode": "markers",
         "name": "",
         "orientation": "v",
         "showlegend": false,
         "type": "scatter",
         "x": [
          -0.5632290867050727,
          -0.6545858583928885,
          -0.7177817359160067,
          -0.3411250287352867,
          -0.16915234654683464,
          0.4461967303309564,
          -0.33920620949772684,
          -0.41338498018708236,
          -0.9171513188424899,
          0.06458910059171269,
          -0.7637742401852872,
          -0.8970262704010766,
          0.4784080084387602,
          0.16199517855215045,
          0.10399061639660667,
          0.0801452701234745,
          0,
          0.20270435814887977,
          0.01851242660630703,
          0.2845542665775557,
          -0.7527333117005096,
          -0.7037850277528888,
          -0.43874331040372977,
          -0.47095458851153355,
          0.19636705334312632,
          -0.013810075620588336,
          -0.06505331508210926,
          -0.3411250287352867,
          -1.1471730044171757,
          -0.8472460915966724,
          -1.1471730044171757,
          -0.8472460915966724,
          -0.5477278729651145,
          -0.8970262704010766,
          -0.49938620856470994,
          -0.9608691485414393,
          -1.959963984540054,
          -1.6566224104492755,
          -1.959963984540054,
          -1.1745610447113708,
          -0.374900432263367,
          -0.49695072187549866,
          0.18105779012098205,
          -0.4380714246234204,
          -0.11307927509757523,
          -0.020774154612411222,
          -0.6260597601326098,
          -0.7075220454056397,
          -0.3891175125326777,
          -0.4619256251891046,
          -0.2888148850345689,
          -1.2550062137599967,
          -0.8099281293191348,
          -0.7812594099607884,
          -1.0197906785781616,
          -0.7002716809774407,
          -0.920514884927045,
          -1.1745610447113708,
          0.020424874708190377,
          -0.5451746673204518,
          -0.3168200003898505,
          -0.029858549892661446,
          -0.03676998896709642,
          0.21667973646425243,
          1.2968019926598775,
          -0.3411250287352867,
          0.8388188589293077,
          -0.09402125984072413,
          -0.2888148850345689,
          -0.19341981420123933,
          -1.0721283856731552,
          -0.5917551849653514,
          0.35392223213741725,
          0.7925682635830746,
          -0.20524914334615263,
          -0.5966159353666077,
          -0.19014644882195061,
          0.12188122545031213,
          -0.04134551861801167,
          -0.2201437375388945,
          -0.23084974361344862,
          -0.7959855182930909,
          -1.3281448240660296,
          -1.1066555438379269,
          -0.30891375062748294,
          0.7324206285793836,
          -0.08076336704480969,
          -0.23377524160643137,
          -0.594958423383934,
          -1.0197906785781616,
          -0.3420372012156286,
          -0.3891175125326777,
          0.24723869020168837,
          0.014716022639690407,
          0.06458910059171269,
          -1.3172268673680678,
          -0.8710301370371114,
          -0.3606793033896954,
          -0.21432089745564037,
          -0.49938620856470994,
          -0.6604588135069704,
          -0.4617652975231321,
          -0.7873217590662431,
          -0.9171513188424899,
          -0.3458050843939686,
          -0.7177817359160067,
          -0.31734098329484767,
          0.01249868415660127,
          -0.41369048038212364,
          -0.6260597601326098,
          -0.10082654952537956,
          0.15965432701586357,
          0.11071003232591706,
          -0.0996006623946335,
          -0.3113978730555206,
          0.01664271091562808,
          -0.2715850055850503,
          0.0941811861681088,
          -0.15253297622019163,
          0.4784080084387602,
          -0.020774154612411222,
          -0.20963795697636625,
          0.0801452701234745,
          -0.15755517879429093,
          -0.6307316578272043,
          -0.6260597601326098,
          -0.6184217725487648,
          -0.10784306538571486,
          -0.1563008593985317,
          -0.8533084407021272,
          -0.6545858583928885,
          -0.7873217590662431,
          -0.3458050843939686,
          -0.08076336704480969,
          -0.5337852619390706,
          -0.20963795697636625,
          -0.4080238828515126,
          0.09305957080915037,
          -0.1635612829909606,
          -0.10784306538571486,
          -0.17587116826940008,
          -0.4434935519577503,
          -0.2201437375388945,
          -0.30891375062748294,
          -0.47756390600174903,
          -0.1596543270158635,
          -0.7873217590662431,
          0.18105779012098205,
          0.35220644125037287,
          -0.10518839675837445,
          -0.2201437375388945,
          -0.2539893269623134,
          -0.24541119141963655,
          -0.4022981901801501,
          -0.6604588135069704,
          -1.4507039120914351,
          0.23524228378046336,
          -0.7527333117005096,
          -0.2201437375388945,
          -0.14009793382612978,
          0.3667264707187916,
          -0.7395430652781909,
          -0.8341955969735395,
          -0.6644984465341705,
          -0.9562881193703153,
          -0.7637742401852872,
          -1.2550062137599967,
          0.014716022639690407,
          -0.7264454951428545,
          -0.6260597601326098,
          -0.6604588135069704,
          -0.2888148850345689,
          -0.5279123068249887,
          -0.979981992270027,
          -0.8533084407021272,
          -0.36385950377858944,
          -0.3458050843939686,
          -0.2539893269623134,
          -0.020774154612411222,
          -0.2888148850345689,
          0.20544696713872843,
          -0.2888148850345689,
          -0.3411250287352867,
          -0.15755517879429093,
          -0.09268922332019852,
          -0.472683254221094,
          -0.9608691485414393
         ],
         "xaxis": "x",
         "y": [
          1.3777808671202938,
          1.309171716785777,
          2.4843644972480945,
          1.452890990285709,
          2.9014078241828702,
          3.0275345084181953,
          3.2415155500846544,
          2.5100124275199933,
          2.085625331395128,
          1.554064265962403,
          0.478747454954493,
          1.5427298470920048,
          2.9631119522025875,
          1.7488764218832786,
          1.4752612343526152,
          1.9125762387406307,
          3.919927969080108,
          2.1576944147914414,
          1.6462176139332145,
          1.9939945979340892,
          0.9987724171294199,
          -0.2756724116400512,
          1.128809314517608,
          1.1932318707332155,
          2.8969731472166917,
          2.5907232823303774,
          1.4790861305563818,
          1.452890990285709,
          0.945366508442188,
          0.9238512503782093,
          0.945366508442188,
          0.9238512503782093,
          2.1442567713463103,
          1.5427298470920048,
          1.5054666234010192,
          1.4150440908112794,
          0,
          0.02353756699560683,
          0,
          -0.21398104166645915,
          1.2564950707983333,
          2.3428809441431606,
          1.3211268869038646,
          0.8761428492468408,
          0.73285275646675,
          1.0903493346409037,
          1.2521195202652196,
          1.9217382970828787,
          2.461477492211184,
          1.6944921831933448,
          1.9266092704613014,
          0.8267699603741647,
          1.6198562586382697,
          1.0558246136499774,
          -0.03328542183125616,
          0.35174233653880016,
          -0.2318370091334896,
          -0.21398104166645915,
          1.3081297509757825,
          0.041548309224822444,
          0.633640000779701,
          0.05971709978532289,
          0.3248626716443411,
          0.07333473334309462,
          1.326323983760353,
          1.452890990285709,
          -0.32865821746645196,
          1.2368435450975297,
          1.9266092704613014,
          2.9499427594916794,
          1.095455745930229,
          1.4348330636408513,
          3.212083504805274,
          1.704570726736795,
          2.0937407538381336,
          0.9419091770230671,
          0.8869871039155006,
          1.1052170494915392,
          0.5893852435076228,
          0.6916101687879372,
          0.2103767935167489,
          0.5431700111701006,
          0.5834228691444798,
          1.7066168814042544,
          1.3884684340701015,
          1.8248659967441772,
          1.844769201235448,
          2.1507929503586913,
          0.4192759139527325,
          -0.03328542183125616,
          0.17738019615965772,
          2.461477492211184,
          0.8545021199887867,
          2.5336710858098197,
          1.554064265962403,
          1.2854742343439725,
          0.3930807736820595,
          -0.04928232603574467,
          0.1773191012011324,
          1.5054666234010192,
          0.8142234207423416,
          2.996397374033844,
          2.345284450947622,
          2.085625331395128,
          0.440287475077789,
          2.4843644972480945,
          1.9836614669818586,
          3.264709885589742,
          -0.22142006465183411,
          1.2521195202652196,
          1.5506325994429226,
          0.4513322787834083,
          0.8273809607642473,
          0.199201324789267,
          1.1294899523826405,
          2.0395813571563233,
          1.5919710365861819,
          0.8604386530798638,
          0.5563886461505316,
          2.9631119522025875,
          1.0903493346409037,
          1.189916846767868,
          1.9125762387406307,
          3.6048176114915265,
          0.4908223828392731,
          1.2521195202652196,
          0.18804251968144825,
          2.2885529097590096,
          0.8192959250686629,
          2.2133110876758537,
          1.309171716785777,
          2.345284450947622,
          0.440287475077789,
          1.844769201235448,
          1.0675705238781412,
          1.189916846767868,
          0.045406832887889714,
          0.5845217911968348,
          1.0977634987970566,
          2.2885529097590096,
          1.4005433619548815,
          0.38029289764390123,
          0.6916101687879372,
          1.3884684340701015,
          -0.09367321341258322,
          -0.4513322787834085,
          2.345284450947622,
          1.3211268869038646,
          0.3443881429153356,
          0.46169948722689724,
          0.6916101687879372,
          0.7593013476347751,
          1.2614633156544086,
          0.8045963803603002,
          0.8142234207423416,
          0.3383046930936693,
          1.602382211426653,
          0.9987724171294199,
          0.6916101687879372,
          1.328996893068341,
          1.3394138375499964,
          0.13010663016421853,
          1.668391193947079,
          0.28019586765225957,
          -0.160290540246949,
          0.478747454954493,
          0.8267699603741647,
          2.5336710858098197,
          0.6822500574705734,
          1.2521195202652196,
          0.8142234207423416,
          1.9266092704613014,
          1.5625188199215767,
          1.959963984540054,
          2.2133110876758537,
          1.7765200329732602,
          0.440287475077789,
          0.7593013476347751,
          1.0903493346409037,
          1.9266092704613014,
          1.2723485328683717,
          1.9266092704613014,
          1.452890990285709,
          3.6048176114915265,
          -0.06594424706975127,
          2.2943460088343515,
          1.4150440908112794
         ],
         "yaxis": "y"
        },
        {
         "alignmentgroup": "True",
         "bingroup": "x",
         "hovertemplate": "bias=%{x}<br>count=%{y}<extra></extra>",
         "legendgroup": "",
         "marker": {
          "color": "#636efa"
         },
         "name": "",
         "offsetgroup": "",
         "opacity": 0.5,
         "showlegend": false,
         "type": "histogram",
         "x": [
          -0.5632290867050727,
          -0.6545858583928885,
          -0.7177817359160067,
          -0.3411250287352867,
          -0.16915234654683464,
          0.4461967303309564,
          -0.33920620949772684,
          -0.41338498018708236,
          -0.9171513188424899,
          0.06458910059171269,
          -0.7637742401852872,
          -0.8970262704010766,
          0.4784080084387602,
          0.16199517855215045,
          0.10399061639660667,
          0.0801452701234745,
          0,
          0.20270435814887977,
          0.01851242660630703,
          0.2845542665775557,
          -0.7527333117005096,
          -0.7037850277528888,
          -0.43874331040372977,
          -0.47095458851153355,
          0.19636705334312632,
          -0.013810075620588336,
          -0.06505331508210926,
          -0.3411250287352867,
          -1.1471730044171757,
          -0.8472460915966724,
          -1.1471730044171757,
          -0.8472460915966724,
          -0.5477278729651145,
          -0.8970262704010766,
          -0.49938620856470994,
          -0.9608691485414393,
          -1.959963984540054,
          -1.6566224104492755,
          -1.959963984540054,
          -1.1745610447113708,
          -0.374900432263367,
          -0.49695072187549866,
          0.18105779012098205,
          -0.4380714246234204,
          -0.11307927509757523,
          -0.020774154612411222,
          -0.6260597601326098,
          -0.7075220454056397,
          -0.3891175125326777,
          -0.4619256251891046,
          -0.2888148850345689,
          -1.2550062137599967,
          -0.8099281293191348,
          -0.7812594099607884,
          -1.0197906785781616,
          -0.7002716809774407,
          -0.920514884927045,
          -1.1745610447113708,
          0.020424874708190377,
          -0.5451746673204518,
          -0.3168200003898505,
          -0.029858549892661446,
          -0.03676998896709642,
          0.21667973646425243,
          1.2968019926598775,
          -0.3411250287352867,
          0.8388188589293077,
          -0.09402125984072413,
          -0.2888148850345689,
          -0.19341981420123933,
          -1.0721283856731552,
          -0.5917551849653514,
          0.35392223213741725,
          0.7925682635830746,
          -0.20524914334615263,
          -0.5966159353666077,
          -0.19014644882195061,
          0.12188122545031213,
          -0.04134551861801167,
          -0.2201437375388945,
          -0.23084974361344862,
          -0.7959855182930909,
          -1.3281448240660296,
          -1.1066555438379269,
          -0.30891375062748294,
          0.7324206285793836,
          -0.08076336704480969,
          -0.23377524160643137,
          -0.594958423383934,
          -1.0197906785781616,
          -0.3420372012156286,
          -0.3891175125326777,
          0.24723869020168837,
          0.014716022639690407,
          0.06458910059171269,
          -1.3172268673680678,
          -0.8710301370371114,
          -0.3606793033896954,
          -0.21432089745564037,
          -0.49938620856470994,
          -0.6604588135069704,
          -0.4617652975231321,
          -0.7873217590662431,
          -0.9171513188424899,
          -0.3458050843939686,
          -0.7177817359160067,
          -0.31734098329484767,
          0.01249868415660127,
          -0.41369048038212364,
          -0.6260597601326098,
          -0.10082654952537956,
          0.15965432701586357,
          0.11071003232591706,
          -0.0996006623946335,
          -0.3113978730555206,
          0.01664271091562808,
          -0.2715850055850503,
          0.0941811861681088,
          -0.15253297622019163,
          0.4784080084387602,
          -0.020774154612411222,
          -0.20963795697636625,
          0.0801452701234745,
          -0.15755517879429093,
          -0.6307316578272043,
          -0.6260597601326098,
          -0.6184217725487648,
          -0.10784306538571486,
          -0.1563008593985317,
          -0.8533084407021272,
          -0.6545858583928885,
          -0.7873217590662431,
          -0.3458050843939686,
          -0.08076336704480969,
          -0.5337852619390706,
          -0.20963795697636625,
          -0.4080238828515126,
          0.09305957080915037,
          -0.1635612829909606,
          -0.10784306538571486,
          -0.17587116826940008,
          -0.4434935519577503,
          -0.2201437375388945,
          -0.30891375062748294,
          -0.47756390600174903,
          -0.1596543270158635,
          -0.7873217590662431,
          0.18105779012098205,
          0.35220644125037287,
          -0.10518839675837445,
          -0.2201437375388945,
          -0.2539893269623134,
          -0.24541119141963655,
          -0.4022981901801501,
          -0.6604588135069704,
          -1.4507039120914351,
          0.23524228378046336,
          -0.7527333117005096,
          -0.2201437375388945,
          -0.14009793382612978,
          0.3667264707187916,
          -0.7395430652781909,
          -0.8341955969735395,
          -0.6644984465341705,
          -0.9562881193703153,
          -0.7637742401852872,
          -1.2550062137599967,
          0.014716022639690407,
          -0.7264454951428545,
          -0.6260597601326098,
          -0.6604588135069704,
          -0.2888148850345689,
          -0.5279123068249887,
          -0.979981992270027,
          -0.8533084407021272,
          -0.36385950377858944,
          -0.3458050843939686,
          -0.2539893269623134,
          -0.020774154612411222,
          -0.2888148850345689,
          0.20544696713872843,
          -0.2888148850345689,
          -0.3411250287352867,
          -0.15755517879429093,
          -0.09268922332019852,
          -0.472683254221094,
          -0.9608691485414393
         ],
         "xaxis": "x3",
         "yaxis": "y3"
        },
        {
         "alignmentgroup": "True",
         "bingroup": "y",
         "hovertemplate": "dprime=%{y}<br>count=%{x}<extra></extra>",
         "legendgroup": "",
         "marker": {
          "color": "#636efa"
         },
         "name": "",
         "offsetgroup": "",
         "opacity": 0.5,
         "showlegend": false,
         "type": "histogram",
         "xaxis": "x2",
         "y": [
          1.3777808671202938,
          1.309171716785777,
          2.4843644972480945,
          1.452890990285709,
          2.9014078241828702,
          3.0275345084181953,
          3.2415155500846544,
          2.5100124275199933,
          2.085625331395128,
          1.554064265962403,
          0.478747454954493,
          1.5427298470920048,
          2.9631119522025875,
          1.7488764218832786,
          1.4752612343526152,
          1.9125762387406307,
          3.919927969080108,
          2.1576944147914414,
          1.6462176139332145,
          1.9939945979340892,
          0.9987724171294199,
          -0.2756724116400512,
          1.128809314517608,
          1.1932318707332155,
          2.8969731472166917,
          2.5907232823303774,
          1.4790861305563818,
          1.452890990285709,
          0.945366508442188,
          0.9238512503782093,
          0.945366508442188,
          0.9238512503782093,
          2.1442567713463103,
          1.5427298470920048,
          1.5054666234010192,
          1.4150440908112794,
          0,
          0.02353756699560683,
          0,
          -0.21398104166645915,
          1.2564950707983333,
          2.3428809441431606,
          1.3211268869038646,
          0.8761428492468408,
          0.73285275646675,
          1.0903493346409037,
          1.2521195202652196,
          1.9217382970828787,
          2.461477492211184,
          1.6944921831933448,
          1.9266092704613014,
          0.8267699603741647,
          1.6198562586382697,
          1.0558246136499774,
          -0.03328542183125616,
          0.35174233653880016,
          -0.2318370091334896,
          -0.21398104166645915,
          1.3081297509757825,
          0.041548309224822444,
          0.633640000779701,
          0.05971709978532289,
          0.3248626716443411,
          0.07333473334309462,
          1.326323983760353,
          1.452890990285709,
          -0.32865821746645196,
          1.2368435450975297,
          1.9266092704613014,
          2.9499427594916794,
          1.095455745930229,
          1.4348330636408513,
          3.212083504805274,
          1.704570726736795,
          2.0937407538381336,
          0.9419091770230671,
          0.8869871039155006,
          1.1052170494915392,
          0.5893852435076228,
          0.6916101687879372,
          0.2103767935167489,
          0.5431700111701006,
          0.5834228691444798,
          1.7066168814042544,
          1.3884684340701015,
          1.8248659967441772,
          1.844769201235448,
          2.1507929503586913,
          0.4192759139527325,
          -0.03328542183125616,
          0.17738019615965772,
          2.461477492211184,
          0.8545021199887867,
          2.5336710858098197,
          1.554064265962403,
          1.2854742343439725,
          0.3930807736820595,
          -0.04928232603574467,
          0.1773191012011324,
          1.5054666234010192,
          0.8142234207423416,
          2.996397374033844,
          2.345284450947622,
          2.085625331395128,
          0.440287475077789,
          2.4843644972480945,
          1.9836614669818586,
          3.264709885589742,
          -0.22142006465183411,
          1.2521195202652196,
          1.5506325994429226,
          0.4513322787834083,
          0.8273809607642473,
          0.199201324789267,
          1.1294899523826405,
          2.0395813571563233,
          1.5919710365861819,
          0.8604386530798638,
          0.5563886461505316,
          2.9631119522025875,
          1.0903493346409037,
          1.189916846767868,
          1.9125762387406307,
          3.6048176114915265,
          0.4908223828392731,
          1.2521195202652196,
          0.18804251968144825,
          2.2885529097590096,
          0.8192959250686629,
          2.2133110876758537,
          1.309171716785777,
          2.345284450947622,
          0.440287475077789,
          1.844769201235448,
          1.0675705238781412,
          1.189916846767868,
          0.045406832887889714,
          0.5845217911968348,
          1.0977634987970566,
          2.2885529097590096,
          1.4005433619548815,
          0.38029289764390123,
          0.6916101687879372,
          1.3884684340701015,
          -0.09367321341258322,
          -0.4513322787834085,
          2.345284450947622,
          1.3211268869038646,
          0.3443881429153356,
          0.46169948722689724,
          0.6916101687879372,
          0.7593013476347751,
          1.2614633156544086,
          0.8045963803603002,
          0.8142234207423416,
          0.3383046930936693,
          1.602382211426653,
          0.9987724171294199,
          0.6916101687879372,
          1.328996893068341,
          1.3394138375499964,
          0.13010663016421853,
          1.668391193947079,
          0.28019586765225957,
          -0.160290540246949,
          0.478747454954493,
          0.8267699603741647,
          2.5336710858098197,
          0.6822500574705734,
          1.2521195202652196,
          0.8142234207423416,
          1.9266092704613014,
          1.5625188199215767,
          1.959963984540054,
          2.2133110876758537,
          1.7765200329732602,
          0.440287475077789,
          0.7593013476347751,
          1.0903493346409037,
          1.9266092704613014,
          1.2723485328683717,
          1.9266092704613014,
          1.452890990285709,
          3.6048176114915265,
          -0.06594424706975127,
          2.2943460088343515,
          1.4150440908112794
         ],
         "yaxis": "y2"
        },
        {
         "hovertemplate": "<b>OLS trendline</b><br>dprime = 0.509292 * bias + 1.47381<br>R<sup>2</sup>=0.074465<br><br>bias=%{x}<br>dprime=%{y} <b>(trend)</b><extra></extra>",
         "legendgroup": "",
         "marker": {
          "color": "#636efa",
          "symbol": "circle"
         },
         "mode": "lines",
         "name": "",
         "showlegend": false,
         "type": "scatter",
         "x": [
          -1.959963984540054,
          -1.959963984540054,
          -1.6566224104492755,
          -1.4507039120914351,
          -1.3281448240660296,
          -1.3172268673680678,
          -1.2550062137599967,
          -1.2550062137599967,
          -1.1745610447113708,
          -1.1745610447113708,
          -1.1471730044171757,
          -1.1471730044171757,
          -1.1066555438379269,
          -1.0721283856731552,
          -1.0197906785781616,
          -1.0197906785781616,
          -0.979981992270027,
          -0.9608691485414393,
          -0.9608691485414393,
          -0.9562881193703153,
          -0.920514884927045,
          -0.9171513188424899,
          -0.9171513188424899,
          -0.8970262704010766,
          -0.8970262704010766,
          -0.8710301370371114,
          -0.8533084407021272,
          -0.8533084407021272,
          -0.8472460915966724,
          -0.8472460915966724,
          -0.8341955969735395,
          -0.8099281293191348,
          -0.7959855182930909,
          -0.7873217590662431,
          -0.7873217590662431,
          -0.7873217590662431,
          -0.7812594099607884,
          -0.7637742401852872,
          -0.7637742401852872,
          -0.7527333117005096,
          -0.7527333117005096,
          -0.7395430652781909,
          -0.7264454951428545,
          -0.7177817359160067,
          -0.7177817359160067,
          -0.7075220454056397,
          -0.7037850277528888,
          -0.7002716809774407,
          -0.6644984465341705,
          -0.6604588135069704,
          -0.6604588135069704,
          -0.6604588135069704,
          -0.6545858583928885,
          -0.6545858583928885,
          -0.6307316578272043,
          -0.6260597601326098,
          -0.6260597601326098,
          -0.6260597601326098,
          -0.6260597601326098,
          -0.6184217725487648,
          -0.5966159353666077,
          -0.594958423383934,
          -0.5917551849653514,
          -0.5632290867050727,
          -0.5477278729651145,
          -0.5451746673204518,
          -0.5337852619390706,
          -0.5279123068249887,
          -0.49938620856470994,
          -0.49938620856470994,
          -0.49695072187549866,
          -0.47756390600174903,
          -0.472683254221094,
          -0.47095458851153355,
          -0.4619256251891046,
          -0.4617652975231321,
          -0.4434935519577503,
          -0.43874331040372977,
          -0.4380714246234204,
          -0.41369048038212364,
          -0.41338498018708236,
          -0.4080238828515126,
          -0.4022981901801501,
          -0.3891175125326777,
          -0.3891175125326777,
          -0.374900432263367,
          -0.36385950377858944,
          -0.3606793033896954,
          -0.3458050843939686,
          -0.3458050843939686,
          -0.3458050843939686,
          -0.3420372012156286,
          -0.3411250287352867,
          -0.3411250287352867,
          -0.3411250287352867,
          -0.3411250287352867,
          -0.33920620949772684,
          -0.31734098329484767,
          -0.3168200003898505,
          -0.3113978730555206,
          -0.30891375062748294,
          -0.30891375062748294,
          -0.2888148850345689,
          -0.2888148850345689,
          -0.2888148850345689,
          -0.2888148850345689,
          -0.2888148850345689,
          -0.2715850055850503,
          -0.2539893269623134,
          -0.2539893269623134,
          -0.24541119141963655,
          -0.23377524160643137,
          -0.23084974361344862,
          -0.2201437375388945,
          -0.2201437375388945,
          -0.2201437375388945,
          -0.2201437375388945,
          -0.21432089745564037,
          -0.20963795697636625,
          -0.20963795697636625,
          -0.20524914334615263,
          -0.19341981420123933,
          -0.19014644882195061,
          -0.17587116826940008,
          -0.16915234654683464,
          -0.1635612829909606,
          -0.1596543270158635,
          -0.15755517879429093,
          -0.15755517879429093,
          -0.1563008593985317,
          -0.15253297622019163,
          -0.14009793382612978,
          -0.11307927509757523,
          -0.10784306538571486,
          -0.10784306538571486,
          -0.10518839675837445,
          -0.10082654952537956,
          -0.0996006623946335,
          -0.09402125984072413,
          -0.09268922332019852,
          -0.08076336704480969,
          -0.08076336704480969,
          -0.06505331508210926,
          -0.04134551861801167,
          -0.03676998896709642,
          -0.029858549892661446,
          -0.020774154612411222,
          -0.020774154612411222,
          -0.020774154612411222,
          -0.013810075620588336,
          0,
          0.01249868415660127,
          0.014716022639690407,
          0.014716022639690407,
          0.01664271091562808,
          0.01851242660630703,
          0.020424874708190377,
          0.06458910059171269,
          0.06458910059171269,
          0.0801452701234745,
          0.0801452701234745,
          0.09305957080915037,
          0.0941811861681088,
          0.10399061639660667,
          0.11071003232591706,
          0.12188122545031213,
          0.15965432701586357,
          0.16199517855215045,
          0.18105779012098205,
          0.18105779012098205,
          0.19636705334312632,
          0.20270435814887977,
          0.20544696713872843,
          0.21667973646425243,
          0.23524228378046336,
          0.24723869020168837,
          0.2845542665775557,
          0.35220644125037287,
          0.35392223213741725,
          0.3667264707187916,
          0.4461967303309564,
          0.4784080084387602,
          0.4784080084387602,
          0.7324206285793836,
          0.7925682635830746,
          0.8388188589293077,
          1.2968019926598775
         ],
         "xaxis": "x",
         "y": [
          0.47561361772549704,
          0.47561361772549704,
          0.630102987987013,
          0.734975586581031,
          0.7973939226947757,
          0.8029543482970568,
          0.8346428157350685,
          0.8346428157350685,
          0.8756128790841305,
          0.8756128790841305,
          0.8895613828803197,
          0.8895613828803197,
          0.910196592505792,
          0.9277809903509718,
          0.9544361543662331,
          0.9544361543662331,
          0.9747103910814466,
          0.9844444052876651,
          0.9844444052876651,
          0.9867774857891356,
          1.0049965000403918,
          1.0067095365992396,
          1.0067095365992396,
          1.0169590583455268,
          1.0169590583455268,
          1.0301986753834191,
          1.0392241896571013,
          1.0392241896571013,
          1.0423116942248956,
          1.0423116942248956,
          1.0489582038633196,
          1.0613174256647095,
          1.0684182828540711,
          1.0728306642134842,
          1.0728306642134842,
          1.0728306642134842,
          1.0759181687812784,
          1.0848232220224292,
          1.0848232220224292,
          1.0904462761449256,
          1.0904462761449256,
          1.097163960225936,
          1.1038344450357715,
          1.1082468263951846,
          1.1082468263951846,
          1.1134720024389744,
          1.1153752348117876,
          1.1171645534453318,
          1.135383567696588,
          1.1374409195921544,
          1.1374409195921544,
          1.1374409195921544,
          1.1404319673569332,
          1.1404319673569332,
          1.152580715627032,
          1.1549600747205804,
          1.1549600747205804,
          1.1549600747205804,
          1.1549600747205804,
          1.1588500390139032,
          1.1699555726500162,
          1.1707997298782884,
          1.172431112874726,
          1.1869592202383732,
          1.1948538609784474,
          1.196154187626301,
          1.201954718167809,
          1.2049457659325877,
          1.2194738732962351,
          1.2194738732962351,
          1.2207142466477097,
          1.2305877926154483,
          1.2330734684490996,
          1.233953863685602,
          1.2385522404889706,
          1.2386338940513806,
          1.2479395438767809,
          1.2503588028539598,
          1.2507009887590697,
          1.2631180032534028,
          1.263273591991571,
          1.2660039547971487,
          1.2689200030103258,
          1.275632813792961,
          1.275632813792961,
          1.2828734559118216,
          1.2884965100343182,
          1.2901161599516047,
          1.2976914774222459,
          1.2976914774222459,
          1.2976914774222459,
          1.2996104293535315,
          1.3000749912998466,
          1.3000749912998466,
          1.3000749912998466,
          1.3000749912998466,
          1.3010522301651253,
          1.312188010141323,
          1.3124533424524356,
          1.3152147873347242,
          1.3164799304682044,
          1.3164799304682044,
          1.3267161175049702,
          1.3267161175049702,
          1.3267161175049702,
          1.3267161175049702,
          1.3267161175049702,
          1.3354911534815468,
          1.3444524879702284,
          1.3444524879702284,
          1.348821261891107,
          1.3547473554851843,
          1.3562372875658493,
          1.3616897684578315,
          1.3616897684578315,
          1.3616897684578315,
          1.3616897684578315,
          1.3646552930493479,
          1.3670402761423632,
          1.3670402761423632,
          1.3692754628488315,
          1.3753000429469981,
          1.3769671410280901,
          1.3842374240728075,
          1.387659264748388,
          1.3905067474596786,
          1.3924965280231947,
          1.3935656069577533,
          1.3935656069577533,
          1.3942044215156935,
          1.3961233734469791,
          1.4024564383240636,
          1.4162168191251339,
          1.4188835776905144,
          1.4188835776905144,
          1.420235578601435,
          1.4224570315434595,
          1.4230813657825374,
          1.4259229096413788,
          1.426601304892139,
          1.4326750454644182,
          1.4326750454644182,
          1.4406760457947156,
          1.4527502316592968,
          1.4550805113003302,
          1.458600450409932,
          1.4632270582537765,
          1.4632270582537765,
          1.4632270582537765,
          1.4667738064406117,
          1.4738071644373962,
          1.4801726415410164,
          1.481301913804259,
          1.481301913804259,
          1.482283160306101,
          1.4832353911385772,
          1.4842093852368254,
          1.5067018624558923,
          1.5067018624558923,
          1.5146244917290035,
          1.5146244917290035,
          1.5212016389145748,
          1.52177286839738,
          1.5267687305806867,
          1.5301908738808785,
          1.5358802707135761,
          1.5551178008515978,
          1.556309977297575,
          1.5660184086777305,
          1.5660184086777305,
          1.573815290596887,
          1.5770428278427482,
          1.5784396160574374,
          1.5841603731432228,
          1.5936141259099728,
          1.5997237970916145,
          1.6187283134113195,
          1.6531830098813058,
          1.6540568480765299,
          1.6605779415370747,
          1.7010514915237587,
          1.7174564306921165,
          1.7174564306921165,
          1.8468229701835313,
          1.8774556662862387,
          1.9010107143230153,
          2.1342577597783063
         ],
         "yaxis": "y"
        }
       ],
       "layout": {
        "barmode": "overlay",
        "legend": {
         "tracegroupgap": 0
        },
        "margin": {
         "t": 60
        },
        "template": {
         "data": {
          "bar": [
           {
            "error_x": {
             "color": "#2a3f5f"
            },
            "error_y": {
             "color": "#2a3f5f"
            },
            "marker": {
             "line": {
              "color": "#E5ECF6",
              "width": 0.5
             },
             "pattern": {
              "fillmode": "overlay",
              "size": 10,
              "solidity": 0.2
             }
            },
            "type": "bar"
           }
          ],
          "barpolar": [
           {
            "marker": {
             "line": {
              "color": "#E5ECF6",
              "width": 0.5
             },
             "pattern": {
              "fillmode": "overlay",
              "size": 10,
              "solidity": 0.2
             }
            },
            "type": "barpolar"
           }
          ],
          "carpet": [
           {
            "aaxis": {
             "endlinecolor": "#2a3f5f",
             "gridcolor": "white",
             "linecolor": "white",
             "minorgridcolor": "white",
             "startlinecolor": "#2a3f5f"
            },
            "baxis": {
             "endlinecolor": "#2a3f5f",
             "gridcolor": "white",
             "linecolor": "white",
             "minorgridcolor": "white",
             "startlinecolor": "#2a3f5f"
            },
            "type": "carpet"
           }
          ],
          "choropleth": [
           {
            "colorbar": {
             "outlinewidth": 0,
             "ticks": ""
            },
            "type": "choropleth"
           }
          ],
          "contour": [
           {
            "colorbar": {
             "outlinewidth": 0,
             "ticks": ""
            },
            "colorscale": [
             [
              0,
              "#0d0887"
             ],
             [
              0.1111111111111111,
              "#46039f"
             ],
             [
              0.2222222222222222,
              "#7201a8"
             ],
             [
              0.3333333333333333,
              "#9c179e"
             ],
             [
              0.4444444444444444,
              "#bd3786"
             ],
             [
              0.5555555555555556,
              "#d8576b"
             ],
             [
              0.6666666666666666,
              "#ed7953"
             ],
             [
              0.7777777777777778,
              "#fb9f3a"
             ],
             [
              0.8888888888888888,
              "#fdca26"
             ],
             [
              1,
              "#f0f921"
             ]
            ],
            "type": "contour"
           }
          ],
          "contourcarpet": [
           {
            "colorbar": {
             "outlinewidth": 0,
             "ticks": ""
            },
            "type": "contourcarpet"
           }
          ],
          "heatmap": [
           {
            "colorbar": {
             "outlinewidth": 0,
             "ticks": ""
            },
            "colorscale": [
             [
              0,
              "#0d0887"
             ],
             [
              0.1111111111111111,
              "#46039f"
             ],
             [
              0.2222222222222222,
              "#7201a8"
             ],
             [
              0.3333333333333333,
              "#9c179e"
             ],
             [
              0.4444444444444444,
              "#bd3786"
             ],
             [
              0.5555555555555556,
              "#d8576b"
             ],
             [
              0.6666666666666666,
              "#ed7953"
             ],
             [
              0.7777777777777778,
              "#fb9f3a"
             ],
             [
              0.8888888888888888,
              "#fdca26"
             ],
             [
              1,
              "#f0f921"
             ]
            ],
            "type": "heatmap"
           }
          ],
          "heatmapgl": [
           {
            "colorbar": {
             "outlinewidth": 0,
             "ticks": ""
            },
            "colorscale": [
             [
              0,
              "#0d0887"
             ],
             [
              0.1111111111111111,
              "#46039f"
             ],
             [
              0.2222222222222222,
              "#7201a8"
             ],
             [
              0.3333333333333333,
              "#9c179e"
             ],
             [
              0.4444444444444444,
              "#bd3786"
             ],
             [
              0.5555555555555556,
              "#d8576b"
             ],
             [
              0.6666666666666666,
              "#ed7953"
             ],
             [
              0.7777777777777778,
              "#fb9f3a"
             ],
             [
              0.8888888888888888,
              "#fdca26"
             ],
             [
              1,
              "#f0f921"
             ]
            ],
            "type": "heatmapgl"
           }
          ],
          "histogram": [
           {
            "marker": {
             "pattern": {
              "fillmode": "overlay",
              "size": 10,
              "solidity": 0.2
             }
            },
            "type": "histogram"
           }
          ],
          "histogram2d": [
           {
            "colorbar": {
             "outlinewidth": 0,
             "ticks": ""
            },
            "colorscale": [
             [
              0,
              "#0d0887"
             ],
             [
              0.1111111111111111,
              "#46039f"
             ],
             [
              0.2222222222222222,
              "#7201a8"
             ],
             [
              0.3333333333333333,
              "#9c179e"
             ],
             [
              0.4444444444444444,
              "#bd3786"
             ],
             [
              0.5555555555555556,
              "#d8576b"
             ],
             [
              0.6666666666666666,
              "#ed7953"
             ],
             [
              0.7777777777777778,
              "#fb9f3a"
             ],
             [
              0.8888888888888888,
              "#fdca26"
             ],
             [
              1,
              "#f0f921"
             ]
            ],
            "type": "histogram2d"
           }
          ],
          "histogram2dcontour": [
           {
            "colorbar": {
             "outlinewidth": 0,
             "ticks": ""
            },
            "colorscale": [
             [
              0,
              "#0d0887"
             ],
             [
              0.1111111111111111,
              "#46039f"
             ],
             [
              0.2222222222222222,
              "#7201a8"
             ],
             [
              0.3333333333333333,
              "#9c179e"
             ],
             [
              0.4444444444444444,
              "#bd3786"
             ],
             [
              0.5555555555555556,
              "#d8576b"
             ],
             [
              0.6666666666666666,
              "#ed7953"
             ],
             [
              0.7777777777777778,
              "#fb9f3a"
             ],
             [
              0.8888888888888888,
              "#fdca26"
             ],
             [
              1,
              "#f0f921"
             ]
            ],
            "type": "histogram2dcontour"
           }
          ],
          "mesh3d": [
           {
            "colorbar": {
             "outlinewidth": 0,
             "ticks": ""
            },
            "type": "mesh3d"
           }
          ],
          "parcoords": [
           {
            "line": {
             "colorbar": {
              "outlinewidth": 0,
              "ticks": ""
             }
            },
            "type": "parcoords"
           }
          ],
          "pie": [
           {
            "automargin": true,
            "type": "pie"
           }
          ],
          "scatter": [
           {
            "fillpattern": {
             "fillmode": "overlay",
             "size": 10,
             "solidity": 0.2
            },
            "type": "scatter"
           }
          ],
          "scatter3d": [
           {
            "line": {
             "colorbar": {
              "outlinewidth": 0,
              "ticks": ""
             }
            },
            "marker": {
             "colorbar": {
              "outlinewidth": 0,
              "ticks": ""
             }
            },
            "type": "scatter3d"
           }
          ],
          "scattercarpet": [
           {
            "marker": {
             "colorbar": {
              "outlinewidth": 0,
              "ticks": ""
             }
            },
            "type": "scattercarpet"
           }
          ],
          "scattergeo": [
           {
            "marker": {
             "colorbar": {
              "outlinewidth": 0,
              "ticks": ""
             }
            },
            "type": "scattergeo"
           }
          ],
          "scattergl": [
           {
            "marker": {
             "colorbar": {
              "outlinewidth": 0,
              "ticks": ""
             }
            },
            "type": "scattergl"
           }
          ],
          "scattermapbox": [
           {
            "marker": {
             "colorbar": {
              "outlinewidth": 0,
              "ticks": ""
             }
            },
            "type": "scattermapbox"
           }
          ],
          "scatterpolar": [
           {
            "marker": {
             "colorbar": {
              "outlinewidth": 0,
              "ticks": ""
             }
            },
            "type": "scatterpolar"
           }
          ],
          "scatterpolargl": [
           {
            "marker": {
             "colorbar": {
              "outlinewidth": 0,
              "ticks": ""
             }
            },
            "type": "scatterpolargl"
           }
          ],
          "scatterternary": [
           {
            "marker": {
             "colorbar": {
              "outlinewidth": 0,
              "ticks": ""
             }
            },
            "type": "scatterternary"
           }
          ],
          "surface": [
           {
            "colorbar": {
             "outlinewidth": 0,
             "ticks": ""
            },
            "colorscale": [
             [
              0,
              "#0d0887"
             ],
             [
              0.1111111111111111,
              "#46039f"
             ],
             [
              0.2222222222222222,
              "#7201a8"
             ],
             [
              0.3333333333333333,
              "#9c179e"
             ],
             [
              0.4444444444444444,
              "#bd3786"
             ],
             [
              0.5555555555555556,
              "#d8576b"
             ],
             [
              0.6666666666666666,
              "#ed7953"
             ],
             [
              0.7777777777777778,
              "#fb9f3a"
             ],
             [
              0.8888888888888888,
              "#fdca26"
             ],
             [
              1,
              "#f0f921"
             ]
            ],
            "type": "surface"
           }
          ],
          "table": [
           {
            "cells": {
             "fill": {
              "color": "#EBF0F8"
             },
             "line": {
              "color": "white"
             }
            },
            "header": {
             "fill": {
              "color": "#C8D4E3"
             },
             "line": {
              "color": "white"
             }
            },
            "type": "table"
           }
          ]
         },
         "layout": {
          "annotationdefaults": {
           "arrowcolor": "#2a3f5f",
           "arrowhead": 0,
           "arrowwidth": 1
          },
          "autotypenumbers": "strict",
          "coloraxis": {
           "colorbar": {
            "outlinewidth": 0,
            "ticks": ""
           }
          },
          "colorscale": {
           "diverging": [
            [
             0,
             "#8e0152"
            ],
            [
             0.1,
             "#c51b7d"
            ],
            [
             0.2,
             "#de77ae"
            ],
            [
             0.3,
             "#f1b6da"
            ],
            [
             0.4,
             "#fde0ef"
            ],
            [
             0.5,
             "#f7f7f7"
            ],
            [
             0.6,
             "#e6f5d0"
            ],
            [
             0.7,
             "#b8e186"
            ],
            [
             0.8,
             "#7fbc41"
            ],
            [
             0.9,
             "#4d9221"
            ],
            [
             1,
             "#276419"
            ]
           ],
           "sequential": [
            [
             0,
             "#0d0887"
            ],
            [
             0.1111111111111111,
             "#46039f"
            ],
            [
             0.2222222222222222,
             "#7201a8"
            ],
            [
             0.3333333333333333,
             "#9c179e"
            ],
            [
             0.4444444444444444,
             "#bd3786"
            ],
            [
             0.5555555555555556,
             "#d8576b"
            ],
            [
             0.6666666666666666,
             "#ed7953"
            ],
            [
             0.7777777777777778,
             "#fb9f3a"
            ],
            [
             0.8888888888888888,
             "#fdca26"
            ],
            [
             1,
             "#f0f921"
            ]
           ],
           "sequentialminus": [
            [
             0,
             "#0d0887"
            ],
            [
             0.1111111111111111,
             "#46039f"
            ],
            [
             0.2222222222222222,
             "#7201a8"
            ],
            [
             0.3333333333333333,
             "#9c179e"
            ],
            [
             0.4444444444444444,
             "#bd3786"
            ],
            [
             0.5555555555555556,
             "#d8576b"
            ],
            [
             0.6666666666666666,
             "#ed7953"
            ],
            [
             0.7777777777777778,
             "#fb9f3a"
            ],
            [
             0.8888888888888888,
             "#fdca26"
            ],
            [
             1,
             "#f0f921"
            ]
           ]
          },
          "colorway": [
           "#636efa",
           "#EF553B",
           "#00cc96",
           "#ab63fa",
           "#FFA15A",
           "#19d3f3",
           "#FF6692",
           "#B6E880",
           "#FF97FF",
           "#FECB52"
          ],
          "font": {
           "color": "#2a3f5f"
          },
          "geo": {
           "bgcolor": "white",
           "lakecolor": "white",
           "landcolor": "#E5ECF6",
           "showlakes": true,
           "showland": true,
           "subunitcolor": "white"
          },
          "hoverlabel": {
           "align": "left"
          },
          "hovermode": "closest",
          "mapbox": {
           "style": "light"
          },
          "paper_bgcolor": "white",
          "plot_bgcolor": "#E5ECF6",
          "polar": {
           "angularaxis": {
            "gridcolor": "white",
            "linecolor": "white",
            "ticks": ""
           },
           "bgcolor": "#E5ECF6",
           "radialaxis": {
            "gridcolor": "white",
            "linecolor": "white",
            "ticks": ""
           }
          },
          "scene": {
           "xaxis": {
            "backgroundcolor": "#E5ECF6",
            "gridcolor": "white",
            "gridwidth": 2,
            "linecolor": "white",
            "showbackground": true,
            "ticks": "",
            "zerolinecolor": "white"
           },
           "yaxis": {
            "backgroundcolor": "#E5ECF6",
            "gridcolor": "white",
            "gridwidth": 2,
            "linecolor": "white",
            "showbackground": true,
            "ticks": "",
            "zerolinecolor": "white"
           },
           "zaxis": {
            "backgroundcolor": "#E5ECF6",
            "gridcolor": "white",
            "gridwidth": 2,
            "linecolor": "white",
            "showbackground": true,
            "ticks": "",
            "zerolinecolor": "white"
           }
          },
          "shapedefaults": {
           "line": {
            "color": "#2a3f5f"
           }
          },
          "ternary": {
           "aaxis": {
            "gridcolor": "white",
            "linecolor": "white",
            "ticks": ""
           },
           "baxis": {
            "gridcolor": "white",
            "linecolor": "white",
            "ticks": ""
           },
           "bgcolor": "#E5ECF6",
           "caxis": {
            "gridcolor": "white",
            "linecolor": "white",
            "ticks": ""
           }
          },
          "title": {
           "x": 0.05
          },
          "xaxis": {
           "automargin": true,
           "gridcolor": "white",
           "linecolor": "white",
           "ticks": "",
           "title": {
            "standoff": 15
           },
           "zerolinecolor": "white",
           "zerolinewidth": 2
          },
          "yaxis": {
           "automargin": true,
           "gridcolor": "white",
           "linecolor": "white",
           "ticks": "",
           "title": {
            "standoff": 15
           },
           "zerolinecolor": "white",
           "zerolinewidth": 2
          }
         }
        },
        "xaxis": {
         "anchor": "y",
         "domain": [
          0,
          0.7363
         ],
         "title": {
          "text": "bias"
         }
        },
        "xaxis2": {
         "anchor": "y2",
         "domain": [
          0.7413,
          1
         ],
         "matches": "x2",
         "showgrid": true,
         "showline": false,
         "showticklabels": false,
         "ticks": ""
        },
        "xaxis3": {
         "anchor": "y3",
         "domain": [
          0,
          0.7363
         ],
         "matches": "x",
         "showgrid": true,
         "showticklabels": false
        },
        "xaxis4": {
         "anchor": "y4",
         "domain": [
          0.7413,
          1
         ],
         "matches": "x2",
         "showgrid": true,
         "showline": false,
         "showticklabels": false,
         "ticks": ""
        },
        "yaxis": {
         "anchor": "x",
         "domain": [
          0,
          0.7326
         ],
         "title": {
          "text": "dprime"
         }
        },
        "yaxis2": {
         "anchor": "x2",
         "domain": [
          0,
          0.7326
         ],
         "matches": "y",
         "showgrid": true,
         "showticklabels": false
        },
        "yaxis3": {
         "anchor": "x3",
         "domain": [
          0.7426,
          1
         ],
         "matches": "y3",
         "showgrid": true,
         "showline": false,
         "showticklabels": false,
         "ticks": ""
        },
        "yaxis4": {
         "anchor": "x4",
         "domain": [
          0.7426,
          1
         ],
         "matches": "y3",
         "showgrid": true,
         "showline": false,
         "showticklabels": false,
         "ticks": ""
        }
       }
      }
     },
     "metadata": {},
     "output_type": "display_data"
    }
   ],
   "source": [
    "px.scatter(memory_df.dropna(axis=0), x='bias', \n",
    "           marginal_x='histogram',\n",
    "           marginal_y='histogram',\n",
    "           y='dprime', \n",
    "       #     color='sub',\n",
    "           hover_data=['sub', 'bias'], trendline='ols')"
   ]
  },
  {
   "cell_type": "code",
   "execution_count": 75,
   "metadata": {},
   "outputs": [
    {
     "data": {
      "text/plain": [
       "66    This actor came into the kitchen, retrieved a ...\n",
       "Name: recall_raw, dtype: object"
      ]
     },
     "execution_count": 75,
     "metadata": {},
     "output_type": "execute_result"
    }
   ],
   "source": [
    "memory_df[(memory_df['sub'] == 'e152022') & (memory_df['movie'] == '3.1.3')].recall_raw"
   ]
  },
  {
   "cell_type": "code",
   "execution_count": 76,
   "metadata": {},
   "outputs": [],
   "source": [
    "memory_df.to_csv('memory_df.csv')"
   ]
  },
  {
   "attachments": {},
   "cell_type": "markdown",
   "metadata": {},
   "source": [
    "# Segmentation"
   ]
  },
  {
   "cell_type": "markdown",
   "metadata": {},
   "source": [
    "## Load counterbalance, e152003 <-> sub-01 mapping"
   ]
  },
  {
   "cell_type": "code",
   "execution_count": 2,
   "metadata": {},
   "outputs": [],
   "source": [
    "counter_balance = pd.read_excel(r\"C:\\Users\\nguye\\Box\\DCL_ARCHIVE\\Documents\\Events\\exp152_fMRIneuralmechanisms\\forms&instructions\\e152_counterbalance.xls\", sheet_name='OA Participants')\n",
    "# convert column VC##### and fmriPrepNumber to a dictionary\n",
    "counter_balance_dict = counter_balance.set_index('VC#####').to_dict()['fmriPrep Number']\n",
    "# convert fmriPrepNumber column and VC##### to a dictionary\n",
    "counter_balance_dict2 = counter_balance.set_index('fmriPrep Number').to_dict()['VC#####']"
   ]
  },
  {
   "cell_type": "code",
   "execution_count": 3,
   "metadata": {},
   "outputs": [
    {
     "data": {
      "text/plain": [
       "{nan: 'e152048',\n",
       " 'sub-01': 'e152003',\n",
       " 'sub-02': 'e152004',\n",
       " 'sub-03': 'e152007',\n",
       " 'sub-04': 'e152008',\n",
       " 'sub-05': 'e152009',\n",
       " 'sub-06': 'e152010',\n",
       " 'sub-07': 'e152011',\n",
       " 'sub-08': 'e152013',\n",
       " 'sub-09': 'e152014',\n",
       " 'sub-10': 'e152015',\n",
       " 'sub-11': 'e152016',\n",
       " 'sub-12': 'e152017',\n",
       " 'sub-13': 'e152018',\n",
       " 'sub-14': 'e152019',\n",
       " 'sub-15': 'e152020',\n",
       " 'sub-16': 'e152021',\n",
       " 'sub-17': 'e152022',\n",
       " 'sub-18': 'e152023',\n",
       " 'sub-19': 'e152024',\n",
       " 'sub-20': 'e152025',\n",
       " 'sub-21': 'e152026',\n",
       " 'sub-22': 'e152027',\n",
       " 'sub-23': 'e152028',\n",
       " 'sub-24': 'e152029',\n",
       " 'sub-25': 'e152030',\n",
       " 'sub-26': 'e152031',\n",
       " 'sub-27': 'e152032',\n",
       " 'sub-28': 'e152033',\n",
       " 'sub-29': 'e152034',\n",
       " 'sub-30': 'e152035',\n",
       " 'sub-31': 'e152036',\n",
       " 'sub-32': 'e152037',\n",
       " 'sub-33': 'e152038',\n",
       " 'sub-34': 'e152039',\n",
       " 'sub-35': 'e152040',\n",
       " 'sub-36': 'e152041',\n",
       " 'sub-37': 'e152042',\n",
       " 'sub-38': 'e152043',\n",
       " 'sub-39': 'e152044',\n",
       " 'sub-40': 'e152045',\n",
       " 'sub-41': 'e152046',\n",
       " 'sub-42': 'e152047',\n",
       " 'sub-43': 'e152049',\n",
       " 'sub-44': 'e152050',\n",
       " 'sub-45': 'e152051',\n",
       " 'sub-46': 'e152052',\n",
       " 'sub-47': 'e152053'}"
      ]
     },
     "execution_count": 3,
     "metadata": {},
     "output_type": "execute_result"
    }
   ],
   "source": [
    "counter_balance_dict2"
   ]
  },
  {
   "cell_type": "code",
   "execution_count": 4,
   "metadata": {},
   "outputs": [
    {
     "data": {
      "text/plain": [
       "{'e152001': nan,\n",
       " 'e152002': nan,\n",
       " 'e152003': 'sub-01',\n",
       " 'e152004': 'sub-02',\n",
       " 'e152005': nan,\n",
       " 'e152006': nan,\n",
       " 'e152007': 'sub-03',\n",
       " 'e152008': 'sub-04',\n",
       " 'e152009': 'sub-05',\n",
       " 'e152010': 'sub-06',\n",
       " 'e152011': 'sub-07',\n",
       " 'e152012': nan,\n",
       " 'e152013': 'sub-08',\n",
       " 'e152014': 'sub-09',\n",
       " 'e152015': 'sub-10',\n",
       " 'e152016': 'sub-11',\n",
       " 'e152017': 'sub-12',\n",
       " 'e152018': 'sub-13',\n",
       " 'e152019': 'sub-14',\n",
       " 'e152020': 'sub-15',\n",
       " 'e152021': 'sub-16',\n",
       " 'e152022': 'sub-17',\n",
       " 'e152023': 'sub-18',\n",
       " 'e152024': 'sub-19',\n",
       " 'e152025': 'sub-20',\n",
       " 'e152026': 'sub-21',\n",
       " 'e152027': 'sub-22',\n",
       " 'e152028': 'sub-23',\n",
       " 'e152029': 'sub-24',\n",
       " 'e152030': 'sub-25',\n",
       " 'e152031': 'sub-26',\n",
       " 'e152032': 'sub-27',\n",
       " 'e152033': 'sub-28',\n",
       " 'e152034': 'sub-29',\n",
       " 'e152035': 'sub-30',\n",
       " 'e152036': 'sub-31',\n",
       " 'e152037': 'sub-32',\n",
       " 'e152038': 'sub-33',\n",
       " 'e152039': 'sub-34',\n",
       " 'e152040': 'sub-35',\n",
       " 'e152041': 'sub-36',\n",
       " 'e152042': 'sub-37',\n",
       " 'e152043': 'sub-38',\n",
       " 'e152044': 'sub-39',\n",
       " 'e152045': 'sub-40',\n",
       " 'e152046': 'sub-41',\n",
       " 'e152047': 'sub-42',\n",
       " 'e152048': nan,\n",
       " 'e152049': 'sub-43',\n",
       " 'e152050': 'sub-44',\n",
       " 'e152051': 'sub-45',\n",
       " 'e152052': 'sub-46',\n",
       " 'e152053': 'sub-47'}"
      ]
     },
     "execution_count": 4,
     "metadata": {},
     "output_type": "execute_result"
    }
   ],
   "source": [
    "counter_balance_dict"
   ]
  },
  {
   "attachments": {},
   "cell_type": "markdown",
   "metadata": {},
   "source": [
    "## Process data from Scratch from raw data"
   ]
  },
  {
   "cell_type": "code",
   "execution_count": 5,
   "metadata": {},
   "outputs": [
    {
     "data": {
      "text/plain": [
       "(23, 22)"
      ]
     },
     "execution_count": 5,
     "metadata": {},
     "output_type": "execute_result"
    }
   ],
   "source": [
    "# Tan 05/03/2023: This list is modified from Sophie's updated the list of participants, which was updated last on July 11.2022\n",
    "cf_subjects = ['e152003','e152004','e152007','e152009','e152010','e152014','e152016',\n",
    "               'e152018','e152020v2', 'e152022','e152024','e152028v2','e152030','e152032','e152034','e152036','e152037v2','e152038','e152042',\n",
    "               'e152045','e152047','e152050','e152052']\n",
    "fc_subjects = ['e152008','e152011','e152013','e152015v4', 'e152017','e152019',\n",
    "               'e152021','e152023','e152025','e152026v2','e152027v2','e152031','e152033','e152035','e152039','e152040','e152041',\n",
    "               'e152044','e152046','e152049','e152051', 'e152053']\n",
    "# note that for e153043, fine segmentation is in e152043_exp152_session_2_2022_Apr_11_1247.csv but coarse segmentation is in e152043v2_exp152_session_2_2022_Apr_15_1158.csv. Similar things for e152029 => need workarounds for these participants.\n",
    "# Thus, we should expect only 45 participants here.\n",
    "len(cf_subjects), len(fc_subjects)"
   ]
  },
  {
   "cell_type": "code",
   "execution_count": 6,
   "metadata": {},
   "outputs": [
    {
     "data": {
      "text/plain": [
       "45"
      ]
     },
     "execution_count": 6,
     "metadata": {},
     "output_type": "execute_result"
    }
   ],
   "source": [
    "def check_in_cf_fc(s2file):\n",
    "    sub = os.path.basename(s2file).split('_')[0]\n",
    "    if sub in cf_subjects + fc_subjects:\n",
    "        return True\n",
    "    else:\n",
    "        return False\n",
    "\n",
    "\n",
    "# Load recall/recognition output files from PsychoPy:\n",
    "s2files = glob(\n",
    "    r'C:\\Users\\nguye\\Box\\DCL_ARCHIVE\\Documents\\Events\\exp152_fMRIneuralmechanisms\\exp152_Session_2\\data\\e*.csv')\n",
    "\n",
    "# there are duplicates of the same participant, and we want to use the most updated version only, which is in the cf/fc lists.\n",
    "s2files = [s2file for s2file in s2files if check_in_cf_fc(s2file)]\n",
    "len(s2files)"
   ]
  },
  {
   "cell_type": "code",
   "execution_count": 7,
   "metadata": {},
   "outputs": [],
   "source": [
    "segdf = pd.DataFrame()\n",
    "for s2file in s2files:\n",
    "    try:\n",
    "        sub = os.path.basename(s2file).split('_')[0]\n",
    "        if sub in fc_subjects:\n",
    "            df=pd.read_csv(s2file)\n",
    "            # select columns and rows:\n",
    "            # some participants don't have both segment_coarse.rt and segment_fine.rt, so we need to check for that\n",
    "            if 'segment_coarse.rt' not in df.columns:\n",
    "                df['segment_coarse.rt'] = np.nan\n",
    "            if 'segment_fine.rt' not in df.columns:\n",
    "                df['segment_fine.rt'] = np.nan\n",
    "            df = df[['movie','task','segment_coarse.rt','segment_fine.rt']]\n",
    "            df['order'] = 'fine_coarse'\n",
    "            df = df[(df.task == 'segment') & (df.movie != 'legos2')]\n",
    "            df['sub'] = sub\n",
    "            segdf = pd.concat([segdf, df], ignore_index=True) \n",
    "        elif sub in cf_subjects:\n",
    "            #s2file='/Users/bezdek/Library/CloudStorage/Box-Box/DCL_ARCHIVE/Documents/Events/exp152_fMRIneuralmechanisms/exp152_Session_2/data/e152037_exp152_session_2_2022_Mar_12_1229.csv'\n",
    "            df = pd.read_csv(s2file)\n",
    "            # select columns and rows:\n",
    "            # some participants don't have both segment_2.rt and segment.rt, so we need to check for that\n",
    "            if 'segment_2.rt' not in df.columns:\n",
    "                df['segment_2.rt'] = np.nan\n",
    "            if 'segment.rt' not in df.columns:\n",
    "                df['segment.rt'] = np.nan\n",
    "            df = df[['movie','task','segment_2.rt','segment.rt']]\n",
    "            df = df.rename(columns={'segment_2.rt':'segment_coarse.rt','segment.rt':'segment_fine.rt'})\n",
    "            df['order'] = 'coarse_fine'\n",
    "            df = df[(df.task == 'segment') & (df.movie != 'legos2')]\n",
    "            df['sub'] = sub\n",
    "            segdf = pd.concat([segdf, df], ignore_index=True) \n",
    "    except Exception as e:\n",
    "        print(e, s2file)"
   ]
  },
  {
   "cell_type": "code",
   "execution_count": 8,
   "metadata": {},
   "outputs": [
    {
     "data": {
      "text/html": [
       "<div>\n",
       "<style scoped>\n",
       "    .dataframe tbody tr th:only-of-type {\n",
       "        vertical-align: middle;\n",
       "    }\n",
       "\n",
       "    .dataframe tbody tr th {\n",
       "        vertical-align: top;\n",
       "    }\n",
       "\n",
       "    .dataframe thead th {\n",
       "        text-align: right;\n",
       "    }\n",
       "</style>\n",
       "<table border=\"1\" class=\"dataframe\">\n",
       "  <thead>\n",
       "    <tr style=\"text-align: right;\">\n",
       "      <th></th>\n",
       "      <th>movie</th>\n",
       "      <th>task</th>\n",
       "      <th>segment_coarse.rt</th>\n",
       "      <th>segment_fine.rt</th>\n",
       "      <th>order</th>\n",
       "    </tr>\n",
       "    <tr>\n",
       "      <th>sub</th>\n",
       "      <th></th>\n",
       "      <th></th>\n",
       "      <th></th>\n",
       "      <th></th>\n",
       "      <th></th>\n",
       "    </tr>\n",
       "  </thead>\n",
       "  <tbody>\n",
       "    <tr>\n",
       "      <th>e152003</th>\n",
       "      <td>4</td>\n",
       "      <td>4</td>\n",
       "      <td>0</td>\n",
       "      <td>4</td>\n",
       "      <td>4</td>\n",
       "    </tr>\n",
       "    <tr>\n",
       "      <th>e152004</th>\n",
       "      <td>4</td>\n",
       "      <td>4</td>\n",
       "      <td>0</td>\n",
       "      <td>4</td>\n",
       "      <td>4</td>\n",
       "    </tr>\n",
       "    <tr>\n",
       "      <th>e152007</th>\n",
       "      <td>8</td>\n",
       "      <td>8</td>\n",
       "      <td>4</td>\n",
       "      <td>4</td>\n",
       "      <td>8</td>\n",
       "    </tr>\n",
       "    <tr>\n",
       "      <th>e152008</th>\n",
       "      <td>8</td>\n",
       "      <td>8</td>\n",
       "      <td>4</td>\n",
       "      <td>4</td>\n",
       "      <td>8</td>\n",
       "    </tr>\n",
       "    <tr>\n",
       "      <th>e152009</th>\n",
       "      <td>8</td>\n",
       "      <td>8</td>\n",
       "      <td>4</td>\n",
       "      <td>4</td>\n",
       "      <td>8</td>\n",
       "    </tr>\n",
       "    <tr>\n",
       "      <th>e152010</th>\n",
       "      <td>8</td>\n",
       "      <td>8</td>\n",
       "      <td>4</td>\n",
       "      <td>4</td>\n",
       "      <td>8</td>\n",
       "    </tr>\n",
       "    <tr>\n",
       "      <th>e152011</th>\n",
       "      <td>8</td>\n",
       "      <td>8</td>\n",
       "      <td>4</td>\n",
       "      <td>4</td>\n",
       "      <td>8</td>\n",
       "    </tr>\n",
       "    <tr>\n",
       "      <th>e152013</th>\n",
       "      <td>8</td>\n",
       "      <td>8</td>\n",
       "      <td>4</td>\n",
       "      <td>4</td>\n",
       "      <td>8</td>\n",
       "    </tr>\n",
       "    <tr>\n",
       "      <th>e152014</th>\n",
       "      <td>8</td>\n",
       "      <td>8</td>\n",
       "      <td>4</td>\n",
       "      <td>4</td>\n",
       "      <td>8</td>\n",
       "    </tr>\n",
       "    <tr>\n",
       "      <th>e152015v4</th>\n",
       "      <td>4</td>\n",
       "      <td>4</td>\n",
       "      <td>0</td>\n",
       "      <td>4</td>\n",
       "      <td>4</td>\n",
       "    </tr>\n",
       "    <tr>\n",
       "      <th>e152016</th>\n",
       "      <td>8</td>\n",
       "      <td>8</td>\n",
       "      <td>4</td>\n",
       "      <td>4</td>\n",
       "      <td>8</td>\n",
       "    </tr>\n",
       "    <tr>\n",
       "      <th>e152017</th>\n",
       "      <td>8</td>\n",
       "      <td>8</td>\n",
       "      <td>4</td>\n",
       "      <td>4</td>\n",
       "      <td>8</td>\n",
       "    </tr>\n",
       "    <tr>\n",
       "      <th>e152018</th>\n",
       "      <td>8</td>\n",
       "      <td>8</td>\n",
       "      <td>4</td>\n",
       "      <td>4</td>\n",
       "      <td>8</td>\n",
       "    </tr>\n",
       "    <tr>\n",
       "      <th>e152019</th>\n",
       "      <td>4</td>\n",
       "      <td>4</td>\n",
       "      <td>0</td>\n",
       "      <td>4</td>\n",
       "      <td>4</td>\n",
       "    </tr>\n",
       "    <tr>\n",
       "      <th>e152020v2</th>\n",
       "      <td>8</td>\n",
       "      <td>8</td>\n",
       "      <td>4</td>\n",
       "      <td>4</td>\n",
       "      <td>8</td>\n",
       "    </tr>\n",
       "    <tr>\n",
       "      <th>e152021</th>\n",
       "      <td>8</td>\n",
       "      <td>8</td>\n",
       "      <td>4</td>\n",
       "      <td>4</td>\n",
       "      <td>8</td>\n",
       "    </tr>\n",
       "    <tr>\n",
       "      <th>e152022</th>\n",
       "      <td>8</td>\n",
       "      <td>8</td>\n",
       "      <td>4</td>\n",
       "      <td>4</td>\n",
       "      <td>8</td>\n",
       "    </tr>\n",
       "    <tr>\n",
       "      <th>e152023</th>\n",
       "      <td>8</td>\n",
       "      <td>8</td>\n",
       "      <td>4</td>\n",
       "      <td>4</td>\n",
       "      <td>8</td>\n",
       "    </tr>\n",
       "    <tr>\n",
       "      <th>e152024</th>\n",
       "      <td>8</td>\n",
       "      <td>8</td>\n",
       "      <td>4</td>\n",
       "      <td>4</td>\n",
       "      <td>8</td>\n",
       "    </tr>\n",
       "    <tr>\n",
       "      <th>e152025</th>\n",
       "      <td>8</td>\n",
       "      <td>8</td>\n",
       "      <td>4</td>\n",
       "      <td>4</td>\n",
       "      <td>8</td>\n",
       "    </tr>\n",
       "    <tr>\n",
       "      <th>e152026v2</th>\n",
       "      <td>8</td>\n",
       "      <td>8</td>\n",
       "      <td>4</td>\n",
       "      <td>4</td>\n",
       "      <td>8</td>\n",
       "    </tr>\n",
       "    <tr>\n",
       "      <th>e152027v2</th>\n",
       "      <td>8</td>\n",
       "      <td>8</td>\n",
       "      <td>4</td>\n",
       "      <td>4</td>\n",
       "      <td>8</td>\n",
       "    </tr>\n",
       "    <tr>\n",
       "      <th>e152028v2</th>\n",
       "      <td>8</td>\n",
       "      <td>8</td>\n",
       "      <td>4</td>\n",
       "      <td>4</td>\n",
       "      <td>8</td>\n",
       "    </tr>\n",
       "    <tr>\n",
       "      <th>e152030</th>\n",
       "      <td>8</td>\n",
       "      <td>8</td>\n",
       "      <td>4</td>\n",
       "      <td>4</td>\n",
       "      <td>8</td>\n",
       "    </tr>\n",
       "    <tr>\n",
       "      <th>e152031</th>\n",
       "      <td>8</td>\n",
       "      <td>8</td>\n",
       "      <td>4</td>\n",
       "      <td>4</td>\n",
       "      <td>8</td>\n",
       "    </tr>\n",
       "    <tr>\n",
       "      <th>e152032</th>\n",
       "      <td>8</td>\n",
       "      <td>8</td>\n",
       "      <td>3</td>\n",
       "      <td>4</td>\n",
       "      <td>8</td>\n",
       "    </tr>\n",
       "    <tr>\n",
       "      <th>e152033</th>\n",
       "      <td>8</td>\n",
       "      <td>8</td>\n",
       "      <td>4</td>\n",
       "      <td>4</td>\n",
       "      <td>8</td>\n",
       "    </tr>\n",
       "    <tr>\n",
       "      <th>e152034</th>\n",
       "      <td>8</td>\n",
       "      <td>8</td>\n",
       "      <td>4</td>\n",
       "      <td>4</td>\n",
       "      <td>8</td>\n",
       "    </tr>\n",
       "    <tr>\n",
       "      <th>e152035</th>\n",
       "      <td>8</td>\n",
       "      <td>8</td>\n",
       "      <td>4</td>\n",
       "      <td>4</td>\n",
       "      <td>8</td>\n",
       "    </tr>\n",
       "    <tr>\n",
       "      <th>e152036</th>\n",
       "      <td>8</td>\n",
       "      <td>8</td>\n",
       "      <td>4</td>\n",
       "      <td>4</td>\n",
       "      <td>8</td>\n",
       "    </tr>\n",
       "    <tr>\n",
       "      <th>e152037v2</th>\n",
       "      <td>8</td>\n",
       "      <td>8</td>\n",
       "      <td>4</td>\n",
       "      <td>4</td>\n",
       "      <td>8</td>\n",
       "    </tr>\n",
       "    <tr>\n",
       "      <th>e152038</th>\n",
       "      <td>8</td>\n",
       "      <td>8</td>\n",
       "      <td>4</td>\n",
       "      <td>4</td>\n",
       "      <td>8</td>\n",
       "    </tr>\n",
       "    <tr>\n",
       "      <th>e152039</th>\n",
       "      <td>8</td>\n",
       "      <td>8</td>\n",
       "      <td>4</td>\n",
       "      <td>4</td>\n",
       "      <td>8</td>\n",
       "    </tr>\n",
       "    <tr>\n",
       "      <th>e152040</th>\n",
       "      <td>8</td>\n",
       "      <td>8</td>\n",
       "      <td>4</td>\n",
       "      <td>4</td>\n",
       "      <td>8</td>\n",
       "    </tr>\n",
       "    <tr>\n",
       "      <th>e152041</th>\n",
       "      <td>8</td>\n",
       "      <td>8</td>\n",
       "      <td>4</td>\n",
       "      <td>4</td>\n",
       "      <td>8</td>\n",
       "    </tr>\n",
       "    <tr>\n",
       "      <th>e152042</th>\n",
       "      <td>8</td>\n",
       "      <td>8</td>\n",
       "      <td>4</td>\n",
       "      <td>4</td>\n",
       "      <td>8</td>\n",
       "    </tr>\n",
       "    <tr>\n",
       "      <th>e152044</th>\n",
       "      <td>8</td>\n",
       "      <td>8</td>\n",
       "      <td>4</td>\n",
       "      <td>4</td>\n",
       "      <td>8</td>\n",
       "    </tr>\n",
       "    <tr>\n",
       "      <th>e152045</th>\n",
       "      <td>8</td>\n",
       "      <td>8</td>\n",
       "      <td>4</td>\n",
       "      <td>4</td>\n",
       "      <td>8</td>\n",
       "    </tr>\n",
       "    <tr>\n",
       "      <th>e152046</th>\n",
       "      <td>8</td>\n",
       "      <td>8</td>\n",
       "      <td>4</td>\n",
       "      <td>4</td>\n",
       "      <td>8</td>\n",
       "    </tr>\n",
       "    <tr>\n",
       "      <th>e152047</th>\n",
       "      <td>8</td>\n",
       "      <td>8</td>\n",
       "      <td>4</td>\n",
       "      <td>4</td>\n",
       "      <td>8</td>\n",
       "    </tr>\n",
       "    <tr>\n",
       "      <th>e152049</th>\n",
       "      <td>8</td>\n",
       "      <td>8</td>\n",
       "      <td>4</td>\n",
       "      <td>4</td>\n",
       "      <td>8</td>\n",
       "    </tr>\n",
       "    <tr>\n",
       "      <th>e152050</th>\n",
       "      <td>8</td>\n",
       "      <td>8</td>\n",
       "      <td>4</td>\n",
       "      <td>4</td>\n",
       "      <td>8</td>\n",
       "    </tr>\n",
       "    <tr>\n",
       "      <th>e152051</th>\n",
       "      <td>8</td>\n",
       "      <td>8</td>\n",
       "      <td>4</td>\n",
       "      <td>4</td>\n",
       "      <td>8</td>\n",
       "    </tr>\n",
       "    <tr>\n",
       "      <th>e152052</th>\n",
       "      <td>8</td>\n",
       "      <td>8</td>\n",
       "      <td>4</td>\n",
       "      <td>4</td>\n",
       "      <td>8</td>\n",
       "    </tr>\n",
       "    <tr>\n",
       "      <th>e152053</th>\n",
       "      <td>4</td>\n",
       "      <td>4</td>\n",
       "      <td>0</td>\n",
       "      <td>4</td>\n",
       "      <td>4</td>\n",
       "    </tr>\n",
       "  </tbody>\n",
       "</table>\n",
       "</div>"
      ],
      "text/plain": [
       "           movie  task  segment_coarse.rt  segment_fine.rt  order\n",
       "sub                                                              \n",
       "e152003        4     4                  0                4      4\n",
       "e152004        4     4                  0                4      4\n",
       "e152007        8     8                  4                4      8\n",
       "e152008        8     8                  4                4      8\n",
       "e152009        8     8                  4                4      8\n",
       "e152010        8     8                  4                4      8\n",
       "e152011        8     8                  4                4      8\n",
       "e152013        8     8                  4                4      8\n",
       "e152014        8     8                  4                4      8\n",
       "e152015v4      4     4                  0                4      4\n",
       "e152016        8     8                  4                4      8\n",
       "e152017        8     8                  4                4      8\n",
       "e152018        8     8                  4                4      8\n",
       "e152019        4     4                  0                4      4\n",
       "e152020v2      8     8                  4                4      8\n",
       "e152021        8     8                  4                4      8\n",
       "e152022        8     8                  4                4      8\n",
       "e152023        8     8                  4                4      8\n",
       "e152024        8     8                  4                4      8\n",
       "e152025        8     8                  4                4      8\n",
       "e152026v2      8     8                  4                4      8\n",
       "e152027v2      8     8                  4                4      8\n",
       "e152028v2      8     8                  4                4      8\n",
       "e152030        8     8                  4                4      8\n",
       "e152031        8     8                  4                4      8\n",
       "e152032        8     8                  3                4      8\n",
       "e152033        8     8                  4                4      8\n",
       "e152034        8     8                  4                4      8\n",
       "e152035        8     8                  4                4      8\n",
       "e152036        8     8                  4                4      8\n",
       "e152037v2      8     8                  4                4      8\n",
       "e152038        8     8                  4                4      8\n",
       "e152039        8     8                  4                4      8\n",
       "e152040        8     8                  4                4      8\n",
       "e152041        8     8                  4                4      8\n",
       "e152042        8     8                  4                4      8\n",
       "e152044        8     8                  4                4      8\n",
       "e152045        8     8                  4                4      8\n",
       "e152046        8     8                  4                4      8\n",
       "e152047        8     8                  4                4      8\n",
       "e152049        8     8                  4                4      8\n",
       "e152050        8     8                  4                4      8\n",
       "e152051        8     8                  4                4      8\n",
       "e152052        8     8                  4                4      8\n",
       "e152053        4     4                  0                4      4"
      ]
     },
     "execution_count": 8,
     "metadata": {},
     "output_type": "execute_result"
    }
   ],
   "source": [
    "segdf.groupby(['sub']).count()"
   ]
  },
  {
   "cell_type": "code",
   "execution_count": 9,
   "metadata": {},
   "outputs": [
    {
     "data": {
      "text/html": [
       "<div>\n",
       "<style scoped>\n",
       "    .dataframe tbody tr th:only-of-type {\n",
       "        vertical-align: middle;\n",
       "    }\n",
       "\n",
       "    .dataframe tbody tr th {\n",
       "        vertical-align: top;\n",
       "    }\n",
       "\n",
       "    .dataframe thead th {\n",
       "        text-align: right;\n",
       "    }\n",
       "</style>\n",
       "<table border=\"1\" class=\"dataframe\">\n",
       "  <thead>\n",
       "    <tr style=\"text-align: right;\">\n",
       "      <th></th>\n",
       "      <th>movie</th>\n",
       "      <th>task</th>\n",
       "      <th>segment_coarse.rt</th>\n",
       "      <th>segment_fine.rt</th>\n",
       "      <th>order</th>\n",
       "      <th>sub</th>\n",
       "    </tr>\n",
       "  </thead>\n",
       "  <tbody>\n",
       "    <tr>\n",
       "      <th>0</th>\n",
       "      <td>1.2.3</td>\n",
       "      <td>segment</td>\n",
       "      <td>NaN</td>\n",
       "      <td>[-3.0535317070025485, 82.44245017500361, 153.6...</td>\n",
       "      <td>coarse_fine</td>\n",
       "      <td>e152003</td>\n",
       "    </tr>\n",
       "    <tr>\n",
       "      <th>1</th>\n",
       "      <td>6.3.9</td>\n",
       "      <td>segment</td>\n",
       "      <td>NaN</td>\n",
       "      <td>[-6.316542810003739, -1.676559024002927, 284.5...</td>\n",
       "      <td>coarse_fine</td>\n",
       "      <td>e152003</td>\n",
       "    </tr>\n",
       "    <tr>\n",
       "      <th>2</th>\n",
       "      <td>3.1.3</td>\n",
       "      <td>segment</td>\n",
       "      <td>NaN</td>\n",
       "      <td>[-8.52994464999938, -7.521954813004413, -5.097...</td>\n",
       "      <td>coarse_fine</td>\n",
       "      <td>e152003</td>\n",
       "    </tr>\n",
       "    <tr>\n",
       "      <th>3</th>\n",
       "      <td>2.4.1</td>\n",
       "      <td>segment</td>\n",
       "      <td>NaN</td>\n",
       "      <td>[-6.891140856001584, -6.715163246000884, -1.59...</td>\n",
       "      <td>coarse_fine</td>\n",
       "      <td>e152003</td>\n",
       "    </tr>\n",
       "    <tr>\n",
       "      <th>4</th>\n",
       "      <td>1.2.3</td>\n",
       "      <td>segment</td>\n",
       "      <td>NaN</td>\n",
       "      <td>[-3.6784942579979543, 85.08150436398864, 153.2...</td>\n",
       "      <td>coarse_fine</td>\n",
       "      <td>e152004</td>\n",
       "    </tr>\n",
       "    <tr>\n",
       "      <th>...</th>\n",
       "      <td>...</td>\n",
       "      <td>...</td>\n",
       "      <td>...</td>\n",
       "      <td>...</td>\n",
       "      <td>...</td>\n",
       "      <td>...</td>\n",
       "    </tr>\n",
       "    <tr>\n",
       "      <th>343</th>\n",
       "      <td>2.4.1</td>\n",
       "      <td>segment</td>\n",
       "      <td>NaN</td>\n",
       "      <td>[32.867885480999576, 89.6438594329993, 153.499...</td>\n",
       "      <td>fine_coarse</td>\n",
       "      <td>e152043</td>\n",
       "    </tr>\n",
       "    <tr>\n",
       "      <th>344</th>\n",
       "      <td>1.2.3</td>\n",
       "      <td>segment</td>\n",
       "      <td>[35.97722811299991, 121.68124132999992, 173.92...</td>\n",
       "      <td>NaN</td>\n",
       "      <td>coarse_fine</td>\n",
       "      <td>e152043</td>\n",
       "    </tr>\n",
       "    <tr>\n",
       "      <th>345</th>\n",
       "      <td>6.3.9</td>\n",
       "      <td>segment</td>\n",
       "      <td>[171.68109439299997, 246.07310757899995, 324.4...</td>\n",
       "      <td>NaN</td>\n",
       "      <td>coarse_fine</td>\n",
       "      <td>e152043</td>\n",
       "    </tr>\n",
       "    <tr>\n",
       "      <th>346</th>\n",
       "      <td>3.1.3</td>\n",
       "      <td>segment</td>\n",
       "      <td>[171.60011225899962, 509.42413506699995, 568.3...</td>\n",
       "      <td>NaN</td>\n",
       "      <td>coarse_fine</td>\n",
       "      <td>e152043</td>\n",
       "    </tr>\n",
       "    <tr>\n",
       "      <th>347</th>\n",
       "      <td>2.4.1</td>\n",
       "      <td>segment</td>\n",
       "      <td>[190.11858168200024, 227.55055278400005, 635.6...</td>\n",
       "      <td>NaN</td>\n",
       "      <td>coarse_fine</td>\n",
       "      <td>e152043</td>\n",
       "    </tr>\n",
       "  </tbody>\n",
       "</table>\n",
       "<p>348 rows × 6 columns</p>\n",
       "</div>"
      ],
      "text/plain": [
       "     movie     task                                  segment_coarse.rt  \\\n",
       "0    1.2.3  segment                                                NaN   \n",
       "1    6.3.9  segment                                                NaN   \n",
       "2    3.1.3  segment                                                NaN   \n",
       "3    2.4.1  segment                                                NaN   \n",
       "4    1.2.3  segment                                                NaN   \n",
       "..     ...      ...                                                ...   \n",
       "343  2.4.1  segment                                                NaN   \n",
       "344  1.2.3  segment  [35.97722811299991, 121.68124132999992, 173.92...   \n",
       "345  6.3.9  segment  [171.68109439299997, 246.07310757899995, 324.4...   \n",
       "346  3.1.3  segment  [171.60011225899962, 509.42413506699995, 568.3...   \n",
       "347  2.4.1  segment  [190.11858168200024, 227.55055278400005, 635.6...   \n",
       "\n",
       "                                       segment_fine.rt        order      sub  \n",
       "0    [-3.0535317070025485, 82.44245017500361, 153.6...  coarse_fine  e152003  \n",
       "1    [-6.316542810003739, -1.676559024002927, 284.5...  coarse_fine  e152003  \n",
       "2    [-8.52994464999938, -7.521954813004413, -5.097...  coarse_fine  e152003  \n",
       "3    [-6.891140856001584, -6.715163246000884, -1.59...  coarse_fine  e152003  \n",
       "4    [-3.6784942579979543, 85.08150436398864, 153.2...  coarse_fine  e152004  \n",
       "..                                                 ...          ...      ...  \n",
       "343  [32.867885480999576, 89.6438594329993, 153.499...  fine_coarse  e152043  \n",
       "344                                                NaN  coarse_fine  e152043  \n",
       "345                                                NaN  coarse_fine  e152043  \n",
       "346                                                NaN  coarse_fine  e152043  \n",
       "347                                                NaN  coarse_fine  e152043  \n",
       "\n",
       "[348 rows x 6 columns]"
      ]
     },
     "execution_count": 9,
     "metadata": {},
     "output_type": "execute_result"
    }
   ],
   "source": [
    "## add e152043, e153043 complete fine segment and the file is in fc format, however, the v2 with coarse segmentation is in cf format.\n",
    "df = pd.read_csv(\"../exp152_Session_2/data/e152043_exp152_session_2_2022_Apr_11_1247.csv\")\n",
    "# select columns and rows:\n",
    "df = df[['movie','task','segment_fine.rt']]\n",
    "df['order'] = 'fine_coarse'\n",
    "df = df[(df.task == 'segment') & (df.movie != 'legos2')]\n",
    "df['sub'] = 'e152043'\n",
    "# add to the segmentation_df, be sure to align by columns names\n",
    "segdf = pd.concat([segdf, df], ignore_index=True)\n",
    "\n",
    "df_coarse = pd.read_csv(\"../exp152_Session_2/data/e152043v2_exp152_session_2_2022_Apr_15_1158.csv\")\n",
    "# select columns and rows:\n",
    "df_coarse = df_coarse[['movie','task','segment_2.rt']]\n",
    "df_coarse = df_coarse.rename(columns={'segment_2.rt':'segment_coarse.rt'})\n",
    "df_coarse['order'] = 'coarse_fine'\n",
    "df_coarse = df_coarse[(df_coarse.task == 'segment') & (df_coarse.movie != 'legos2')]\n",
    "df_coarse['sub'] = 'e152043'\n",
    "# add to the segmentation_df, be sure to align by columns names\n",
    "segdf = pd.concat([segdf, df_coarse], ignore_index=True)\n",
    "\n",
    "segdf"
   ]
  },
  {
   "cell_type": "code",
   "execution_count": 10,
   "metadata": {},
   "outputs": [
    {
     "data": {
      "text/html": [
       "<div>\n",
       "<style scoped>\n",
       "    .dataframe tbody tr th:only-of-type {\n",
       "        vertical-align: middle;\n",
       "    }\n",
       "\n",
       "    .dataframe tbody tr th {\n",
       "        vertical-align: top;\n",
       "    }\n",
       "\n",
       "    .dataframe thead th {\n",
       "        text-align: right;\n",
       "    }\n",
       "</style>\n",
       "<table border=\"1\" class=\"dataframe\">\n",
       "  <thead>\n",
       "    <tr style=\"text-align: right;\">\n",
       "      <th></th>\n",
       "      <th>movie</th>\n",
       "      <th>task</th>\n",
       "      <th>segment_coarse.rt</th>\n",
       "      <th>segment_fine.rt</th>\n",
       "      <th>order</th>\n",
       "      <th>sub</th>\n",
       "    </tr>\n",
       "  </thead>\n",
       "  <tbody>\n",
       "    <tr>\n",
       "      <th>0</th>\n",
       "      <td>1.2.3</td>\n",
       "      <td>segment</td>\n",
       "      <td>NaN</td>\n",
       "      <td>[-3.0535317070025485, 82.44245017500361, 153.6...</td>\n",
       "      <td>coarse_fine</td>\n",
       "      <td>e152003</td>\n",
       "    </tr>\n",
       "    <tr>\n",
       "      <th>1</th>\n",
       "      <td>6.3.9</td>\n",
       "      <td>segment</td>\n",
       "      <td>NaN</td>\n",
       "      <td>[-6.316542810003739, -1.676559024002927, 284.5...</td>\n",
       "      <td>coarse_fine</td>\n",
       "      <td>e152003</td>\n",
       "    </tr>\n",
       "    <tr>\n",
       "      <th>2</th>\n",
       "      <td>3.1.3</td>\n",
       "      <td>segment</td>\n",
       "      <td>NaN</td>\n",
       "      <td>[-8.52994464999938, -7.521954813004413, -5.097...</td>\n",
       "      <td>coarse_fine</td>\n",
       "      <td>e152003</td>\n",
       "    </tr>\n",
       "    <tr>\n",
       "      <th>3</th>\n",
       "      <td>2.4.1</td>\n",
       "      <td>segment</td>\n",
       "      <td>NaN</td>\n",
       "      <td>[-6.891140856001584, -6.715163246000884, -1.59...</td>\n",
       "      <td>coarse_fine</td>\n",
       "      <td>e152003</td>\n",
       "    </tr>\n",
       "    <tr>\n",
       "      <th>4</th>\n",
       "      <td>1.2.3</td>\n",
       "      <td>segment</td>\n",
       "      <td>NaN</td>\n",
       "      <td>[-3.6784942579979543, 85.08150436398864, 153.2...</td>\n",
       "      <td>coarse_fine</td>\n",
       "      <td>e152004</td>\n",
       "    </tr>\n",
       "    <tr>\n",
       "      <th>...</th>\n",
       "      <td>...</td>\n",
       "      <td>...</td>\n",
       "      <td>...</td>\n",
       "      <td>...</td>\n",
       "      <td>...</td>\n",
       "      <td>...</td>\n",
       "    </tr>\n",
       "    <tr>\n",
       "      <th>351</th>\n",
       "      <td>2.4.1</td>\n",
       "      <td>segment</td>\n",
       "      <td>[223.40938365300008, 334.8414090819997, 404.28...</td>\n",
       "      <td>NaN</td>\n",
       "      <td>coarse_fine</td>\n",
       "      <td>e152029</td>\n",
       "    </tr>\n",
       "    <tr>\n",
       "      <th>352</th>\n",
       "      <td>1.2.3</td>\n",
       "      <td>segment</td>\n",
       "      <td>NaN</td>\n",
       "      <td>[56.48353854800007, 80.93153294100011, 152.203...</td>\n",
       "      <td>coarse_fine</td>\n",
       "      <td>e152029</td>\n",
       "    </tr>\n",
       "    <tr>\n",
       "      <th>353</th>\n",
       "      <td>6.3.9</td>\n",
       "      <td>segment</td>\n",
       "      <td>NaN</td>\n",
       "      <td>[57.32472520800002, 201.42077444300048, 279.60...</td>\n",
       "      <td>coarse_fine</td>\n",
       "      <td>e152029</td>\n",
       "    </tr>\n",
       "    <tr>\n",
       "      <th>354</th>\n",
       "      <td>3.1.3</td>\n",
       "      <td>segment</td>\n",
       "      <td>NaN</td>\n",
       "      <td>[164.76395759499974, 335.3319954260005, 410.37...</td>\n",
       "      <td>coarse_fine</td>\n",
       "      <td>e152029</td>\n",
       "    </tr>\n",
       "    <tr>\n",
       "      <th>355</th>\n",
       "      <td>2.4.1</td>\n",
       "      <td>segment</td>\n",
       "      <td>NaN</td>\n",
       "      <td>[215.58221322499958, 321.68624296300004, 402.1...</td>\n",
       "      <td>coarse_fine</td>\n",
       "      <td>e152029</td>\n",
       "    </tr>\n",
       "  </tbody>\n",
       "</table>\n",
       "<p>356 rows × 6 columns</p>\n",
       "</div>"
      ],
      "text/plain": [
       "     movie     task                                  segment_coarse.rt  \\\n",
       "0    1.2.3  segment                                                NaN   \n",
       "1    6.3.9  segment                                                NaN   \n",
       "2    3.1.3  segment                                                NaN   \n",
       "3    2.4.1  segment                                                NaN   \n",
       "4    1.2.3  segment                                                NaN   \n",
       "..     ...      ...                                                ...   \n",
       "351  2.4.1  segment  [223.40938365300008, 334.8414090819997, 404.28...   \n",
       "352  1.2.3  segment                                                NaN   \n",
       "353  6.3.9  segment                                                NaN   \n",
       "354  3.1.3  segment                                                NaN   \n",
       "355  2.4.1  segment                                                NaN   \n",
       "\n",
       "                                       segment_fine.rt        order      sub  \n",
       "0    [-3.0535317070025485, 82.44245017500361, 153.6...  coarse_fine  e152003  \n",
       "1    [-6.316542810003739, -1.676559024002927, 284.5...  coarse_fine  e152003  \n",
       "2    [-8.52994464999938, -7.521954813004413, -5.097...  coarse_fine  e152003  \n",
       "3    [-6.891140856001584, -6.715163246000884, -1.59...  coarse_fine  e152003  \n",
       "4    [-3.6784942579979543, 85.08150436398864, 153.2...  coarse_fine  e152004  \n",
       "..                                                 ...          ...      ...  \n",
       "351                                                NaN  coarse_fine  e152029  \n",
       "352  [56.48353854800007, 80.93153294100011, 152.203...  coarse_fine  e152029  \n",
       "353  [57.32472520800002, 201.42077444300048, 279.60...  coarse_fine  e152029  \n",
       "354  [164.76395759499974, 335.3319954260005, 410.37...  coarse_fine  e152029  \n",
       "355  [215.58221322499958, 321.68624296300004, 402.1...  coarse_fine  e152029  \n",
       "\n",
       "[356 rows x 6 columns]"
      ]
     },
     "execution_count": 10,
     "metadata": {},
     "output_type": "execute_result"
    }
   ],
   "source": [
    "## add e152029, e153029 complete coarse segment and the file is in cf format and the v2 with fine segmentation is in cf format.\n",
    "df = pd.read_csv(\"../exp152_Session_2/data/e152029_exp152_session_2_2021_Dec_18_1018.csv\")\n",
    "# select columns and rows:\n",
    "df = df[['movie','task','segment_2.rt']]\n",
    "df = df.rename(columns={'segment_2.rt':'segment_coarse.rt'})\n",
    "df['order'] = 'coarse_fine'\n",
    "df = df[(df.task == 'segment') & (df.movie != 'legos2')]\n",
    "df['sub'] = 'e152029'\n",
    "# add to the segmentation_df, be sure to align by columns names\n",
    "segdf = pd.concat([segdf, df], ignore_index=True)\n",
    "\n",
    "df_coarse = pd.read_csv(\"../exp152_Session_2/data/e152029v2_exp152_session_2_2021_Dec_18_1153.csv\")\n",
    "# select columns and rows:\n",
    "df_coarse = df_coarse[['movie','task','segment.rt']]\n",
    "df_coarse = df_coarse.rename(columns={'segment.rt':'segment_fine.rt'})\n",
    "df_coarse['order'] = 'coarse_fine'\n",
    "df_coarse = df_coarse[(df_coarse.task == 'segment') & (df_coarse.movie != 'legos2')]\n",
    "df_coarse['sub'] = 'e152029'\n",
    "# add to the segmentation_df, be sure to align by columns names\n",
    "segdf = pd.concat([segdf, df_coarse], ignore_index=True)\n",
    "\n",
    "segdf"
   ]
  },
  {
   "cell_type": "code",
   "execution_count": 11,
   "metadata": {},
   "outputs": [
    {
     "data": {
      "text/html": [
       "<div>\n",
       "<style scoped>\n",
       "    .dataframe tbody tr th:only-of-type {\n",
       "        vertical-align: middle;\n",
       "    }\n",
       "\n",
       "    .dataframe tbody tr th {\n",
       "        vertical-align: top;\n",
       "    }\n",
       "\n",
       "    .dataframe thead th {\n",
       "        text-align: right;\n",
       "    }\n",
       "</style>\n",
       "<table border=\"1\" class=\"dataframe\">\n",
       "  <thead>\n",
       "    <tr style=\"text-align: right;\">\n",
       "      <th></th>\n",
       "      <th>movie</th>\n",
       "      <th>task</th>\n",
       "      <th>segment_coarse.rt</th>\n",
       "      <th>segment_fine.rt</th>\n",
       "      <th>order</th>\n",
       "    </tr>\n",
       "    <tr>\n",
       "      <th>sub</th>\n",
       "      <th></th>\n",
       "      <th></th>\n",
       "      <th></th>\n",
       "      <th></th>\n",
       "      <th></th>\n",
       "    </tr>\n",
       "  </thead>\n",
       "  <tbody>\n",
       "    <tr>\n",
       "      <th>e152003</th>\n",
       "      <td>4</td>\n",
       "      <td>4</td>\n",
       "      <td>0</td>\n",
       "      <td>4</td>\n",
       "      <td>4</td>\n",
       "    </tr>\n",
       "    <tr>\n",
       "      <th>e152004</th>\n",
       "      <td>4</td>\n",
       "      <td>4</td>\n",
       "      <td>0</td>\n",
       "      <td>4</td>\n",
       "      <td>4</td>\n",
       "    </tr>\n",
       "    <tr>\n",
       "      <th>e152007</th>\n",
       "      <td>8</td>\n",
       "      <td>8</td>\n",
       "      <td>4</td>\n",
       "      <td>4</td>\n",
       "      <td>8</td>\n",
       "    </tr>\n",
       "    <tr>\n",
       "      <th>e152008</th>\n",
       "      <td>8</td>\n",
       "      <td>8</td>\n",
       "      <td>4</td>\n",
       "      <td>4</td>\n",
       "      <td>8</td>\n",
       "    </tr>\n",
       "    <tr>\n",
       "      <th>e152009</th>\n",
       "      <td>8</td>\n",
       "      <td>8</td>\n",
       "      <td>4</td>\n",
       "      <td>4</td>\n",
       "      <td>8</td>\n",
       "    </tr>\n",
       "    <tr>\n",
       "      <th>e152010</th>\n",
       "      <td>8</td>\n",
       "      <td>8</td>\n",
       "      <td>4</td>\n",
       "      <td>4</td>\n",
       "      <td>8</td>\n",
       "    </tr>\n",
       "    <tr>\n",
       "      <th>e152011</th>\n",
       "      <td>8</td>\n",
       "      <td>8</td>\n",
       "      <td>4</td>\n",
       "      <td>4</td>\n",
       "      <td>8</td>\n",
       "    </tr>\n",
       "    <tr>\n",
       "      <th>e152013</th>\n",
       "      <td>8</td>\n",
       "      <td>8</td>\n",
       "      <td>4</td>\n",
       "      <td>4</td>\n",
       "      <td>8</td>\n",
       "    </tr>\n",
       "    <tr>\n",
       "      <th>e152014</th>\n",
       "      <td>8</td>\n",
       "      <td>8</td>\n",
       "      <td>4</td>\n",
       "      <td>4</td>\n",
       "      <td>8</td>\n",
       "    </tr>\n",
       "    <tr>\n",
       "      <th>e152015v4</th>\n",
       "      <td>4</td>\n",
       "      <td>4</td>\n",
       "      <td>0</td>\n",
       "      <td>4</td>\n",
       "      <td>4</td>\n",
       "    </tr>\n",
       "    <tr>\n",
       "      <th>e152016</th>\n",
       "      <td>8</td>\n",
       "      <td>8</td>\n",
       "      <td>4</td>\n",
       "      <td>4</td>\n",
       "      <td>8</td>\n",
       "    </tr>\n",
       "    <tr>\n",
       "      <th>e152017</th>\n",
       "      <td>8</td>\n",
       "      <td>8</td>\n",
       "      <td>4</td>\n",
       "      <td>4</td>\n",
       "      <td>8</td>\n",
       "    </tr>\n",
       "    <tr>\n",
       "      <th>e152018</th>\n",
       "      <td>8</td>\n",
       "      <td>8</td>\n",
       "      <td>4</td>\n",
       "      <td>4</td>\n",
       "      <td>8</td>\n",
       "    </tr>\n",
       "    <tr>\n",
       "      <th>e152019</th>\n",
       "      <td>4</td>\n",
       "      <td>4</td>\n",
       "      <td>0</td>\n",
       "      <td>4</td>\n",
       "      <td>4</td>\n",
       "    </tr>\n",
       "    <tr>\n",
       "      <th>e152020v2</th>\n",
       "      <td>8</td>\n",
       "      <td>8</td>\n",
       "      <td>4</td>\n",
       "      <td>4</td>\n",
       "      <td>8</td>\n",
       "    </tr>\n",
       "    <tr>\n",
       "      <th>e152021</th>\n",
       "      <td>8</td>\n",
       "      <td>8</td>\n",
       "      <td>4</td>\n",
       "      <td>4</td>\n",
       "      <td>8</td>\n",
       "    </tr>\n",
       "    <tr>\n",
       "      <th>e152022</th>\n",
       "      <td>8</td>\n",
       "      <td>8</td>\n",
       "      <td>4</td>\n",
       "      <td>4</td>\n",
       "      <td>8</td>\n",
       "    </tr>\n",
       "    <tr>\n",
       "      <th>e152023</th>\n",
       "      <td>8</td>\n",
       "      <td>8</td>\n",
       "      <td>4</td>\n",
       "      <td>4</td>\n",
       "      <td>8</td>\n",
       "    </tr>\n",
       "    <tr>\n",
       "      <th>e152024</th>\n",
       "      <td>8</td>\n",
       "      <td>8</td>\n",
       "      <td>4</td>\n",
       "      <td>4</td>\n",
       "      <td>8</td>\n",
       "    </tr>\n",
       "    <tr>\n",
       "      <th>e152025</th>\n",
       "      <td>8</td>\n",
       "      <td>8</td>\n",
       "      <td>4</td>\n",
       "      <td>4</td>\n",
       "      <td>8</td>\n",
       "    </tr>\n",
       "    <tr>\n",
       "      <th>e152026v2</th>\n",
       "      <td>8</td>\n",
       "      <td>8</td>\n",
       "      <td>4</td>\n",
       "      <td>4</td>\n",
       "      <td>8</td>\n",
       "    </tr>\n",
       "    <tr>\n",
       "      <th>e152027v2</th>\n",
       "      <td>8</td>\n",
       "      <td>8</td>\n",
       "      <td>4</td>\n",
       "      <td>4</td>\n",
       "      <td>8</td>\n",
       "    </tr>\n",
       "    <tr>\n",
       "      <th>e152028v2</th>\n",
       "      <td>8</td>\n",
       "      <td>8</td>\n",
       "      <td>4</td>\n",
       "      <td>4</td>\n",
       "      <td>8</td>\n",
       "    </tr>\n",
       "    <tr>\n",
       "      <th>e152029</th>\n",
       "      <td>8</td>\n",
       "      <td>8</td>\n",
       "      <td>4</td>\n",
       "      <td>4</td>\n",
       "      <td>8</td>\n",
       "    </tr>\n",
       "    <tr>\n",
       "      <th>e152030</th>\n",
       "      <td>8</td>\n",
       "      <td>8</td>\n",
       "      <td>4</td>\n",
       "      <td>4</td>\n",
       "      <td>8</td>\n",
       "    </tr>\n",
       "    <tr>\n",
       "      <th>e152031</th>\n",
       "      <td>8</td>\n",
       "      <td>8</td>\n",
       "      <td>4</td>\n",
       "      <td>4</td>\n",
       "      <td>8</td>\n",
       "    </tr>\n",
       "    <tr>\n",
       "      <th>e152032</th>\n",
       "      <td>8</td>\n",
       "      <td>8</td>\n",
       "      <td>3</td>\n",
       "      <td>4</td>\n",
       "      <td>8</td>\n",
       "    </tr>\n",
       "    <tr>\n",
       "      <th>e152033</th>\n",
       "      <td>8</td>\n",
       "      <td>8</td>\n",
       "      <td>4</td>\n",
       "      <td>4</td>\n",
       "      <td>8</td>\n",
       "    </tr>\n",
       "    <tr>\n",
       "      <th>e152034</th>\n",
       "      <td>8</td>\n",
       "      <td>8</td>\n",
       "      <td>4</td>\n",
       "      <td>4</td>\n",
       "      <td>8</td>\n",
       "    </tr>\n",
       "    <tr>\n",
       "      <th>e152035</th>\n",
       "      <td>8</td>\n",
       "      <td>8</td>\n",
       "      <td>4</td>\n",
       "      <td>4</td>\n",
       "      <td>8</td>\n",
       "    </tr>\n",
       "    <tr>\n",
       "      <th>e152036</th>\n",
       "      <td>8</td>\n",
       "      <td>8</td>\n",
       "      <td>4</td>\n",
       "      <td>4</td>\n",
       "      <td>8</td>\n",
       "    </tr>\n",
       "    <tr>\n",
       "      <th>e152037v2</th>\n",
       "      <td>8</td>\n",
       "      <td>8</td>\n",
       "      <td>4</td>\n",
       "      <td>4</td>\n",
       "      <td>8</td>\n",
       "    </tr>\n",
       "    <tr>\n",
       "      <th>e152038</th>\n",
       "      <td>8</td>\n",
       "      <td>8</td>\n",
       "      <td>4</td>\n",
       "      <td>4</td>\n",
       "      <td>8</td>\n",
       "    </tr>\n",
       "    <tr>\n",
       "      <th>e152039</th>\n",
       "      <td>8</td>\n",
       "      <td>8</td>\n",
       "      <td>4</td>\n",
       "      <td>4</td>\n",
       "      <td>8</td>\n",
       "    </tr>\n",
       "    <tr>\n",
       "      <th>e152040</th>\n",
       "      <td>8</td>\n",
       "      <td>8</td>\n",
       "      <td>4</td>\n",
       "      <td>4</td>\n",
       "      <td>8</td>\n",
       "    </tr>\n",
       "    <tr>\n",
       "      <th>e152041</th>\n",
       "      <td>8</td>\n",
       "      <td>8</td>\n",
       "      <td>4</td>\n",
       "      <td>4</td>\n",
       "      <td>8</td>\n",
       "    </tr>\n",
       "    <tr>\n",
       "      <th>e152042</th>\n",
       "      <td>8</td>\n",
       "      <td>8</td>\n",
       "      <td>4</td>\n",
       "      <td>4</td>\n",
       "      <td>8</td>\n",
       "    </tr>\n",
       "    <tr>\n",
       "      <th>e152043</th>\n",
       "      <td>8</td>\n",
       "      <td>8</td>\n",
       "      <td>4</td>\n",
       "      <td>4</td>\n",
       "      <td>8</td>\n",
       "    </tr>\n",
       "    <tr>\n",
       "      <th>e152044</th>\n",
       "      <td>8</td>\n",
       "      <td>8</td>\n",
       "      <td>4</td>\n",
       "      <td>4</td>\n",
       "      <td>8</td>\n",
       "    </tr>\n",
       "    <tr>\n",
       "      <th>e152045</th>\n",
       "      <td>8</td>\n",
       "      <td>8</td>\n",
       "      <td>4</td>\n",
       "      <td>4</td>\n",
       "      <td>8</td>\n",
       "    </tr>\n",
       "    <tr>\n",
       "      <th>e152046</th>\n",
       "      <td>8</td>\n",
       "      <td>8</td>\n",
       "      <td>4</td>\n",
       "      <td>4</td>\n",
       "      <td>8</td>\n",
       "    </tr>\n",
       "    <tr>\n",
       "      <th>e152047</th>\n",
       "      <td>8</td>\n",
       "      <td>8</td>\n",
       "      <td>4</td>\n",
       "      <td>4</td>\n",
       "      <td>8</td>\n",
       "    </tr>\n",
       "    <tr>\n",
       "      <th>e152049</th>\n",
       "      <td>8</td>\n",
       "      <td>8</td>\n",
       "      <td>4</td>\n",
       "      <td>4</td>\n",
       "      <td>8</td>\n",
       "    </tr>\n",
       "    <tr>\n",
       "      <th>e152050</th>\n",
       "      <td>8</td>\n",
       "      <td>8</td>\n",
       "      <td>4</td>\n",
       "      <td>4</td>\n",
       "      <td>8</td>\n",
       "    </tr>\n",
       "    <tr>\n",
       "      <th>e152051</th>\n",
       "      <td>8</td>\n",
       "      <td>8</td>\n",
       "      <td>4</td>\n",
       "      <td>4</td>\n",
       "      <td>8</td>\n",
       "    </tr>\n",
       "    <tr>\n",
       "      <th>e152052</th>\n",
       "      <td>8</td>\n",
       "      <td>8</td>\n",
       "      <td>4</td>\n",
       "      <td>4</td>\n",
       "      <td>8</td>\n",
       "    </tr>\n",
       "    <tr>\n",
       "      <th>e152053</th>\n",
       "      <td>4</td>\n",
       "      <td>4</td>\n",
       "      <td>0</td>\n",
       "      <td>4</td>\n",
       "      <td>4</td>\n",
       "    </tr>\n",
       "  </tbody>\n",
       "</table>\n",
       "</div>"
      ],
      "text/plain": [
       "           movie  task  segment_coarse.rt  segment_fine.rt  order\n",
       "sub                                                              \n",
       "e152003        4     4                  0                4      4\n",
       "e152004        4     4                  0                4      4\n",
       "e152007        8     8                  4                4      8\n",
       "e152008        8     8                  4                4      8\n",
       "e152009        8     8                  4                4      8\n",
       "e152010        8     8                  4                4      8\n",
       "e152011        8     8                  4                4      8\n",
       "e152013        8     8                  4                4      8\n",
       "e152014        8     8                  4                4      8\n",
       "e152015v4      4     4                  0                4      4\n",
       "e152016        8     8                  4                4      8\n",
       "e152017        8     8                  4                4      8\n",
       "e152018        8     8                  4                4      8\n",
       "e152019        4     4                  0                4      4\n",
       "e152020v2      8     8                  4                4      8\n",
       "e152021        8     8                  4                4      8\n",
       "e152022        8     8                  4                4      8\n",
       "e152023        8     8                  4                4      8\n",
       "e152024        8     8                  4                4      8\n",
       "e152025        8     8                  4                4      8\n",
       "e152026v2      8     8                  4                4      8\n",
       "e152027v2      8     8                  4                4      8\n",
       "e152028v2      8     8                  4                4      8\n",
       "e152029        8     8                  4                4      8\n",
       "e152030        8     8                  4                4      8\n",
       "e152031        8     8                  4                4      8\n",
       "e152032        8     8                  3                4      8\n",
       "e152033        8     8                  4                4      8\n",
       "e152034        8     8                  4                4      8\n",
       "e152035        8     8                  4                4      8\n",
       "e152036        8     8                  4                4      8\n",
       "e152037v2      8     8                  4                4      8\n",
       "e152038        8     8                  4                4      8\n",
       "e152039        8     8                  4                4      8\n",
       "e152040        8     8                  4                4      8\n",
       "e152041        8     8                  4                4      8\n",
       "e152042        8     8                  4                4      8\n",
       "e152043        8     8                  4                4      8\n",
       "e152044        8     8                  4                4      8\n",
       "e152045        8     8                  4                4      8\n",
       "e152046        8     8                  4                4      8\n",
       "e152047        8     8                  4                4      8\n",
       "e152049        8     8                  4                4      8\n",
       "e152050        8     8                  4                4      8\n",
       "e152051        8     8                  4                4      8\n",
       "e152052        8     8                  4                4      8\n",
       "e152053        4     4                  0                4      4"
      ]
     },
     "execution_count": 11,
     "metadata": {},
     "output_type": "execute_result"
    }
   ],
   "source": [
    "segdf.groupby(['sub']).count()"
   ]
  },
  {
   "cell_type": "code",
   "execution_count": 12,
   "metadata": {},
   "outputs": [],
   "source": [
    "segdf['sub'] = segdf['sub'].apply(lambda x: x[:7])"
   ]
  },
  {
   "cell_type": "code",
   "execution_count": 13,
   "metadata": {},
   "outputs": [
    {
     "data": {
      "text/html": [
       "<div>\n",
       "<style scoped>\n",
       "    .dataframe tbody tr th:only-of-type {\n",
       "        vertical-align: middle;\n",
       "    }\n",
       "\n",
       "    .dataframe tbody tr th {\n",
       "        vertical-align: top;\n",
       "    }\n",
       "\n",
       "    .dataframe thead th {\n",
       "        text-align: right;\n",
       "    }\n",
       "</style>\n",
       "<table border=\"1\" class=\"dataframe\">\n",
       "  <thead>\n",
       "    <tr style=\"text-align: right;\">\n",
       "      <th></th>\n",
       "      <th>movie</th>\n",
       "      <th>task</th>\n",
       "      <th>segment_coarse.rt</th>\n",
       "      <th>segment_fine.rt</th>\n",
       "      <th>order</th>\n",
       "      <th>sub</th>\n",
       "      <th>sub_id</th>\n",
       "    </tr>\n",
       "  </thead>\n",
       "  <tbody>\n",
       "    <tr>\n",
       "      <th>0</th>\n",
       "      <td>1.2.3</td>\n",
       "      <td>segment</td>\n",
       "      <td>NaN</td>\n",
       "      <td>[-3.0535317070025485, 82.44245017500361, 153.6...</td>\n",
       "      <td>coarse_fine</td>\n",
       "      <td>e152003</td>\n",
       "      <td>sub-01</td>\n",
       "    </tr>\n",
       "    <tr>\n",
       "      <th>1</th>\n",
       "      <td>6.3.9</td>\n",
       "      <td>segment</td>\n",
       "      <td>NaN</td>\n",
       "      <td>[-6.316542810003739, -1.676559024002927, 284.5...</td>\n",
       "      <td>coarse_fine</td>\n",
       "      <td>e152003</td>\n",
       "      <td>sub-01</td>\n",
       "    </tr>\n",
       "    <tr>\n",
       "      <th>2</th>\n",
       "      <td>3.1.3</td>\n",
       "      <td>segment</td>\n",
       "      <td>NaN</td>\n",
       "      <td>[-8.52994464999938, -7.521954813004413, -5.097...</td>\n",
       "      <td>coarse_fine</td>\n",
       "      <td>e152003</td>\n",
       "      <td>sub-01</td>\n",
       "    </tr>\n",
       "    <tr>\n",
       "      <th>3</th>\n",
       "      <td>2.4.1</td>\n",
       "      <td>segment</td>\n",
       "      <td>NaN</td>\n",
       "      <td>[-6.891140856001584, -6.715163246000884, -1.59...</td>\n",
       "      <td>coarse_fine</td>\n",
       "      <td>e152003</td>\n",
       "      <td>sub-01</td>\n",
       "    </tr>\n",
       "    <tr>\n",
       "      <th>4</th>\n",
       "      <td>1.2.3</td>\n",
       "      <td>segment</td>\n",
       "      <td>NaN</td>\n",
       "      <td>[-3.6784942579979543, 85.08150436398864, 153.2...</td>\n",
       "      <td>coarse_fine</td>\n",
       "      <td>e152004</td>\n",
       "      <td>sub-02</td>\n",
       "    </tr>\n",
       "    <tr>\n",
       "      <th>...</th>\n",
       "      <td>...</td>\n",
       "      <td>...</td>\n",
       "      <td>...</td>\n",
       "      <td>...</td>\n",
       "      <td>...</td>\n",
       "      <td>...</td>\n",
       "      <td>...</td>\n",
       "    </tr>\n",
       "    <tr>\n",
       "      <th>351</th>\n",
       "      <td>2.4.1</td>\n",
       "      <td>segment</td>\n",
       "      <td>[223.40938365300008, 334.8414090819997, 404.28...</td>\n",
       "      <td>NaN</td>\n",
       "      <td>coarse_fine</td>\n",
       "      <td>e152029</td>\n",
       "      <td>sub-24</td>\n",
       "    </tr>\n",
       "    <tr>\n",
       "      <th>352</th>\n",
       "      <td>1.2.3</td>\n",
       "      <td>segment</td>\n",
       "      <td>NaN</td>\n",
       "      <td>[56.48353854800007, 80.93153294100011, 152.203...</td>\n",
       "      <td>coarse_fine</td>\n",
       "      <td>e152029</td>\n",
       "      <td>sub-24</td>\n",
       "    </tr>\n",
       "    <tr>\n",
       "      <th>353</th>\n",
       "      <td>6.3.9</td>\n",
       "      <td>segment</td>\n",
       "      <td>NaN</td>\n",
       "      <td>[57.32472520800002, 201.42077444300048, 279.60...</td>\n",
       "      <td>coarse_fine</td>\n",
       "      <td>e152029</td>\n",
       "      <td>sub-24</td>\n",
       "    </tr>\n",
       "    <tr>\n",
       "      <th>354</th>\n",
       "      <td>3.1.3</td>\n",
       "      <td>segment</td>\n",
       "      <td>NaN</td>\n",
       "      <td>[164.76395759499974, 335.3319954260005, 410.37...</td>\n",
       "      <td>coarse_fine</td>\n",
       "      <td>e152029</td>\n",
       "      <td>sub-24</td>\n",
       "    </tr>\n",
       "    <tr>\n",
       "      <th>355</th>\n",
       "      <td>2.4.1</td>\n",
       "      <td>segment</td>\n",
       "      <td>NaN</td>\n",
       "      <td>[215.58221322499958, 321.68624296300004, 402.1...</td>\n",
       "      <td>coarse_fine</td>\n",
       "      <td>e152029</td>\n",
       "      <td>sub-24</td>\n",
       "    </tr>\n",
       "  </tbody>\n",
       "</table>\n",
       "<p>356 rows × 7 columns</p>\n",
       "</div>"
      ],
      "text/plain": [
       "     movie     task                                  segment_coarse.rt  \\\n",
       "0    1.2.3  segment                                                NaN   \n",
       "1    6.3.9  segment                                                NaN   \n",
       "2    3.1.3  segment                                                NaN   \n",
       "3    2.4.1  segment                                                NaN   \n",
       "4    1.2.3  segment                                                NaN   \n",
       "..     ...      ...                                                ...   \n",
       "351  2.4.1  segment  [223.40938365300008, 334.8414090819997, 404.28...   \n",
       "352  1.2.3  segment                                                NaN   \n",
       "353  6.3.9  segment                                                NaN   \n",
       "354  3.1.3  segment                                                NaN   \n",
       "355  2.4.1  segment                                                NaN   \n",
       "\n",
       "                                       segment_fine.rt        order      sub  \\\n",
       "0    [-3.0535317070025485, 82.44245017500361, 153.6...  coarse_fine  e152003   \n",
       "1    [-6.316542810003739, -1.676559024002927, 284.5...  coarse_fine  e152003   \n",
       "2    [-8.52994464999938, -7.521954813004413, -5.097...  coarse_fine  e152003   \n",
       "3    [-6.891140856001584, -6.715163246000884, -1.59...  coarse_fine  e152003   \n",
       "4    [-3.6784942579979543, 85.08150436398864, 153.2...  coarse_fine  e152004   \n",
       "..                                                 ...          ...      ...   \n",
       "351                                                NaN  coarse_fine  e152029   \n",
       "352  [56.48353854800007, 80.93153294100011, 152.203...  coarse_fine  e152029   \n",
       "353  [57.32472520800002, 201.42077444300048, 279.60...  coarse_fine  e152029   \n",
       "354  [164.76395759499974, 335.3319954260005, 410.37...  coarse_fine  e152029   \n",
       "355  [215.58221322499958, 321.68624296300004, 402.1...  coarse_fine  e152029   \n",
       "\n",
       "     sub_id  \n",
       "0    sub-01  \n",
       "1    sub-01  \n",
       "2    sub-01  \n",
       "3    sub-01  \n",
       "4    sub-02  \n",
       "..      ...  \n",
       "351  sub-24  \n",
       "352  sub-24  \n",
       "353  sub-24  \n",
       "354  sub-24  \n",
       "355  sub-24  \n",
       "\n",
       "[356 rows x 7 columns]"
      ]
     },
     "execution_count": 13,
     "metadata": {},
     "output_type": "execute_result"
    }
   ],
   "source": [
    "# use counter_balance to map the sub to sub_id\n",
    "segdf['sub_id'] = segdf['sub'].apply(lambda x: counter_balance_dict[x])\n",
    "segdf"
   ]
  },
  {
   "cell_type": "code",
   "execution_count": null,
   "metadata": {},
   "outputs": [],
   "source": []
  },
  {
   "attachments": {},
   "cell_type": "markdown",
   "metadata": {},
   "source": [
    "## Build up from Sophie's data"
   ]
  },
  {
   "cell_type": "code",
   "execution_count": 14,
   "metadata": {},
   "outputs": [
    {
     "data": {
      "text/plain": [
       "array(['e152005', 'e152006', 'e152007', 'e152008', 'e152009', 'e152010',\n",
       "       'e152011', 'e152013', 'e152014', 'e152016', 'e152017', 'e152018',\n",
       "       'e152021', 'e152022', 'e152023', 'e152024', 'e152025', 'e152026',\n",
       "       'e152028', 'e152030', 'e152031', 'e152032', 'e152033', 'e152034',\n",
       "       'e152035', 'e152036', 'e152037', 'e152038', 'e152039', 'e152040',\n",
       "       'e152041', 'e152042', 'e152044', 'e152045', 'e152046', 'e152047',\n",
       "       'e152049', 'e152050', 'e152051', 'e152052', 'e152015', 'e152019',\n",
       "       'e152020', 'e152027', 'e152029', 'e152003', 'e152004'],\n",
       "      dtype=object)"
      ]
     },
     "execution_count": 14,
     "metadata": {},
     "output_type": "execute_result"
    }
   ],
   "source": [
    "# this segmentation.csv file was created by Sophie Su on 07/11/2022 for all subjects (the last subject were collected on 05/28/2022), use it. However, there are two subjects not there: e153053 (sub-47), e152043 (sub-38) => add them manually. Moreover, segmentation data for e152003 and e152004 should be fine instead of coarse => fix it manually.\n",
    "segmentation_df = pd.read_csv(\"./segmentation.csv\")\n",
    "segmentation_df[\"sub\"].unique()"
   ]
  },
  {
   "cell_type": "code",
   "execution_count": 15,
   "metadata": {},
   "outputs": [],
   "source": [
    "# remove 'e152005' and 'e152006' because they do not have fMRI data\n",
    "segmentation_df = segmentation_df[segmentation_df['sub'] != 'e152005']\n",
    "segmentation_df = segmentation_df[segmentation_df['sub'] != 'e152006']"
   ]
  },
  {
   "cell_type": "code",
   "execution_count": 16,
   "metadata": {},
   "outputs": [],
   "source": [
    "# segmentation for e152003 and e152004 should be fine instead of coarse, which means that there is no data in column segment_coarse.rt, so we need to replace it with segment_fine.rt and vice versa\n",
    "segmentation_df.loc[segmentation_df[\"sub\"].isin([\"e152003\", \"e152004\"]), [\"segment_coarse.rt\", \"segment_fine.rt\"]] = segmentation_df.loc[segmentation_df[\"sub\"].isin([\"e152003\", \"e152004\"]), [\"segment_fine.rt\", \"segment_coarse.rt\"]].values\n",
    "# also, we need to change the order column to fine\n",
    "segmentation_df.loc[segmentation_df[\"sub\"].isin([\"e152003\", \"e152004\"]), \"order\"] = \"fine\""
   ]
  },
  {
   "cell_type": "code",
   "execution_count": 17,
   "metadata": {},
   "outputs": [
    {
     "data": {
      "text/html": [
       "<div>\n",
       "<style scoped>\n",
       "    .dataframe tbody tr th:only-of-type {\n",
       "        vertical-align: middle;\n",
       "    }\n",
       "\n",
       "    .dataframe tbody tr th {\n",
       "        vertical-align: top;\n",
       "    }\n",
       "\n",
       "    .dataframe thead th {\n",
       "        text-align: right;\n",
       "    }\n",
       "</style>\n",
       "<table border=\"1\" class=\"dataframe\">\n",
       "  <thead>\n",
       "    <tr style=\"text-align: right;\">\n",
       "      <th></th>\n",
       "      <th>movie</th>\n",
       "      <th>task</th>\n",
       "      <th>segment_coarse.rt</th>\n",
       "      <th>segment_fine.rt</th>\n",
       "      <th>order</th>\n",
       "      <th>sub</th>\n",
       "    </tr>\n",
       "  </thead>\n",
       "  <tbody>\n",
       "    <tr>\n",
       "      <th>0</th>\n",
       "      <td>1.2.3</td>\n",
       "      <td>segment</td>\n",
       "      <td>[81.22465172300144, 152.4806256030024, 275.136...</td>\n",
       "      <td>NaN</td>\n",
       "      <td>coarse_fine</td>\n",
       "      <td>e152007</td>\n",
       "    </tr>\n",
       "    <tr>\n",
       "      <th>1</th>\n",
       "      <td>6.3.9</td>\n",
       "      <td>segment</td>\n",
       "      <td>[201.5615719640009, 275.17759370800195, 303.28...</td>\n",
       "      <td>NaN</td>\n",
       "      <td>coarse_fine</td>\n",
       "      <td>e152007</td>\n",
       "    </tr>\n",
       "    <tr>\n",
       "      <th>2</th>\n",
       "      <td>3.1.3</td>\n",
       "      <td>segment</td>\n",
       "      <td>[22.026569180998194, 168.62662580000324, 342.4...</td>\n",
       "      <td>NaN</td>\n",
       "      <td>coarse_fine</td>\n",
       "      <td>e152007</td>\n",
       "    </tr>\n",
       "    <tr>\n",
       "      <th>3</th>\n",
       "      <td>2.4.1</td>\n",
       "      <td>segment</td>\n",
       "      <td>[216.21561364099762, 329.53564650000044, 359.3...</td>\n",
       "      <td>NaN</td>\n",
       "      <td>coarse_fine</td>\n",
       "      <td>e152007</td>\n",
       "    </tr>\n",
       "    <tr>\n",
       "      <th>4</th>\n",
       "      <td>1.2.3</td>\n",
       "      <td>segment</td>\n",
       "      <td>NaN</td>\n",
       "      <td>[56.83075998399727, 80.3107490820039, 93.07074...</td>\n",
       "      <td>coarse_fine</td>\n",
       "      <td>e152007</td>\n",
       "    </tr>\n",
       "    <tr>\n",
       "      <th>...</th>\n",
       "      <td>...</td>\n",
       "      <td>...</td>\n",
       "      <td>...</td>\n",
       "      <td>...</td>\n",
       "      <td>...</td>\n",
       "      <td>...</td>\n",
       "    </tr>\n",
       "    <tr>\n",
       "      <th>343</th>\n",
       "      <td>2.4.1</td>\n",
       "      <td>segment</td>\n",
       "      <td>NaN</td>\n",
       "      <td>[240.3569225300016, 314.90095041399763, 401.16...</td>\n",
       "      <td>fine</td>\n",
       "      <td>e152004</td>\n",
       "    </tr>\n",
       "    <tr>\n",
       "      <th>344</th>\n",
       "      <td>1.2.3</td>\n",
       "      <td>segment</td>\n",
       "      <td>NaN</td>\n",
       "      <td>[9.209173883002222, 55.849169659002655, 79.873...</td>\n",
       "      <td>fine_coarse</td>\n",
       "      <td>e152053</td>\n",
       "    </tr>\n",
       "    <tr>\n",
       "      <th>345</th>\n",
       "      <td>6.3.9</td>\n",
       "      <td>segment</td>\n",
       "      <td>NaN</td>\n",
       "      <td>[57.332311460999335, 270.49236585199833, 307.1...</td>\n",
       "      <td>fine_coarse</td>\n",
       "      <td>e152053</td>\n",
       "    </tr>\n",
       "    <tr>\n",
       "      <th>346</th>\n",
       "      <td>3.1.3</td>\n",
       "      <td>segment</td>\n",
       "      <td>NaN</td>\n",
       "      <td>[20.217718727002648, 72.72971740900175, 131.64...</td>\n",
       "      <td>fine_coarse</td>\n",
       "      <td>e152053</td>\n",
       "    </tr>\n",
       "    <tr>\n",
       "      <th>347</th>\n",
       "      <td>2.4.1</td>\n",
       "      <td>segment</td>\n",
       "      <td>NaN</td>\n",
       "      <td>[194.7564154799984, 239.52443636799944, 317.24...</td>\n",
       "      <td>fine_coarse</td>\n",
       "      <td>e152053</td>\n",
       "    </tr>\n",
       "  </tbody>\n",
       "</table>\n",
       "<p>348 rows × 6 columns</p>\n",
       "</div>"
      ],
      "text/plain": [
       "     movie     task                                  segment_coarse.rt  \\\n",
       "0    1.2.3  segment  [81.22465172300144, 152.4806256030024, 275.136...   \n",
       "1    6.3.9  segment  [201.5615719640009, 275.17759370800195, 303.28...   \n",
       "2    3.1.3  segment  [22.026569180998194, 168.62662580000324, 342.4...   \n",
       "3    2.4.1  segment  [216.21561364099762, 329.53564650000044, 359.3...   \n",
       "4    1.2.3  segment                                                NaN   \n",
       "..     ...      ...                                                ...   \n",
       "343  2.4.1  segment                                                NaN   \n",
       "344  1.2.3  segment                                                NaN   \n",
       "345  6.3.9  segment                                                NaN   \n",
       "346  3.1.3  segment                                                NaN   \n",
       "347  2.4.1  segment                                                NaN   \n",
       "\n",
       "                                       segment_fine.rt        order      sub  \n",
       "0                                                  NaN  coarse_fine  e152007  \n",
       "1                                                  NaN  coarse_fine  e152007  \n",
       "2                                                  NaN  coarse_fine  e152007  \n",
       "3                                                  NaN  coarse_fine  e152007  \n",
       "4    [56.83075998399727, 80.3107490820039, 93.07074...  coarse_fine  e152007  \n",
       "..                                                 ...          ...      ...  \n",
       "343  [240.3569225300016, 314.90095041399763, 401.16...         fine  e152004  \n",
       "344  [9.209173883002222, 55.849169659002655, 79.873...  fine_coarse  e152053  \n",
       "345  [57.332311460999335, 270.49236585199833, 307.1...  fine_coarse  e152053  \n",
       "346  [20.217718727002648, 72.72971740900175, 131.64...  fine_coarse  e152053  \n",
       "347  [194.7564154799984, 239.52443636799944, 317.24...  fine_coarse  e152053  \n",
       "\n",
       "[348 rows x 6 columns]"
      ]
     },
     "execution_count": 17,
     "metadata": {},
     "output_type": "execute_result"
    }
   ],
   "source": [
    "## add e152053, in fine-coarse format, this person didn't complete coarse segmentation\n",
    "df = pd.read_csv(\"../exp152_Session_2/data/e152053_exp152_session_2_2022_Jun_04_1513.csv\")\n",
    "# select columns and rows:\n",
    "df = df[['movie', 'task', 'segment_fine.rt']]\n",
    "df['order']='fine_coarse'\n",
    "df = df[(df.task == 'segment') & (df.movie != 'legos2')]\n",
    "df['sub'] = 'e152053'\n",
    "# add to the segmentation_df, be sure to align by columns names\n",
    "segmentation_df = pd.concat([segmentation_df, df], ignore_index=True)\n",
    "segmentation_df"
   ]
  },
  {
   "cell_type": "code",
   "execution_count": 18,
   "metadata": {},
   "outputs": [
    {
     "data": {
      "text/html": [
       "<div>\n",
       "<style scoped>\n",
       "    .dataframe tbody tr th:only-of-type {\n",
       "        vertical-align: middle;\n",
       "    }\n",
       "\n",
       "    .dataframe tbody tr th {\n",
       "        vertical-align: top;\n",
       "    }\n",
       "\n",
       "    .dataframe thead th {\n",
       "        text-align: right;\n",
       "    }\n",
       "</style>\n",
       "<table border=\"1\" class=\"dataframe\">\n",
       "  <thead>\n",
       "    <tr style=\"text-align: right;\">\n",
       "      <th></th>\n",
       "      <th>movie</th>\n",
       "      <th>task</th>\n",
       "      <th>segment_coarse.rt</th>\n",
       "      <th>segment_fine.rt</th>\n",
       "      <th>order</th>\n",
       "      <th>sub</th>\n",
       "    </tr>\n",
       "  </thead>\n",
       "  <tbody>\n",
       "    <tr>\n",
       "      <th>0</th>\n",
       "      <td>1.2.3</td>\n",
       "      <td>segment</td>\n",
       "      <td>[81.22465172300144, 152.4806256030024, 275.136...</td>\n",
       "      <td>NaN</td>\n",
       "      <td>coarse_fine</td>\n",
       "      <td>e152007</td>\n",
       "    </tr>\n",
       "    <tr>\n",
       "      <th>1</th>\n",
       "      <td>6.3.9</td>\n",
       "      <td>segment</td>\n",
       "      <td>[201.5615719640009, 275.17759370800195, 303.28...</td>\n",
       "      <td>NaN</td>\n",
       "      <td>coarse_fine</td>\n",
       "      <td>e152007</td>\n",
       "    </tr>\n",
       "    <tr>\n",
       "      <th>2</th>\n",
       "      <td>3.1.3</td>\n",
       "      <td>segment</td>\n",
       "      <td>[22.026569180998194, 168.62662580000324, 342.4...</td>\n",
       "      <td>NaN</td>\n",
       "      <td>coarse_fine</td>\n",
       "      <td>e152007</td>\n",
       "    </tr>\n",
       "    <tr>\n",
       "      <th>3</th>\n",
       "      <td>2.4.1</td>\n",
       "      <td>segment</td>\n",
       "      <td>[216.21561364099762, 329.53564650000044, 359.3...</td>\n",
       "      <td>NaN</td>\n",
       "      <td>coarse_fine</td>\n",
       "      <td>e152007</td>\n",
       "    </tr>\n",
       "    <tr>\n",
       "      <th>4</th>\n",
       "      <td>1.2.3</td>\n",
       "      <td>segment</td>\n",
       "      <td>NaN</td>\n",
       "      <td>[56.83075998399727, 80.3107490820039, 93.07074...</td>\n",
       "      <td>coarse_fine</td>\n",
       "      <td>e152007</td>\n",
       "    </tr>\n",
       "    <tr>\n",
       "      <th>...</th>\n",
       "      <td>...</td>\n",
       "      <td>...</td>\n",
       "      <td>...</td>\n",
       "      <td>...</td>\n",
       "      <td>...</td>\n",
       "      <td>...</td>\n",
       "    </tr>\n",
       "    <tr>\n",
       "      <th>351</th>\n",
       "      <td>2.4.1</td>\n",
       "      <td>segment</td>\n",
       "      <td>NaN</td>\n",
       "      <td>[32.867885480999576, 89.6438594329993, 153.499...</td>\n",
       "      <td>fine_coarse</td>\n",
       "      <td>e152043</td>\n",
       "    </tr>\n",
       "    <tr>\n",
       "      <th>352</th>\n",
       "      <td>1.2.3</td>\n",
       "      <td>segment</td>\n",
       "      <td>[35.97722811299991, 121.68124132999992, 173.92...</td>\n",
       "      <td>NaN</td>\n",
       "      <td>fine_coarse</td>\n",
       "      <td>e152043</td>\n",
       "    </tr>\n",
       "    <tr>\n",
       "      <th>353</th>\n",
       "      <td>6.3.9</td>\n",
       "      <td>segment</td>\n",
       "      <td>[171.68109439299997, 246.07310757899995, 324.4...</td>\n",
       "      <td>NaN</td>\n",
       "      <td>fine_coarse</td>\n",
       "      <td>e152043</td>\n",
       "    </tr>\n",
       "    <tr>\n",
       "      <th>354</th>\n",
       "      <td>3.1.3</td>\n",
       "      <td>segment</td>\n",
       "      <td>[171.60011225899962, 509.42413506699995, 568.3...</td>\n",
       "      <td>NaN</td>\n",
       "      <td>fine_coarse</td>\n",
       "      <td>e152043</td>\n",
       "    </tr>\n",
       "    <tr>\n",
       "      <th>355</th>\n",
       "      <td>2.4.1</td>\n",
       "      <td>segment</td>\n",
       "      <td>[190.11858168200024, 227.55055278400005, 635.6...</td>\n",
       "      <td>NaN</td>\n",
       "      <td>fine_coarse</td>\n",
       "      <td>e152043</td>\n",
       "    </tr>\n",
       "  </tbody>\n",
       "</table>\n",
       "<p>356 rows × 6 columns</p>\n",
       "</div>"
      ],
      "text/plain": [
       "     movie     task                                  segment_coarse.rt  \\\n",
       "0    1.2.3  segment  [81.22465172300144, 152.4806256030024, 275.136...   \n",
       "1    6.3.9  segment  [201.5615719640009, 275.17759370800195, 303.28...   \n",
       "2    3.1.3  segment  [22.026569180998194, 168.62662580000324, 342.4...   \n",
       "3    2.4.1  segment  [216.21561364099762, 329.53564650000044, 359.3...   \n",
       "4    1.2.3  segment                                                NaN   \n",
       "..     ...      ...                                                ...   \n",
       "351  2.4.1  segment                                                NaN   \n",
       "352  1.2.3  segment  [35.97722811299991, 121.68124132999992, 173.92...   \n",
       "353  6.3.9  segment  [171.68109439299997, 246.07310757899995, 324.4...   \n",
       "354  3.1.3  segment  [171.60011225899962, 509.42413506699995, 568.3...   \n",
       "355  2.4.1  segment  [190.11858168200024, 227.55055278400005, 635.6...   \n",
       "\n",
       "                                       segment_fine.rt        order      sub  \n",
       "0                                                  NaN  coarse_fine  e152007  \n",
       "1                                                  NaN  coarse_fine  e152007  \n",
       "2                                                  NaN  coarse_fine  e152007  \n",
       "3                                                  NaN  coarse_fine  e152007  \n",
       "4    [56.83075998399727, 80.3107490820039, 93.07074...  coarse_fine  e152007  \n",
       "..                                                 ...          ...      ...  \n",
       "351  [32.867885480999576, 89.6438594329993, 153.499...  fine_coarse  e152043  \n",
       "352                                                NaN  fine_coarse  e152043  \n",
       "353                                                NaN  fine_coarse  e152043  \n",
       "354                                                NaN  fine_coarse  e152043  \n",
       "355                                                NaN  fine_coarse  e152043  \n",
       "\n",
       "[356 rows x 6 columns]"
      ]
     },
     "execution_count": 18,
     "metadata": {},
     "output_type": "execute_result"
    }
   ],
   "source": [
    "## add e152043, e153043 complete fine segment and the file is in fc format, however, the v2 with coarse segmentation is in cf format.\n",
    "df = pd.read_csv(\"../exp152_Session_2/data/e152043_exp152_session_2_2022_Apr_11_1247.csv\")\n",
    "# select columns and rows:\n",
    "df = df[['movie','task','segment_fine.rt']]\n",
    "df['order'] = 'fine_coarse'\n",
    "df = df[(df.task == 'segment') & (df.movie != 'legos2')]\n",
    "df['sub'] = 'e152043'\n",
    "# add to the segmentation_df, be sure to align by columns names\n",
    "segmentation_df = pd.concat([segmentation_df, df], ignore_index=True)\n",
    "\n",
    "df_coarse = pd.read_csv(\"../exp152_Session_2/data/e152043v2_exp152_session_2_2022_Apr_15_1158.csv\")\n",
    "# select columns and rows:\n",
    "df_coarse = df_coarse[['movie','task','segment_2.rt']]\n",
    "df_coarse = df_coarse.rename(columns={'segment_2.rt':'segment_coarse.rt'})\n",
    "df_coarse['order'] = 'fine_coarse'\n",
    "df_coarse = df_coarse[(df_coarse.task == 'segment') & (df_coarse.movie != 'legos2')]\n",
    "df_coarse['sub'] = 'e152043'\n",
    "# add to the segmentation_df, be sure to align by columns names\n",
    "segmentation_df = pd.concat([segmentation_df, df_coarse], ignore_index=True)\n",
    "\n",
    "segmentation_df"
   ]
  },
  {
   "cell_type": "code",
   "execution_count": 19,
   "metadata": {},
   "outputs": [
    {
     "data": {
      "text/html": [
       "<div>\n",
       "<style scoped>\n",
       "    .dataframe tbody tr th:only-of-type {\n",
       "        vertical-align: middle;\n",
       "    }\n",
       "\n",
       "    .dataframe tbody tr th {\n",
       "        vertical-align: top;\n",
       "    }\n",
       "\n",
       "    .dataframe thead th {\n",
       "        text-align: right;\n",
       "    }\n",
       "</style>\n",
       "<table border=\"1\" class=\"dataframe\">\n",
       "  <thead>\n",
       "    <tr style=\"text-align: right;\">\n",
       "      <th></th>\n",
       "      <th>movie</th>\n",
       "      <th>task</th>\n",
       "      <th>segment_coarse.rt</th>\n",
       "      <th>segment_fine.rt</th>\n",
       "      <th>order</th>\n",
       "    </tr>\n",
       "    <tr>\n",
       "      <th>sub</th>\n",
       "      <th></th>\n",
       "      <th></th>\n",
       "      <th></th>\n",
       "      <th></th>\n",
       "      <th></th>\n",
       "    </tr>\n",
       "  </thead>\n",
       "  <tbody>\n",
       "    <tr>\n",
       "      <th>e152003</th>\n",
       "      <td>4</td>\n",
       "      <td>4</td>\n",
       "      <td>0</td>\n",
       "      <td>4</td>\n",
       "      <td>4</td>\n",
       "    </tr>\n",
       "    <tr>\n",
       "      <th>e152004</th>\n",
       "      <td>4</td>\n",
       "      <td>4</td>\n",
       "      <td>0</td>\n",
       "      <td>4</td>\n",
       "      <td>4</td>\n",
       "    </tr>\n",
       "    <tr>\n",
       "      <th>e152007</th>\n",
       "      <td>8</td>\n",
       "      <td>8</td>\n",
       "      <td>4</td>\n",
       "      <td>4</td>\n",
       "      <td>8</td>\n",
       "    </tr>\n",
       "    <tr>\n",
       "      <th>e152008</th>\n",
       "      <td>8</td>\n",
       "      <td>8</td>\n",
       "      <td>4</td>\n",
       "      <td>4</td>\n",
       "      <td>8</td>\n",
       "    </tr>\n",
       "    <tr>\n",
       "      <th>e152009</th>\n",
       "      <td>8</td>\n",
       "      <td>8</td>\n",
       "      <td>4</td>\n",
       "      <td>4</td>\n",
       "      <td>8</td>\n",
       "    </tr>\n",
       "    <tr>\n",
       "      <th>e152010</th>\n",
       "      <td>8</td>\n",
       "      <td>8</td>\n",
       "      <td>4</td>\n",
       "      <td>4</td>\n",
       "      <td>8</td>\n",
       "    </tr>\n",
       "    <tr>\n",
       "      <th>e152011</th>\n",
       "      <td>8</td>\n",
       "      <td>8</td>\n",
       "      <td>4</td>\n",
       "      <td>4</td>\n",
       "      <td>8</td>\n",
       "    </tr>\n",
       "    <tr>\n",
       "      <th>e152013</th>\n",
       "      <td>8</td>\n",
       "      <td>8</td>\n",
       "      <td>4</td>\n",
       "      <td>4</td>\n",
       "      <td>8</td>\n",
       "    </tr>\n",
       "    <tr>\n",
       "      <th>e152014</th>\n",
       "      <td>8</td>\n",
       "      <td>8</td>\n",
       "      <td>4</td>\n",
       "      <td>4</td>\n",
       "      <td>8</td>\n",
       "    </tr>\n",
       "    <tr>\n",
       "      <th>e152015</th>\n",
       "      <td>4</td>\n",
       "      <td>4</td>\n",
       "      <td>0</td>\n",
       "      <td>4</td>\n",
       "      <td>4</td>\n",
       "    </tr>\n",
       "    <tr>\n",
       "      <th>e152016</th>\n",
       "      <td>8</td>\n",
       "      <td>8</td>\n",
       "      <td>4</td>\n",
       "      <td>4</td>\n",
       "      <td>8</td>\n",
       "    </tr>\n",
       "    <tr>\n",
       "      <th>e152017</th>\n",
       "      <td>8</td>\n",
       "      <td>8</td>\n",
       "      <td>4</td>\n",
       "      <td>4</td>\n",
       "      <td>8</td>\n",
       "    </tr>\n",
       "    <tr>\n",
       "      <th>e152018</th>\n",
       "      <td>8</td>\n",
       "      <td>8</td>\n",
       "      <td>4</td>\n",
       "      <td>4</td>\n",
       "      <td>8</td>\n",
       "    </tr>\n",
       "    <tr>\n",
       "      <th>e152019</th>\n",
       "      <td>4</td>\n",
       "      <td>4</td>\n",
       "      <td>0</td>\n",
       "      <td>4</td>\n",
       "      <td>4</td>\n",
       "    </tr>\n",
       "    <tr>\n",
       "      <th>e152020</th>\n",
       "      <td>8</td>\n",
       "      <td>8</td>\n",
       "      <td>4</td>\n",
       "      <td>4</td>\n",
       "      <td>8</td>\n",
       "    </tr>\n",
       "    <tr>\n",
       "      <th>e152021</th>\n",
       "      <td>8</td>\n",
       "      <td>8</td>\n",
       "      <td>4</td>\n",
       "      <td>4</td>\n",
       "      <td>8</td>\n",
       "    </tr>\n",
       "    <tr>\n",
       "      <th>e152022</th>\n",
       "      <td>8</td>\n",
       "      <td>8</td>\n",
       "      <td>4</td>\n",
       "      <td>4</td>\n",
       "      <td>8</td>\n",
       "    </tr>\n",
       "    <tr>\n",
       "      <th>e152023</th>\n",
       "      <td>8</td>\n",
       "      <td>8</td>\n",
       "      <td>4</td>\n",
       "      <td>4</td>\n",
       "      <td>8</td>\n",
       "    </tr>\n",
       "    <tr>\n",
       "      <th>e152024</th>\n",
       "      <td>8</td>\n",
       "      <td>8</td>\n",
       "      <td>4</td>\n",
       "      <td>4</td>\n",
       "      <td>8</td>\n",
       "    </tr>\n",
       "    <tr>\n",
       "      <th>e152025</th>\n",
       "      <td>8</td>\n",
       "      <td>8</td>\n",
       "      <td>4</td>\n",
       "      <td>4</td>\n",
       "      <td>8</td>\n",
       "    </tr>\n",
       "    <tr>\n",
       "      <th>e152026</th>\n",
       "      <td>8</td>\n",
       "      <td>8</td>\n",
       "      <td>4</td>\n",
       "      <td>4</td>\n",
       "      <td>8</td>\n",
       "    </tr>\n",
       "    <tr>\n",
       "      <th>e152027</th>\n",
       "      <td>8</td>\n",
       "      <td>8</td>\n",
       "      <td>4</td>\n",
       "      <td>4</td>\n",
       "      <td>8</td>\n",
       "    </tr>\n",
       "    <tr>\n",
       "      <th>e152028</th>\n",
       "      <td>8</td>\n",
       "      <td>8</td>\n",
       "      <td>4</td>\n",
       "      <td>4</td>\n",
       "      <td>8</td>\n",
       "    </tr>\n",
       "    <tr>\n",
       "      <th>e152029</th>\n",
       "      <td>8</td>\n",
       "      <td>8</td>\n",
       "      <td>4</td>\n",
       "      <td>4</td>\n",
       "      <td>8</td>\n",
       "    </tr>\n",
       "    <tr>\n",
       "      <th>e152030</th>\n",
       "      <td>8</td>\n",
       "      <td>8</td>\n",
       "      <td>4</td>\n",
       "      <td>4</td>\n",
       "      <td>8</td>\n",
       "    </tr>\n",
       "    <tr>\n",
       "      <th>e152031</th>\n",
       "      <td>8</td>\n",
       "      <td>8</td>\n",
       "      <td>4</td>\n",
       "      <td>4</td>\n",
       "      <td>8</td>\n",
       "    </tr>\n",
       "    <tr>\n",
       "      <th>e152032</th>\n",
       "      <td>8</td>\n",
       "      <td>8</td>\n",
       "      <td>3</td>\n",
       "      <td>4</td>\n",
       "      <td>8</td>\n",
       "    </tr>\n",
       "    <tr>\n",
       "      <th>e152033</th>\n",
       "      <td>8</td>\n",
       "      <td>8</td>\n",
       "      <td>4</td>\n",
       "      <td>4</td>\n",
       "      <td>8</td>\n",
       "    </tr>\n",
       "    <tr>\n",
       "      <th>e152034</th>\n",
       "      <td>8</td>\n",
       "      <td>8</td>\n",
       "      <td>4</td>\n",
       "      <td>4</td>\n",
       "      <td>8</td>\n",
       "    </tr>\n",
       "    <tr>\n",
       "      <th>e152035</th>\n",
       "      <td>8</td>\n",
       "      <td>8</td>\n",
       "      <td>4</td>\n",
       "      <td>4</td>\n",
       "      <td>8</td>\n",
       "    </tr>\n",
       "    <tr>\n",
       "      <th>e152036</th>\n",
       "      <td>8</td>\n",
       "      <td>8</td>\n",
       "      <td>4</td>\n",
       "      <td>4</td>\n",
       "      <td>8</td>\n",
       "    </tr>\n",
       "    <tr>\n",
       "      <th>e152037</th>\n",
       "      <td>8</td>\n",
       "      <td>8</td>\n",
       "      <td>4</td>\n",
       "      <td>4</td>\n",
       "      <td>8</td>\n",
       "    </tr>\n",
       "    <tr>\n",
       "      <th>e152038</th>\n",
       "      <td>8</td>\n",
       "      <td>8</td>\n",
       "      <td>4</td>\n",
       "      <td>4</td>\n",
       "      <td>8</td>\n",
       "    </tr>\n",
       "    <tr>\n",
       "      <th>e152039</th>\n",
       "      <td>8</td>\n",
       "      <td>8</td>\n",
       "      <td>4</td>\n",
       "      <td>4</td>\n",
       "      <td>8</td>\n",
       "    </tr>\n",
       "    <tr>\n",
       "      <th>e152040</th>\n",
       "      <td>8</td>\n",
       "      <td>8</td>\n",
       "      <td>4</td>\n",
       "      <td>4</td>\n",
       "      <td>8</td>\n",
       "    </tr>\n",
       "    <tr>\n",
       "      <th>e152041</th>\n",
       "      <td>8</td>\n",
       "      <td>8</td>\n",
       "      <td>4</td>\n",
       "      <td>4</td>\n",
       "      <td>8</td>\n",
       "    </tr>\n",
       "    <tr>\n",
       "      <th>e152042</th>\n",
       "      <td>8</td>\n",
       "      <td>8</td>\n",
       "      <td>4</td>\n",
       "      <td>4</td>\n",
       "      <td>8</td>\n",
       "    </tr>\n",
       "    <tr>\n",
       "      <th>e152043</th>\n",
       "      <td>8</td>\n",
       "      <td>8</td>\n",
       "      <td>4</td>\n",
       "      <td>4</td>\n",
       "      <td>8</td>\n",
       "    </tr>\n",
       "    <tr>\n",
       "      <th>e152044</th>\n",
       "      <td>8</td>\n",
       "      <td>8</td>\n",
       "      <td>4</td>\n",
       "      <td>4</td>\n",
       "      <td>8</td>\n",
       "    </tr>\n",
       "    <tr>\n",
       "      <th>e152045</th>\n",
       "      <td>8</td>\n",
       "      <td>8</td>\n",
       "      <td>4</td>\n",
       "      <td>4</td>\n",
       "      <td>8</td>\n",
       "    </tr>\n",
       "    <tr>\n",
       "      <th>e152046</th>\n",
       "      <td>8</td>\n",
       "      <td>8</td>\n",
       "      <td>4</td>\n",
       "      <td>4</td>\n",
       "      <td>8</td>\n",
       "    </tr>\n",
       "    <tr>\n",
       "      <th>e152047</th>\n",
       "      <td>8</td>\n",
       "      <td>8</td>\n",
       "      <td>4</td>\n",
       "      <td>4</td>\n",
       "      <td>8</td>\n",
       "    </tr>\n",
       "    <tr>\n",
       "      <th>e152049</th>\n",
       "      <td>8</td>\n",
       "      <td>8</td>\n",
       "      <td>4</td>\n",
       "      <td>4</td>\n",
       "      <td>8</td>\n",
       "    </tr>\n",
       "    <tr>\n",
       "      <th>e152050</th>\n",
       "      <td>8</td>\n",
       "      <td>8</td>\n",
       "      <td>4</td>\n",
       "      <td>4</td>\n",
       "      <td>8</td>\n",
       "    </tr>\n",
       "    <tr>\n",
       "      <th>e152051</th>\n",
       "      <td>8</td>\n",
       "      <td>8</td>\n",
       "      <td>4</td>\n",
       "      <td>4</td>\n",
       "      <td>8</td>\n",
       "    </tr>\n",
       "    <tr>\n",
       "      <th>e152052</th>\n",
       "      <td>8</td>\n",
       "      <td>8</td>\n",
       "      <td>4</td>\n",
       "      <td>4</td>\n",
       "      <td>8</td>\n",
       "    </tr>\n",
       "    <tr>\n",
       "      <th>e152053</th>\n",
       "      <td>4</td>\n",
       "      <td>4</td>\n",
       "      <td>0</td>\n",
       "      <td>4</td>\n",
       "      <td>4</td>\n",
       "    </tr>\n",
       "  </tbody>\n",
       "</table>\n",
       "</div>"
      ],
      "text/plain": [
       "         movie  task  segment_coarse.rt  segment_fine.rt  order\n",
       "sub                                                            \n",
       "e152003      4     4                  0                4      4\n",
       "e152004      4     4                  0                4      4\n",
       "e152007      8     8                  4                4      8\n",
       "e152008      8     8                  4                4      8\n",
       "e152009      8     8                  4                4      8\n",
       "e152010      8     8                  4                4      8\n",
       "e152011      8     8                  4                4      8\n",
       "e152013      8     8                  4                4      8\n",
       "e152014      8     8                  4                4      8\n",
       "e152015      4     4                  0                4      4\n",
       "e152016      8     8                  4                4      8\n",
       "e152017      8     8                  4                4      8\n",
       "e152018      8     8                  4                4      8\n",
       "e152019      4     4                  0                4      4\n",
       "e152020      8     8                  4                4      8\n",
       "e152021      8     8                  4                4      8\n",
       "e152022      8     8                  4                4      8\n",
       "e152023      8     8                  4                4      8\n",
       "e152024      8     8                  4                4      8\n",
       "e152025      8     8                  4                4      8\n",
       "e152026      8     8                  4                4      8\n",
       "e152027      8     8                  4                4      8\n",
       "e152028      8     8                  4                4      8\n",
       "e152029      8     8                  4                4      8\n",
       "e152030      8     8                  4                4      8\n",
       "e152031      8     8                  4                4      8\n",
       "e152032      8     8                  3                4      8\n",
       "e152033      8     8                  4                4      8\n",
       "e152034      8     8                  4                4      8\n",
       "e152035      8     8                  4                4      8\n",
       "e152036      8     8                  4                4      8\n",
       "e152037      8     8                  4                4      8\n",
       "e152038      8     8                  4                4      8\n",
       "e152039      8     8                  4                4      8\n",
       "e152040      8     8                  4                4      8\n",
       "e152041      8     8                  4                4      8\n",
       "e152042      8     8                  4                4      8\n",
       "e152043      8     8                  4                4      8\n",
       "e152044      8     8                  4                4      8\n",
       "e152045      8     8                  4                4      8\n",
       "e152046      8     8                  4                4      8\n",
       "e152047      8     8                  4                4      8\n",
       "e152049      8     8                  4                4      8\n",
       "e152050      8     8                  4                4      8\n",
       "e152051      8     8                  4                4      8\n",
       "e152052      8     8                  4                4      8\n",
       "e152053      4     4                  0                4      4"
      ]
     },
     "execution_count": 19,
     "metadata": {},
     "output_type": "execute_result"
    }
   ],
   "source": [
    "segmentation_df.groupby('sub').count()"
   ]
  },
  {
   "cell_type": "code",
   "execution_count": 32,
   "metadata": {},
   "outputs": [],
   "source": [
    "segmentation_df.to_csv('segmentation_df_08_15_2023.csv', index=False)"
   ]
  },
  {
   "attachments": {},
   "cell_type": "markdown",
   "metadata": {},
   "source": [
    "## Compare the two approaches"
   ]
  },
  {
   "cell_type": "code",
   "execution_count": 20,
   "metadata": {},
   "outputs": [],
   "source": [
    "def expand_list(segmentation_df):\n",
    "    segmentation_df_long = pd.DataFrame()\n",
    "    i = 0\n",
    "    while i < len(segmentation_df):\n",
    "        test = segmentation_df.iloc[i]\n",
    "        if pd.notna(test['segment_fine.rt']):\n",
    "            bds = ast.literal_eval(test['segment_fine.rt'])\n",
    "            bds = [x for x in bds if x >= 0]\n",
    "            testdf = pd.DataFrame(({'boundaries':bds}))\n",
    "            testdf['boundary_id'] = list(range(1, len(bds)+1))\n",
    "            testdf['grain'] = 'fine'\n",
    "            testdf['sub'] = test['sub']\n",
    "            testdf['order'] = test['order']\n",
    "            testdf['movie'] = test['movie']   \n",
    "            segmentation_df_long = pd.concat([segmentation_df_long,testdf],ignore_index=True)\n",
    "        elif pd.notna(test['segment_coarse.rt']):\n",
    "            bds = ast.literal_eval(test['segment_coarse.rt'])\n",
    "            bds = [x for x in bds if x >= 0]\n",
    "            testdf = pd.DataFrame(({'boundaries':bds}))\n",
    "            testdf['boundary_id'] = list(range(1, len(bds)+1))\n",
    "            testdf['grain'] = 'coarse'\n",
    "            testdf['sub'] = test['sub']\n",
    "            testdf['order'] = test['order']\n",
    "            testdf['movie'] = test['movie'] \n",
    "            segmentation_df_long = pd.concat([segmentation_df_long,testdf],ignore_index=True)\n",
    "        i+=1\n",
    "    return segmentation_df_long"
   ]
  },
  {
   "cell_type": "code",
   "execution_count": 21,
   "metadata": {},
   "outputs": [
    {
     "data": {
      "text/html": [
       "<div>\n",
       "<style scoped>\n",
       "    .dataframe tbody tr th:only-of-type {\n",
       "        vertical-align: middle;\n",
       "    }\n",
       "\n",
       "    .dataframe tbody tr th {\n",
       "        vertical-align: top;\n",
       "    }\n",
       "\n",
       "    .dataframe thead th {\n",
       "        text-align: right;\n",
       "    }\n",
       "</style>\n",
       "<table border=\"1\" class=\"dataframe\">\n",
       "  <thead>\n",
       "    <tr style=\"text-align: right;\">\n",
       "      <th></th>\n",
       "      <th>boundaries</th>\n",
       "      <th>boundary_id</th>\n",
       "      <th>grain</th>\n",
       "      <th>sub</th>\n",
       "      <th>order</th>\n",
       "      <th>movie</th>\n",
       "    </tr>\n",
       "  </thead>\n",
       "  <tbody>\n",
       "    <tr>\n",
       "      <th>0</th>\n",
       "      <td>82.442450</td>\n",
       "      <td>1</td>\n",
       "      <td>fine</td>\n",
       "      <td>e152003</td>\n",
       "      <td>coarse_fine</td>\n",
       "      <td>1.2.3</td>\n",
       "    </tr>\n",
       "    <tr>\n",
       "      <th>1</th>\n",
       "      <td>153.634449</td>\n",
       "      <td>2</td>\n",
       "      <td>fine</td>\n",
       "      <td>e152003</td>\n",
       "      <td>coarse_fine</td>\n",
       "      <td>1.2.3</td>\n",
       "    </tr>\n",
       "    <tr>\n",
       "      <th>2</th>\n",
       "      <td>275.714474</td>\n",
       "      <td>3</td>\n",
       "      <td>fine</td>\n",
       "      <td>e152003</td>\n",
       "      <td>coarse_fine</td>\n",
       "      <td>1.2.3</td>\n",
       "    </tr>\n",
       "    <tr>\n",
       "      <th>3</th>\n",
       "      <td>346.298503</td>\n",
       "      <td>4</td>\n",
       "      <td>fine</td>\n",
       "      <td>e152003</td>\n",
       "      <td>coarse_fine</td>\n",
       "      <td>1.2.3</td>\n",
       "    </tr>\n",
       "    <tr>\n",
       "      <th>4</th>\n",
       "      <td>440.986492</td>\n",
       "      <td>5</td>\n",
       "      <td>fine</td>\n",
       "      <td>e152003</td>\n",
       "      <td>coarse_fine</td>\n",
       "      <td>1.2.3</td>\n",
       "    </tr>\n",
       "    <tr>\n",
       "      <th>...</th>\n",
       "      <td>...</td>\n",
       "      <td>...</td>\n",
       "      <td>...</td>\n",
       "      <td>...</td>\n",
       "      <td>...</td>\n",
       "      <td>...</td>\n",
       "    </tr>\n",
       "    <tr>\n",
       "      <th>2807</th>\n",
       "      <td>215.582213</td>\n",
       "      <td>1</td>\n",
       "      <td>fine</td>\n",
       "      <td>e152029</td>\n",
       "      <td>coarse_fine</td>\n",
       "      <td>2.4.1</td>\n",
       "    </tr>\n",
       "    <tr>\n",
       "      <th>2808</th>\n",
       "      <td>321.686243</td>\n",
       "      <td>2</td>\n",
       "      <td>fine</td>\n",
       "      <td>e152029</td>\n",
       "      <td>coarse_fine</td>\n",
       "      <td>2.4.1</td>\n",
       "    </tr>\n",
       "    <tr>\n",
       "      <th>2809</th>\n",
       "      <td>402.142240</td>\n",
       "      <td>3</td>\n",
       "      <td>fine</td>\n",
       "      <td>e152029</td>\n",
       "      <td>coarse_fine</td>\n",
       "      <td>2.4.1</td>\n",
       "    </tr>\n",
       "    <tr>\n",
       "      <th>2810</th>\n",
       "      <td>533.038285</td>\n",
       "      <td>4</td>\n",
       "      <td>fine</td>\n",
       "      <td>e152029</td>\n",
       "      <td>coarse_fine</td>\n",
       "      <td>2.4.1</td>\n",
       "    </tr>\n",
       "    <tr>\n",
       "      <th>2811</th>\n",
       "      <td>632.262256</td>\n",
       "      <td>5</td>\n",
       "      <td>fine</td>\n",
       "      <td>e152029</td>\n",
       "      <td>coarse_fine</td>\n",
       "      <td>2.4.1</td>\n",
       "    </tr>\n",
       "  </tbody>\n",
       "</table>\n",
       "<p>2812 rows × 6 columns</p>\n",
       "</div>"
      ],
      "text/plain": [
       "      boundaries  boundary_id grain      sub        order  movie\n",
       "0      82.442450            1  fine  e152003  coarse_fine  1.2.3\n",
       "1     153.634449            2  fine  e152003  coarse_fine  1.2.3\n",
       "2     275.714474            3  fine  e152003  coarse_fine  1.2.3\n",
       "3     346.298503            4  fine  e152003  coarse_fine  1.2.3\n",
       "4     440.986492            5  fine  e152003  coarse_fine  1.2.3\n",
       "...          ...          ...   ...      ...          ...    ...\n",
       "2807  215.582213            1  fine  e152029  coarse_fine  2.4.1\n",
       "2808  321.686243            2  fine  e152029  coarse_fine  2.4.1\n",
       "2809  402.142240            3  fine  e152029  coarse_fine  2.4.1\n",
       "2810  533.038285            4  fine  e152029  coarse_fine  2.4.1\n",
       "2811  632.262256            5  fine  e152029  coarse_fine  2.4.1\n",
       "\n",
       "[2812 rows x 6 columns]"
      ]
     },
     "execution_count": 21,
     "metadata": {},
     "output_type": "execute_result"
    }
   ],
   "source": [
    "segdf_long = expand_list(segdf)\n",
    "segdf_long"
   ]
  },
  {
   "cell_type": "code",
   "execution_count": 22,
   "metadata": {},
   "outputs": [
    {
     "data": {
      "text/html": [
       "<div>\n",
       "<style scoped>\n",
       "    .dataframe tbody tr th:only-of-type {\n",
       "        vertical-align: middle;\n",
       "    }\n",
       "\n",
       "    .dataframe tbody tr th {\n",
       "        vertical-align: top;\n",
       "    }\n",
       "\n",
       "    .dataframe thead th {\n",
       "        text-align: right;\n",
       "    }\n",
       "</style>\n",
       "<table border=\"1\" class=\"dataframe\">\n",
       "  <thead>\n",
       "    <tr style=\"text-align: right;\">\n",
       "      <th></th>\n",
       "      <th>boundaries</th>\n",
       "      <th>boundary_id</th>\n",
       "      <th>grain</th>\n",
       "      <th>sub</th>\n",
       "      <th>order</th>\n",
       "      <th>movie</th>\n",
       "    </tr>\n",
       "  </thead>\n",
       "  <tbody>\n",
       "    <tr>\n",
       "      <th>0</th>\n",
       "      <td>81.224652</td>\n",
       "      <td>1</td>\n",
       "      <td>coarse</td>\n",
       "      <td>e152007</td>\n",
       "      <td>coarse_fine</td>\n",
       "      <td>1.2.3</td>\n",
       "    </tr>\n",
       "    <tr>\n",
       "      <th>1</th>\n",
       "      <td>152.480626</td>\n",
       "      <td>2</td>\n",
       "      <td>coarse</td>\n",
       "      <td>e152007</td>\n",
       "      <td>coarse_fine</td>\n",
       "      <td>1.2.3</td>\n",
       "    </tr>\n",
       "    <tr>\n",
       "      <th>2</th>\n",
       "      <td>275.136678</td>\n",
       "      <td>3</td>\n",
       "      <td>coarse</td>\n",
       "      <td>e152007</td>\n",
       "      <td>coarse_fine</td>\n",
       "      <td>1.2.3</td>\n",
       "    </tr>\n",
       "    <tr>\n",
       "      <th>3</th>\n",
       "      <td>341.248664</td>\n",
       "      <td>4</td>\n",
       "      <td>coarse</td>\n",
       "      <td>e152007</td>\n",
       "      <td>coarse_fine</td>\n",
       "      <td>1.2.3</td>\n",
       "    </tr>\n",
       "    <tr>\n",
       "      <th>4</th>\n",
       "      <td>429.088706</td>\n",
       "      <td>5</td>\n",
       "      <td>coarse</td>\n",
       "      <td>e152007</td>\n",
       "      <td>coarse_fine</td>\n",
       "      <td>1.2.3</td>\n",
       "    </tr>\n",
       "    <tr>\n",
       "      <th>...</th>\n",
       "      <td>...</td>\n",
       "      <td>...</td>\n",
       "      <td>...</td>\n",
       "      <td>...</td>\n",
       "      <td>...</td>\n",
       "      <td>...</td>\n",
       "    </tr>\n",
       "    <tr>\n",
       "      <th>2807</th>\n",
       "      <td>509.424135</td>\n",
       "      <td>2</td>\n",
       "      <td>coarse</td>\n",
       "      <td>e152043</td>\n",
       "      <td>fine_coarse</td>\n",
       "      <td>3.1.3</td>\n",
       "    </tr>\n",
       "    <tr>\n",
       "      <th>2808</th>\n",
       "      <td>568.336149</td>\n",
       "      <td>3</td>\n",
       "      <td>coarse</td>\n",
       "      <td>e152043</td>\n",
       "      <td>fine_coarse</td>\n",
       "      <td>3.1.3</td>\n",
       "    </tr>\n",
       "    <tr>\n",
       "      <th>2809</th>\n",
       "      <td>190.118582</td>\n",
       "      <td>1</td>\n",
       "      <td>coarse</td>\n",
       "      <td>e152043</td>\n",
       "      <td>fine_coarse</td>\n",
       "      <td>2.4.1</td>\n",
       "    </tr>\n",
       "    <tr>\n",
       "      <th>2810</th>\n",
       "      <td>227.550553</td>\n",
       "      <td>2</td>\n",
       "      <td>coarse</td>\n",
       "      <td>e152043</td>\n",
       "      <td>fine_coarse</td>\n",
       "      <td>2.4.1</td>\n",
       "    </tr>\n",
       "    <tr>\n",
       "      <th>2811</th>\n",
       "      <td>635.662629</td>\n",
       "      <td>3</td>\n",
       "      <td>coarse</td>\n",
       "      <td>e152043</td>\n",
       "      <td>fine_coarse</td>\n",
       "      <td>2.4.1</td>\n",
       "    </tr>\n",
       "  </tbody>\n",
       "</table>\n",
       "<p>2812 rows × 6 columns</p>\n",
       "</div>"
      ],
      "text/plain": [
       "      boundaries  boundary_id   grain      sub        order  movie\n",
       "0      81.224652            1  coarse  e152007  coarse_fine  1.2.3\n",
       "1     152.480626            2  coarse  e152007  coarse_fine  1.2.3\n",
       "2     275.136678            3  coarse  e152007  coarse_fine  1.2.3\n",
       "3     341.248664            4  coarse  e152007  coarse_fine  1.2.3\n",
       "4     429.088706            5  coarse  e152007  coarse_fine  1.2.3\n",
       "...          ...          ...     ...      ...          ...    ...\n",
       "2807  509.424135            2  coarse  e152043  fine_coarse  3.1.3\n",
       "2808  568.336149            3  coarse  e152043  fine_coarse  3.1.3\n",
       "2809  190.118582            1  coarse  e152043  fine_coarse  2.4.1\n",
       "2810  227.550553            2  coarse  e152043  fine_coarse  2.4.1\n",
       "2811  635.662629            3  coarse  e152043  fine_coarse  2.4.1\n",
       "\n",
       "[2812 rows x 6 columns]"
      ]
     },
     "execution_count": 22,
     "metadata": {},
     "output_type": "execute_result"
    }
   ],
   "source": [
    "segmentation_df_long = expand_list(segmentation_df)\n",
    "segmentation_df_long"
   ]
  },
  {
   "cell_type": "code",
   "execution_count": 23,
   "metadata": {},
   "outputs": [],
   "source": [
    "# sort each dataframe by sub and movie and boundary_id\n",
    "segdf_long = segdf_long.sort_values(by=['sub', 'movie', 'boundary_id'])\n",
    "segmentation_df_long = segmentation_df_long.sort_values(by=['sub', 'movie', 'boundary_id'])"
   ]
  },
  {
   "cell_type": "code",
   "execution_count": 25,
   "metadata": {},
   "outputs": [
    {
     "data": {
      "text/html": [
       "<div>\n",
       "<style scoped>\n",
       "    .dataframe tbody tr th:only-of-type {\n",
       "        vertical-align: middle;\n",
       "    }\n",
       "\n",
       "    .dataframe tbody tr th {\n",
       "        vertical-align: top;\n",
       "    }\n",
       "\n",
       "    .dataframe thead th {\n",
       "        text-align: right;\n",
       "    }\n",
       "</style>\n",
       "<table border=\"1\" class=\"dataframe\">\n",
       "  <thead>\n",
       "    <tr style=\"text-align: right;\">\n",
       "      <th></th>\n",
       "      <th>boundaries</th>\n",
       "      <th>boundary_id</th>\n",
       "      <th>grain</th>\n",
       "      <th>sub</th>\n",
       "      <th>order</th>\n",
       "      <th>movie</th>\n",
       "    </tr>\n",
       "  </thead>\n",
       "  <tbody>\n",
       "    <tr>\n",
       "      <th>2660</th>\n",
       "      <td>82.442450</td>\n",
       "      <td>1</td>\n",
       "      <td>fine</td>\n",
       "      <td>e152003</td>\n",
       "      <td>fine</td>\n",
       "      <td>1.2.3</td>\n",
       "    </tr>\n",
       "    <tr>\n",
       "      <th>2661</th>\n",
       "      <td>153.634449</td>\n",
       "      <td>2</td>\n",
       "      <td>fine</td>\n",
       "      <td>e152003</td>\n",
       "      <td>fine</td>\n",
       "      <td>1.2.3</td>\n",
       "    </tr>\n",
       "    <tr>\n",
       "      <th>2662</th>\n",
       "      <td>275.714474</td>\n",
       "      <td>3</td>\n",
       "      <td>fine</td>\n",
       "      <td>e152003</td>\n",
       "      <td>fine</td>\n",
       "      <td>1.2.3</td>\n",
       "    </tr>\n",
       "    <tr>\n",
       "      <th>2663</th>\n",
       "      <td>346.298503</td>\n",
       "      <td>4</td>\n",
       "      <td>fine</td>\n",
       "      <td>e152003</td>\n",
       "      <td>fine</td>\n",
       "      <td>1.2.3</td>\n",
       "    </tr>\n",
       "    <tr>\n",
       "      <th>2664</th>\n",
       "      <td>440.986492</td>\n",
       "      <td>5</td>\n",
       "      <td>fine</td>\n",
       "      <td>e152003</td>\n",
       "      <td>fine</td>\n",
       "      <td>1.2.3</td>\n",
       "    </tr>\n",
       "    <tr>\n",
       "      <th>...</th>\n",
       "      <td>...</td>\n",
       "      <td>...</td>\n",
       "      <td>...</td>\n",
       "      <td>...</td>\n",
       "      <td>...</td>\n",
       "      <td>...</td>\n",
       "    </tr>\n",
       "    <tr>\n",
       "      <th>2717</th>\n",
       "      <td>270.492366</td>\n",
       "      <td>2</td>\n",
       "      <td>fine</td>\n",
       "      <td>e152053</td>\n",
       "      <td>fine_coarse</td>\n",
       "      <td>6.3.9</td>\n",
       "    </tr>\n",
       "    <tr>\n",
       "      <th>2718</th>\n",
       "      <td>307.124340</td>\n",
       "      <td>3</td>\n",
       "      <td>fine</td>\n",
       "      <td>e152053</td>\n",
       "      <td>fine_coarse</td>\n",
       "      <td>6.3.9</td>\n",
       "    </tr>\n",
       "    <tr>\n",
       "      <th>2719</th>\n",
       "      <td>417.764381</td>\n",
       "      <td>4</td>\n",
       "      <td>fine</td>\n",
       "      <td>e152053</td>\n",
       "      <td>fine_coarse</td>\n",
       "      <td>6.3.9</td>\n",
       "    </tr>\n",
       "    <tr>\n",
       "      <th>2720</th>\n",
       "      <td>525.004402</td>\n",
       "      <td>5</td>\n",
       "      <td>fine</td>\n",
       "      <td>e152053</td>\n",
       "      <td>fine_coarse</td>\n",
       "      <td>6.3.9</td>\n",
       "    </tr>\n",
       "    <tr>\n",
       "      <th>2721</th>\n",
       "      <td>669.740420</td>\n",
       "      <td>6</td>\n",
       "      <td>fine</td>\n",
       "      <td>e152053</td>\n",
       "      <td>fine_coarse</td>\n",
       "      <td>6.3.9</td>\n",
       "    </tr>\n",
       "  </tbody>\n",
       "</table>\n",
       "<p>2812 rows × 6 columns</p>\n",
       "</div>"
      ],
      "text/plain": [
       "      boundaries  boundary_id grain      sub        order  movie\n",
       "2660   82.442450            1  fine  e152003         fine  1.2.3\n",
       "2661  153.634449            2  fine  e152003         fine  1.2.3\n",
       "2662  275.714474            3  fine  e152003         fine  1.2.3\n",
       "2663  346.298503            4  fine  e152003         fine  1.2.3\n",
       "2664  440.986492            5  fine  e152003         fine  1.2.3\n",
       "...          ...          ...   ...      ...          ...    ...\n",
       "2717  270.492366            2  fine  e152053  fine_coarse  6.3.9\n",
       "2718  307.124340            3  fine  e152053  fine_coarse  6.3.9\n",
       "2719  417.764381            4  fine  e152053  fine_coarse  6.3.9\n",
       "2720  525.004402            5  fine  e152053  fine_coarse  6.3.9\n",
       "2721  669.740420            6  fine  e152053  fine_coarse  6.3.9\n",
       "\n",
       "[2812 rows x 6 columns]"
      ]
     },
     "execution_count": 25,
     "metadata": {},
     "output_type": "execute_result"
    }
   ],
   "source": [
    "segmentation_df_long"
   ]
  },
  {
   "cell_type": "code",
   "execution_count": 26,
   "metadata": {},
   "outputs": [
    {
     "data": {
      "text/html": [
       "<div>\n",
       "<style scoped>\n",
       "    .dataframe tbody tr th:only-of-type {\n",
       "        vertical-align: middle;\n",
       "    }\n",
       "\n",
       "    .dataframe tbody tr th {\n",
       "        vertical-align: top;\n",
       "    }\n",
       "\n",
       "    .dataframe thead th {\n",
       "        text-align: right;\n",
       "    }\n",
       "</style>\n",
       "<table border=\"1\" class=\"dataframe\">\n",
       "  <thead>\n",
       "    <tr style=\"text-align: right;\">\n",
       "      <th></th>\n",
       "      <th>boundaries</th>\n",
       "      <th>boundary_id</th>\n",
       "      <th>grain</th>\n",
       "      <th>sub</th>\n",
       "      <th>order</th>\n",
       "      <th>movie</th>\n",
       "    </tr>\n",
       "  </thead>\n",
       "  <tbody>\n",
       "    <tr>\n",
       "      <th>0</th>\n",
       "      <td>82.442450</td>\n",
       "      <td>1</td>\n",
       "      <td>fine</td>\n",
       "      <td>e152003</td>\n",
       "      <td>coarse_fine</td>\n",
       "      <td>1.2.3</td>\n",
       "    </tr>\n",
       "    <tr>\n",
       "      <th>1</th>\n",
       "      <td>153.634449</td>\n",
       "      <td>2</td>\n",
       "      <td>fine</td>\n",
       "      <td>e152003</td>\n",
       "      <td>coarse_fine</td>\n",
       "      <td>1.2.3</td>\n",
       "    </tr>\n",
       "    <tr>\n",
       "      <th>2</th>\n",
       "      <td>275.714474</td>\n",
       "      <td>3</td>\n",
       "      <td>fine</td>\n",
       "      <td>e152003</td>\n",
       "      <td>coarse_fine</td>\n",
       "      <td>1.2.3</td>\n",
       "    </tr>\n",
       "    <tr>\n",
       "      <th>3</th>\n",
       "      <td>346.298503</td>\n",
       "      <td>4</td>\n",
       "      <td>fine</td>\n",
       "      <td>e152003</td>\n",
       "      <td>coarse_fine</td>\n",
       "      <td>1.2.3</td>\n",
       "    </tr>\n",
       "    <tr>\n",
       "      <th>4</th>\n",
       "      <td>440.986492</td>\n",
       "      <td>5</td>\n",
       "      <td>fine</td>\n",
       "      <td>e152003</td>\n",
       "      <td>coarse_fine</td>\n",
       "      <td>1.2.3</td>\n",
       "    </tr>\n",
       "    <tr>\n",
       "      <th>...</th>\n",
       "      <td>...</td>\n",
       "      <td>...</td>\n",
       "      <td>...</td>\n",
       "      <td>...</td>\n",
       "      <td>...</td>\n",
       "      <td>...</td>\n",
       "    </tr>\n",
       "    <tr>\n",
       "      <th>2663</th>\n",
       "      <td>270.492366</td>\n",
       "      <td>2</td>\n",
       "      <td>fine</td>\n",
       "      <td>e152053</td>\n",
       "      <td>fine_coarse</td>\n",
       "      <td>6.3.9</td>\n",
       "    </tr>\n",
       "    <tr>\n",
       "      <th>2664</th>\n",
       "      <td>307.124340</td>\n",
       "      <td>3</td>\n",
       "      <td>fine</td>\n",
       "      <td>e152053</td>\n",
       "      <td>fine_coarse</td>\n",
       "      <td>6.3.9</td>\n",
       "    </tr>\n",
       "    <tr>\n",
       "      <th>2665</th>\n",
       "      <td>417.764381</td>\n",
       "      <td>4</td>\n",
       "      <td>fine</td>\n",
       "      <td>e152053</td>\n",
       "      <td>fine_coarse</td>\n",
       "      <td>6.3.9</td>\n",
       "    </tr>\n",
       "    <tr>\n",
       "      <th>2666</th>\n",
       "      <td>525.004402</td>\n",
       "      <td>5</td>\n",
       "      <td>fine</td>\n",
       "      <td>e152053</td>\n",
       "      <td>fine_coarse</td>\n",
       "      <td>6.3.9</td>\n",
       "    </tr>\n",
       "    <tr>\n",
       "      <th>2667</th>\n",
       "      <td>669.740420</td>\n",
       "      <td>6</td>\n",
       "      <td>fine</td>\n",
       "      <td>e152053</td>\n",
       "      <td>fine_coarse</td>\n",
       "      <td>6.3.9</td>\n",
       "    </tr>\n",
       "  </tbody>\n",
       "</table>\n",
       "<p>2812 rows × 6 columns</p>\n",
       "</div>"
      ],
      "text/plain": [
       "      boundaries  boundary_id grain      sub        order  movie\n",
       "0      82.442450            1  fine  e152003  coarse_fine  1.2.3\n",
       "1     153.634449            2  fine  e152003  coarse_fine  1.2.3\n",
       "2     275.714474            3  fine  e152003  coarse_fine  1.2.3\n",
       "3     346.298503            4  fine  e152003  coarse_fine  1.2.3\n",
       "4     440.986492            5  fine  e152003  coarse_fine  1.2.3\n",
       "...          ...          ...   ...      ...          ...    ...\n",
       "2663  270.492366            2  fine  e152053  fine_coarse  6.3.9\n",
       "2664  307.124340            3  fine  e152053  fine_coarse  6.3.9\n",
       "2665  417.764381            4  fine  e152053  fine_coarse  6.3.9\n",
       "2666  525.004402            5  fine  e152053  fine_coarse  6.3.9\n",
       "2667  669.740420            6  fine  e152053  fine_coarse  6.3.9\n",
       "\n",
       "[2812 rows x 6 columns]"
      ]
     },
     "execution_count": 26,
     "metadata": {},
     "output_type": "execute_result"
    }
   ],
   "source": [
    "segdf_long"
   ]
  },
  {
   "cell_type": "code",
   "execution_count": 31,
   "metadata": {},
   "outputs": [
    {
     "data": {
      "text/plain": [
       "(2812, 2812)"
      ]
     },
     "execution_count": 31,
     "metadata": {},
     "output_type": "execute_result"
    }
   ],
   "source": [
    "assert sum(np.array(segdf_long['boundaries']) == np.array(segdf_long['boundaries'])) == len(segmentation_df_long)\n",
    "sum(np.array(segdf_long['boundaries']) == np.array(segdf_long['boundaries'])), len(segdf_long)"
   ]
  }
 ],
 "metadata": {
  "kernelspec": {
   "display_name": "schema-rpy2",
   "language": "python",
   "name": "python3"
  },
  "language_info": {
   "codemirror_mode": {
    "name": "ipython",
    "version": 3
   },
   "file_extension": ".py",
   "mimetype": "text/x-python",
   "name": "python",
   "nbconvert_exporter": "python",
   "pygments_lexer": "ipython3",
   "version": "3.7.13"
  },
  "orig_nbformat": 4
 },
 "nbformat": 4,
 "nbformat_minor": 2
}
